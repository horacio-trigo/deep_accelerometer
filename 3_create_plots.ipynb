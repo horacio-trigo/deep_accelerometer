{
 "cells": [
  {
   "cell_type": "code",
   "execution_count": 12,
   "metadata": {},
   "outputs": [],
   "source": [
    "from os import getcwd, listdir, mkdir\n",
    "from os.path import join, exists\n",
    "import matplotlib.pyplot as plt\n",
    "import seaborn as sns\n",
    "import pandas as pd\n",
    "import numpy as np\n",
    "import matplotlib\n",
    "import threading\n",
    "import warnings"
   ]
  },
  {
   "cell_type": "code",
   "execution_count": 13,
   "metadata": {},
   "outputs": [],
   "source": [
    "warnings.filterwarnings(\"ignore\")\n",
    "matplotlib.use('Agg')"
   ]
  },
  {
   "cell_type": "code",
   "execution_count": 14,
   "metadata": {},
   "outputs": [],
   "source": [
    "def print_dtypes(location):\n",
    "    frame = pd.read_csv(location)\n",
    "    print(frame.dtypes.value_counts())\n",
    "    print()"
   ]
  },
  {
   "cell_type": "code",
   "execution_count": 15,
   "metadata": {},
   "outputs": [],
   "source": [
    "data_location = join(getcwd(), \"data\")\n",
    "csv_location = join(data_location, \"csv\")"
   ]
  },
  {
   "cell_type": "code",
   "execution_count": 16,
   "metadata": {},
   "outputs": [],
   "source": [
    "files = [(folder, file_location) for folder in listdir(csv_location) for file_location in listdir(join(csv_location, folder))]"
   ]
  },
  {
   "cell_type": "code",
   "execution_count": 17,
   "metadata": {},
   "outputs": [],
   "source": [
    "graph_location = join(data_location, \"graphs\")\n",
    "if not exists(graph_location):\n",
    "    mkdir(graph_location)\n",
    "\n",
    "distribution_location = join(graph_location, \"distribution\")\n",
    "if not exists(distribution_location):\n",
    "    mkdir(distribution_location)"
   ]
  },
  {
   "cell_type": "code",
   "execution_count": 18,
   "metadata": {},
   "outputs": [],
   "source": [
    "def get_distributions(folder, location, name):\n",
    "    frame = pd.read_csv(join(csv_location, folder, name))\n",
    "\n",
    "    numerical = frame.select_dtypes(include=np.number)\n",
    "    categorical = frame.select_dtypes(exclude=np.number)\n",
    "\n",
    "    for column in numerical.columns:\n",
    "        try:\n",
    "            fig, (ax1, ax2) = plt.subplots(1, 2)\n",
    "            ax1.set_title(\"Skewness:\" + str(round(numerical[column].skew(), 2)))\n",
    "            sns.distplot(numerical[column], ax=ax1)\n",
    "            ax1.set_ylabel('count')\n",
    "            sns.boxplot(x=numerical[column], ax=ax2)\n",
    "            fig.savefig(join(location, \"numerical\", column) + \".jpg\", dpi=400, format=\"jpeg\")\n",
    "        except:\n",
    "            continue\n",
    "        finally: \n",
    "            plt.close(fig)\n",
    "    for column in categorical.columns:\n",
    "        try:\n",
    "            fig, ax = plt.subplot(1, 1)\n",
    "            plt.set_title()\n",
    "            sns.countplot(categorical, x=column, ax=ax)\n",
    "            fig.savefig(join(location, \"categorical\", column) + \".jpg\", dpi=400, format=\"jpeg\")\n",
    "        except:\n",
    "            continue\n",
    "        finally: \n",
    "            plt.close(fig)"
   ]
  },
  {
   "cell_type": "code",
   "execution_count": 19,
   "metadata": {},
   "outputs": [],
   "source": [
    "threads = []\n",
    "\n",
    "for folder, name in files:\n",
    "    if not exists(join(distribution_location, folder)):\n",
    "        mkdir(join(distribution_location, folder))\n",
    "    try:\n",
    "        number = name.split(\"_\")[1].split(\".\")[0]\n",
    "        # number = name.split(\".\")[0]\n",
    "        file_location = join(distribution_location, folder, number)\n",
    "        if not exists(file_location):\n",
    "            mkdir(file_location)\n",
    "            mkdir(join(file_location, \"numerical\"))\n",
    "            mkdir(join(file_location, \"categorical\"))\n",
    "\n",
    "        x = threading.Thread(target=get_distributions, args=(folder, file_location, name))\n",
    "        threads.append(x)\n",
    "        x.start()\n",
    "    except:\n",
    "        continue\n",
    "\n",
    "for thread in threads:\n",
    "    thread.join()"
   ]
  }
 ],
 "metadata": {
  "kernelspec": {
   "display_name": ".environment",
   "language": "python",
   "name": "python3"
  },
  "language_info": {
   "codemirror_mode": {
    "name": "ipython",
    "version": 3
   },
   "file_extension": ".py",
   "mimetype": "text/x-python",
   "name": "python",
   "nbconvert_exporter": "python",
   "pygments_lexer": "ipython3",
   "version": "3.10.10"
  },
  "orig_nbformat": 4
 },
 "nbformat": 4,
 "nbformat_minor": 2
}
