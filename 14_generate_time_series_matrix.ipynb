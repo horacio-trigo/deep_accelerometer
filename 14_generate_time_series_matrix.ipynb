{
 "cells": [
  {
   "cell_type": "code",
   "execution_count": 13,
   "metadata": {},
   "outputs": [],
   "source": [
    "import pandas as pd\n",
    "from os import getcwd, listdir\n",
    "from os.path import join\n",
    "import numpy as np\n",
    "import seaborn as sns\n",
    "import matplotlib.pyplot as plt\n",
    "import matplotlib.ticker as ticker"
   ]
  },
  {
   "cell_type": "markdown",
   "metadata": {},
   "source": [
    "## 1. Load NHANES 2013-2014 Physical Activity Monitor Data"
   ]
  },
  {
   "cell_type": "markdown",
   "metadata": {},
   "source": [
    "The file \"paxmin_h.xpt\" can be downloaded from the NHANES website: https://wwwn.cdc.gov/Nchs/Nhanes/2013-2014/PAXMIN_H.XPT"
   ]
  },
  {
   "cell_type": "code",
   "execution_count": 3,
   "metadata": {},
   "outputs": [],
   "source": [
    "paxmin = pd.read_sas(join(getcwd(), \"data\", \"xpt\", \"Examination\", \"paxmin_h.xpt\"))"
   ]
  },
  {
   "cell_type": "code",
   "execution_count": 4,
   "metadata": {},
   "outputs": [
    {
     "data": {
      "text/html": [
       "<div>\n",
       "<style scoped>\n",
       "    .dataframe tbody tr th:only-of-type {\n",
       "        vertical-align: middle;\n",
       "    }\n",
       "\n",
       "    .dataframe tbody tr th {\n",
       "        vertical-align: top;\n",
       "    }\n",
       "\n",
       "    .dataframe thead th {\n",
       "        text-align: right;\n",
       "    }\n",
       "</style>\n",
       "<table border=\"1\" class=\"dataframe\">\n",
       "  <thead>\n",
       "    <tr style=\"text-align: right;\">\n",
       "      <th></th>\n",
       "      <th>SEQN</th>\n",
       "      <th>PAXDAYM</th>\n",
       "      <th>PAXDAYWM</th>\n",
       "      <th>PAXSSNMP</th>\n",
       "      <th>PAXTSM</th>\n",
       "      <th>PAXAISMM</th>\n",
       "      <th>PAXMTSM</th>\n",
       "      <th>PAXMXM</th>\n",
       "      <th>PAXMYM</th>\n",
       "      <th>PAXMZM</th>\n",
       "      <th>PAXPREDM</th>\n",
       "      <th>PAXTRANM</th>\n",
       "      <th>PAXLXSM</th>\n",
       "      <th>PAXLXSDM</th>\n",
       "      <th>PAXQFM</th>\n",
       "      <th>PAXFLGSM</th>\n",
       "    </tr>\n",
       "  </thead>\n",
       "  <tbody>\n",
       "    <tr>\n",
       "      <th>0</th>\n",
       "      <td>73557.0</td>\n",
       "      <td>b'1'</td>\n",
       "      <td>b'3'</td>\n",
       "      <td>5.397605e-79</td>\n",
       "      <td>60.0</td>\n",
       "      <td>5.397605e-79</td>\n",
       "      <td>17.112</td>\n",
       "      <td>6.785</td>\n",
       "      <td>3.513</td>\n",
       "      <td>6.814</td>\n",
       "      <td>b'1'</td>\n",
       "      <td>b'0'</td>\n",
       "      <td>1755.17</td>\n",
       "      <td>884.07</td>\n",
       "      <td>5.397605e-79</td>\n",
       "      <td>b''</td>\n",
       "    </tr>\n",
       "    <tr>\n",
       "      <th>1</th>\n",
       "      <td>73557.0</td>\n",
       "      <td>b'1'</td>\n",
       "      <td>b'3'</td>\n",
       "      <td>4.800000e+03</td>\n",
       "      <td>60.0</td>\n",
       "      <td>5.397605e-79</td>\n",
       "      <td>14.366</td>\n",
       "      <td>5.222</td>\n",
       "      <td>4.117</td>\n",
       "      <td>5.027</td>\n",
       "      <td>b'1'</td>\n",
       "      <td>b'0'</td>\n",
       "      <td>2267.79</td>\n",
       "      <td>441.48</td>\n",
       "      <td>5.397605e-79</td>\n",
       "      <td>b''</td>\n",
       "    </tr>\n",
       "    <tr>\n",
       "      <th>2</th>\n",
       "      <td>73557.0</td>\n",
       "      <td>b'1'</td>\n",
       "      <td>b'3'</td>\n",
       "      <td>9.600000e+03</td>\n",
       "      <td>60.0</td>\n",
       "      <td>5.397605e-79</td>\n",
       "      <td>5.856</td>\n",
       "      <td>1.588</td>\n",
       "      <td>2.160</td>\n",
       "      <td>2.108</td>\n",
       "      <td>b'1'</td>\n",
       "      <td>b'0'</td>\n",
       "      <td>2464.71</td>\n",
       "      <td>253.51</td>\n",
       "      <td>5.397605e-79</td>\n",
       "      <td>b''</td>\n",
       "    </tr>\n",
       "    <tr>\n",
       "      <th>3</th>\n",
       "      <td>73557.0</td>\n",
       "      <td>b'1'</td>\n",
       "      <td>b'3'</td>\n",
       "      <td>1.440000e+04</td>\n",
       "      <td>60.0</td>\n",
       "      <td>5.397605e-79</td>\n",
       "      <td>13.570</td>\n",
       "      <td>4.482</td>\n",
       "      <td>3.529</td>\n",
       "      <td>5.558</td>\n",
       "      <td>b'1'</td>\n",
       "      <td>b'0'</td>\n",
       "      <td>2419.58</td>\n",
       "      <td>189.84</td>\n",
       "      <td>5.397605e-79</td>\n",
       "      <td>b''</td>\n",
       "    </tr>\n",
       "    <tr>\n",
       "      <th>4</th>\n",
       "      <td>73557.0</td>\n",
       "      <td>b'1'</td>\n",
       "      <td>b'3'</td>\n",
       "      <td>1.920000e+04</td>\n",
       "      <td>60.0</td>\n",
       "      <td>5.397605e-79</td>\n",
       "      <td>10.862</td>\n",
       "      <td>3.619</td>\n",
       "      <td>2.429</td>\n",
       "      <td>4.814</td>\n",
       "      <td>b'1'</td>\n",
       "      <td>b'0'</td>\n",
       "      <td>1877.48</td>\n",
       "      <td>572.88</td>\n",
       "      <td>5.397605e-79</td>\n",
       "      <td>b''</td>\n",
       "    </tr>\n",
       "  </tbody>\n",
       "</table>\n",
       "</div>"
      ],
      "text/plain": [
       "      SEQN PAXDAYM PAXDAYWM      PAXSSNMP  PAXTSM      PAXAISMM  PAXMTSM  \\\n",
       "0  73557.0    b'1'     b'3'  5.397605e-79    60.0  5.397605e-79   17.112   \n",
       "1  73557.0    b'1'     b'3'  4.800000e+03    60.0  5.397605e-79   14.366   \n",
       "2  73557.0    b'1'     b'3'  9.600000e+03    60.0  5.397605e-79    5.856   \n",
       "3  73557.0    b'1'     b'3'  1.440000e+04    60.0  5.397605e-79   13.570   \n",
       "4  73557.0    b'1'     b'3'  1.920000e+04    60.0  5.397605e-79   10.862   \n",
       "\n",
       "   PAXMXM  PAXMYM  PAXMZM PAXPREDM PAXTRANM  PAXLXSM  PAXLXSDM        PAXQFM  \\\n",
       "0   6.785   3.513   6.814     b'1'     b'0'  1755.17    884.07  5.397605e-79   \n",
       "1   5.222   4.117   5.027     b'1'     b'0'  2267.79    441.48  5.397605e-79   \n",
       "2   1.588   2.160   2.108     b'1'     b'0'  2464.71    253.51  5.397605e-79   \n",
       "3   4.482   3.529   5.558     b'1'     b'0'  2419.58    189.84  5.397605e-79   \n",
       "4   3.619   2.429   4.814     b'1'     b'0'  1877.48    572.88  5.397605e-79   \n",
       "\n",
       "  PAXFLGSM  \n",
       "0      b''  \n",
       "1      b''  \n",
       "2      b''  \n",
       "3      b''  \n",
       "4      b''  "
      ]
     },
     "execution_count": 4,
     "metadata": {},
     "output_type": "execute_result"
    }
   ],
   "source": [
    "paxmin.head()"
   ]
  },
  {
   "cell_type": "markdown",
   "metadata": {},
   "source": [
    "Please visit https://wwwn.cdc.gov/Nchs/Nhanes/2013-2014/PAXMIN_H.htm for more information about the dataset.\n",
    "\n",
    "- SEQN - Respondent sequence number\n",
    "- PAXDAYM - Day of PAM measurements for this minute\n",
    "- PAXDAYWM - Day of the week for this minute\n",
    "- PAXSSNMP - Starting sample number for minute\n",
    "- PAXTSM - Total seconds with data for this minute\n",
    "- PAXAISMM - Minute count: 80hz data idle sleep mode\n",
    "- PAXMTSM - MIMS triaxial value for the minute\n",
    "- PAXMXM - MIMS X-axis value for the minute\n",
    "- PAXMYM - MIMS Y-axis value for the minute\n",
    "- PAXMZM - MIMS Z-axis value for the minute\n",
    "- PAXPREDM - Minute wake/sleep/non-wear prediction\n",
    "- PAXTRANM - Transition flag for wake/sleep/non-wear\n",
    "- PAXLXMM - Mean lux value for the minute\n",
    "- PAXLXSDM - Std deviation: lux values in this minute\n",
    "- PAXQFM - Minute sum: data quality flag count\n",
    "- PAXFLGSM - Quality flags triggered"
   ]
  },
  {
   "cell_type": "markdown",
   "metadata": {},
   "source": [
    "## 2. Data Preprocessing"
   ]
  },
  {
   "cell_type": "code",
   "execution_count": 5,
   "metadata": {},
   "outputs": [],
   "source": [
    "paxmin = paxmin.loc[:, ['SEQN', 'PAXDAYM', 'PAXDAYWM', 'PAXMTSM']] # Drop all other columns"
   ]
  },
  {
   "cell_type": "markdown",
   "metadata": {},
   "source": [
    "Solving read_sas bug: https://github.com/pandas-dev/pandas/issues/30051"
   ]
  },
  {
   "cell_type": "code",
   "execution_count": 6,
   "metadata": {},
   "outputs": [],
   "source": [
    "paxmin = paxmin.replace(5.397605346934028e-79,0) "
   ]
  },
  {
   "cell_type": "code",
   "execution_count": 7,
   "metadata": {},
   "outputs": [
    {
     "data": {
      "text/html": [
       "<div>\n",
       "<style scoped>\n",
       "    .dataframe tbody tr th:only-of-type {\n",
       "        vertical-align: middle;\n",
       "    }\n",
       "\n",
       "    .dataframe tbody tr th {\n",
       "        vertical-align: top;\n",
       "    }\n",
       "\n",
       "    .dataframe thead th {\n",
       "        text-align: right;\n",
       "    }\n",
       "</style>\n",
       "<table border=\"1\" class=\"dataframe\">\n",
       "  <thead>\n",
       "    <tr style=\"text-align: right;\">\n",
       "      <th></th>\n",
       "      <th>SEQN</th>\n",
       "      <th>PAXDAYM</th>\n",
       "      <th>PAXDAYWM</th>\n",
       "      <th>PAXMTSM</th>\n",
       "    </tr>\n",
       "  </thead>\n",
       "  <tbody>\n",
       "    <tr>\n",
       "      <th>0</th>\n",
       "      <td>73557.0</td>\n",
       "      <td>b'1'</td>\n",
       "      <td>b'3'</td>\n",
       "      <td>17.112</td>\n",
       "    </tr>\n",
       "    <tr>\n",
       "      <th>1</th>\n",
       "      <td>73557.0</td>\n",
       "      <td>b'1'</td>\n",
       "      <td>b'3'</td>\n",
       "      <td>14.366</td>\n",
       "    </tr>\n",
       "    <tr>\n",
       "      <th>2</th>\n",
       "      <td>73557.0</td>\n",
       "      <td>b'1'</td>\n",
       "      <td>b'3'</td>\n",
       "      <td>5.856</td>\n",
       "    </tr>\n",
       "    <tr>\n",
       "      <th>3</th>\n",
       "      <td>73557.0</td>\n",
       "      <td>b'1'</td>\n",
       "      <td>b'3'</td>\n",
       "      <td>13.570</td>\n",
       "    </tr>\n",
       "    <tr>\n",
       "      <th>4</th>\n",
       "      <td>73557.0</td>\n",
       "      <td>b'1'</td>\n",
       "      <td>b'3'</td>\n",
       "      <td>10.862</td>\n",
       "    </tr>\n",
       "  </tbody>\n",
       "</table>\n",
       "</div>"
      ],
      "text/plain": [
       "      SEQN PAXDAYM PAXDAYWM  PAXMTSM\n",
       "0  73557.0    b'1'     b'3'   17.112\n",
       "1  73557.0    b'1'     b'3'   14.366\n",
       "2  73557.0    b'1'     b'3'    5.856\n",
       "3  73557.0    b'1'     b'3'   13.570\n",
       "4  73557.0    b'1'     b'3'   10.862"
      ]
     },
     "execution_count": 7,
     "metadata": {},
     "output_type": "execute_result"
    }
   ],
   "source": [
    "paxmin.head()"
   ]
  },
  {
   "cell_type": "markdown",
   "metadata": {},
   "source": [
    "read_sas interprets some integers as byte literals, so we need to convert them back to integers\n",
    "\n",
    "https://www.delftstack.com/howto/python/python-b-in-front-of-string/\n",
    "https://www.geeksforgeeks.org/effect-of-b-character-in-front-of-a-string-literal-in-python/"
   ]
  },
  {
   "cell_type": "code",
   "execution_count": 8,
   "metadata": {},
   "outputs": [],
   "source": [
    "columns_to_decode = ['PAXDAYM', 'PAXDAYWM']\n",
    "\n",
    "for column in columns_to_decode:\n",
    "    paxmin[column] = paxmin[column].apply(lambda x: int(x.decode('utf-8')))"
   ]
  },
  {
   "cell_type": "code",
   "execution_count": 9,
   "metadata": {},
   "outputs": [
    {
     "data": {
      "text/html": [
       "<div>\n",
       "<style scoped>\n",
       "    .dataframe tbody tr th:only-of-type {\n",
       "        vertical-align: middle;\n",
       "    }\n",
       "\n",
       "    .dataframe tbody tr th {\n",
       "        vertical-align: top;\n",
       "    }\n",
       "\n",
       "    .dataframe thead th {\n",
       "        text-align: right;\n",
       "    }\n",
       "</style>\n",
       "<table border=\"1\" class=\"dataframe\">\n",
       "  <thead>\n",
       "    <tr style=\"text-align: right;\">\n",
       "      <th></th>\n",
       "      <th>SEQN</th>\n",
       "      <th>PAXDAYM</th>\n",
       "      <th>PAXDAYWM</th>\n",
       "      <th>PAXMTSM</th>\n",
       "    </tr>\n",
       "  </thead>\n",
       "  <tbody>\n",
       "    <tr>\n",
       "      <th>0</th>\n",
       "      <td>73557.0</td>\n",
       "      <td>1</td>\n",
       "      <td>3</td>\n",
       "      <td>17.112</td>\n",
       "    </tr>\n",
       "    <tr>\n",
       "      <th>1</th>\n",
       "      <td>73557.0</td>\n",
       "      <td>1</td>\n",
       "      <td>3</td>\n",
       "      <td>14.366</td>\n",
       "    </tr>\n",
       "    <tr>\n",
       "      <th>2</th>\n",
       "      <td>73557.0</td>\n",
       "      <td>1</td>\n",
       "      <td>3</td>\n",
       "      <td>5.856</td>\n",
       "    </tr>\n",
       "    <tr>\n",
       "      <th>3</th>\n",
       "      <td>73557.0</td>\n",
       "      <td>1</td>\n",
       "      <td>3</td>\n",
       "      <td>13.570</td>\n",
       "    </tr>\n",
       "    <tr>\n",
       "      <th>4</th>\n",
       "      <td>73557.0</td>\n",
       "      <td>1</td>\n",
       "      <td>3</td>\n",
       "      <td>10.862</td>\n",
       "    </tr>\n",
       "  </tbody>\n",
       "</table>\n",
       "</div>"
      ],
      "text/plain": [
       "      SEQN  PAXDAYM  PAXDAYWM  PAXMTSM\n",
       "0  73557.0        1         3   17.112\n",
       "1  73557.0        1         3   14.366\n",
       "2  73557.0        1         3    5.856\n",
       "3  73557.0        1         3   13.570\n",
       "4  73557.0        1         3   10.862"
      ]
     },
     "execution_count": 9,
     "metadata": {},
     "output_type": "execute_result"
    }
   ],
   "source": [
    "paxmin.head()"
   ]
  },
  {
   "cell_type": "markdown",
   "metadata": {},
   "source": [
    "## 3. Understanding the data"
   ]
  },
  {
   "cell_type": "code",
   "execution_count": 44,
   "metadata": {},
   "outputs": [
    {
     "name": "stdout",
     "output_type": "stream",
     "text": [
      "          SEQN  Day  Minutes\n",
      "0      73557.0    1      450\n",
      "1      73557.0    2     1440\n",
      "2      73557.0    3     1440\n",
      "3      73557.0    4     1440\n",
      "4      73557.0    5     1440\n",
      "...        ...  ...      ...\n",
      "69013  83731.0    5     1440\n",
      "69014  83731.0    6     1440\n",
      "69015  83731.0    7     1440\n",
      "69016  83731.0    8     1440\n",
      "69017  83731.0    9      759\n",
      "\n",
      "[69018 rows x 3 columns]\n"
     ]
    }
   ],
   "source": [
    "# Group the paxmin dataframe by SEQN and PAXDAYM, and count the number of rows for each group\n",
    "minutes_per_day = paxmin.groupby(['SEQN', 'PAXDAYM']).size().reset_index(name='Minutes')\n",
    "\n",
    "# Rename the PAXDAYM column to 'Day'\n",
    "minutes_per_day = minutes_per_day.rename(columns={'PAXDAYM': 'Day'})\n",
    "\n",
    "# Print the resulting dataframe\n",
    "print(minutes_per_day)"
   ]
  },
  {
   "cell_type": "code",
   "execution_count": 45,
   "metadata": {},
   "outputs": [
    {
     "name": "stdout",
     "output_type": "stream",
     "text": [
      "         SEQN  Days  Days with < 1440 minutes\n",
      "0     73557.0     9                         2\n",
      "1     73558.0     9                         2\n",
      "2     73559.0     9                         2\n",
      "3     73560.0     9                         2\n",
      "4     73561.0     9                         2\n",
      "...       ...   ...                       ...\n",
      "7771  83725.0     9                         2\n",
      "7772  83727.0     9                         2\n",
      "7773  83729.0     9                         2\n",
      "7774  83730.0     9                         2\n",
      "7775  83731.0     9                         2\n",
      "\n",
      "[7776 rows x 3 columns]\n"
     ]
    }
   ],
   "source": [
    "# Group the minutes_per_day dataframe by SEQN, and compute the number of unique days and the number of days with less than 1440 minutes for each subject\n",
    "days_per_subject = minutes_per_day.groupby('SEQN').agg({'Day': 'nunique', 'Minutes': lambda x: sum(x < 1440)}).reset_index()\n",
    "\n",
    "# Rename the columns\n",
    "days_per_subject = days_per_subject.rename(columns={'Day': 'Days', 'Minutes': 'Days with < 1440 minutes'})\n",
    "\n",
    "# Print the resulting dataframe\n",
    "print(days_per_subject)"
   ]
  },
  {
   "cell_type": "code",
   "execution_count": 51,
   "metadata": {},
   "outputs": [
    {
     "name": "stdout",
     "output_type": "stream",
     "text": [
      "         SEQN  Days  Days with < 1440 minutes\n",
      "0     73557.0     9                         2\n",
      "1     73558.0     9                         2\n",
      "2     73559.0     9                         2\n",
      "3     73560.0     9                         2\n",
      "4     73561.0     9                         2\n",
      "...       ...   ...                       ...\n",
      "7771  83725.0     9                         2\n",
      "7772  83727.0     9                         2\n",
      "7773  83729.0     9                         2\n",
      "7774  83730.0     9                         2\n",
      "7775  83731.0     9                         2\n",
      "\n",
      "[7537 rows x 3 columns]\n"
     ]
    }
   ],
   "source": [
    "# Filter the days_per_subject dataframe to get those subjects that have at least 7 days of data with 1440 minutes per each of those 7 days\n",
    "filtered_days_per_subject = days_per_subject.query('Days == 9 and `Days with < 1440 minutes` == 2')\n",
    "\n",
    "# Print the resulting dataframe\n",
    "print(filtered_days_per_subject)"
   ]
  },
  {
   "cell_type": "code",
   "execution_count": 48,
   "metadata": {},
   "outputs": [
    {
     "data": {
      "text/plain": [
       "239"
      ]
     },
     "execution_count": 48,
     "metadata": {},
     "output_type": "execute_result"
    }
   ],
   "source": [
    "#Number of subjects removed\n",
    "days_per_subject.shape[0]-filtered_days_per_subject.shape[0]"
   ]
  },
  {
   "cell_type": "code",
   "execution_count": 10,
   "metadata": {},
   "outputs": [],
   "source": [
    "# Filter the paxmin dataframe to only include days with 1440 minutes, and filter out subjects with less than 7 days of data\n",
    "paxmin_1440_7days = paxmin.groupby(['SEQN', 'PAXDAYM']).filter(lambda x: len(x) == 1440).groupby('SEQN').filter(lambda x: x['PAXDAYM'].nunique() >= 7)\n"
   ]
  },
  {
   "cell_type": "code",
   "execution_count": 52,
   "metadata": {},
   "outputs": [
    {
     "data": {
      "text/plain": [
       "7537"
      ]
     },
     "execution_count": 52,
     "metadata": {},
     "output_type": "execute_result"
    }
   ],
   "source": [
    "paxmin_1440_7days['SEQN'].nunique()"
   ]
  },
  {
   "cell_type": "code",
   "execution_count": 13,
   "metadata": {},
   "outputs": [
    {
     "data": {
      "text/plain": [
       "7"
      ]
     },
     "execution_count": 13,
     "metadata": {},
     "output_type": "execute_result"
    }
   ],
   "source": [
    "paxmin_1440_7days['PAXDAYM'].nunique()"
   ]
  },
  {
   "cell_type": "code",
   "execution_count": 14,
   "metadata": {},
   "outputs": [
    {
     "name": "stdout",
     "output_type": "stream",
     "text": [
      "All subjects have exactly 7 unique days\n"
     ]
    }
   ],
   "source": [
    "# Group the paxmin_1440_7days dataframe by SEQN, and count the number of unique values for PAXDAYWM for each subject\n",
    "unique_days = paxmin_1440_7days.groupby('SEQN')['PAXDAYWM'].nunique()\n",
    "\n",
    "# Check if any subject has a number of unique days that is different than 7\n",
    "if (unique_days != 7).any():\n",
    "    print('Error: Some subjects have a number of unique days that is different than 7')\n",
    "else:\n",
    "    print('All subjects have exactly 7 unique days')"
   ]
  },
  {
   "cell_type": "markdown",
   "metadata": {},
   "source": [
    "Save the pre-processed dataframe as a pickle file to be avoid repeating the previous steps"
   ]
  },
  {
   "cell_type": "code",
   "execution_count": 19,
   "metadata": {},
   "outputs": [],
   "source": [
    "paxmin_1440_7days = paxmin_1440_7days.reset_index(drop=True)\n",
    "paxmin_1440_7days.to_pickle('paxmin_1440_7days.pkl')"
   ]
  },
  {
   "cell_type": "markdown",
   "metadata": {},
   "source": [
    "## 4. Generate time series matrix"
   ]
  },
  {
   "cell_type": "code",
   "execution_count": 40,
   "metadata": {},
   "outputs": [],
   "source": [
    "# Initialize the 3D matrix\n",
    "list_of_subjects = paxmin_1440_7days['SEQN'].unique()\n",
    "nof_subjects = len(list_of_subjects)\n",
    "matrix_3d = np.empty((nof_subjects, 7, 1440)) # 3d: (SEQN, Day, Minute)\n",
    "matrix_3d.fill(np.nan)  # Fill with NaNs to identify any unfilled spots later\n",
    "\n",
    "# Create a mapping for SEQN to an index in the matrix\n",
    "seqn_to_index = {seqn: idx for idx, seqn in enumerate(list_of_subjects)}\n",
    "\n",
    "# Populate the matrix\n",
    "for (seqn, day_of_week), day_data in paxmin_1440_7days.groupby(['SEQN', 'PAXDAYWM']):\n",
    "    # Get the index for the current SEQN\n",
    "    seqn_idx = seqn_to_index[seqn]\n",
    "    \n",
    "    # Subtract 1 from day_of_week to get a 0-based index\n",
    "    matrix_3d[seqn_idx, day_of_week - 1, :len(day_data)] = day_data['PAXMTSM'].values"
   ]
  },
  {
   "cell_type": "code",
   "execution_count": 41,
   "metadata": {},
   "outputs": [
    {
     "data": {
      "text/plain": [
       "(7537, 7, 1440)"
      ]
     },
     "execution_count": 41,
     "metadata": {},
     "output_type": "execute_result"
    }
   ],
   "source": [
    "matrix_3d.shape # nof_subjects, 7 days, 1440 minutes"
   ]
  },
  {
   "cell_type": "code",
   "execution_count": 55,
   "metadata": {},
   "outputs": [
    {
     "data": {
      "text/plain": [
       "0"
      ]
     },
     "execution_count": 55,
     "metadata": {},
     "output_type": "execute_result"
    }
   ],
   "source": [
    "np.sum(np.isnan(matrix_3d))"
   ]
  },
  {
   "cell_type": "code",
   "execution_count": 43,
   "metadata": {},
   "outputs": [],
   "source": [
    "# Save the matrix_3d array to a file\n",
    "np.save('matrix_3d.npy', matrix_3d)"
   ]
  },
  {
   "cell_type": "markdown",
   "metadata": {},
   "source": [
    "To load the data from the saved numpy file:\n",
    "    \n",
    "```python\n",
    "matrix_3d = np.load('matrix_3d.npy')\n",
    "```"
   ]
  },
  {
   "cell_type": "code",
   "execution_count": 5,
   "metadata": {},
   "outputs": [],
   "source": [
    "matrix_3d = np.load('matrix_3d.npy')"
   ]
  },
  {
   "cell_type": "markdown",
   "metadata": {},
   "source": [
    "## 5. Display the time series matrix"
   ]
  },
  {
   "cell_type": "code",
   "execution_count": 16,
   "metadata": {},
   "outputs": [],
   "source": [
    "# Define a custom tick formatter to map minute of the day to time of day\n",
    "def time_formatter(x, pos):\n",
    "    hours = int(x // 60)\n",
    "    minutes = int(x % 60)\n",
    "    return f\"{hours:02d}:{minutes:02d}\"\n",
    "\n",
    "\n",
    "def plot_subject_day_data(subject_idx, day_idx, matrix_3d):\n",
    "    \"\"\"\n",
    "    Plot the acceleration data for a specific subject and day.\n",
    "    \n",
    "    Args:\n",
    "    - subject_idx (int): Index of the subject in the matrix.\n",
    "    - day_idx (int): Index of the day in the matrix (0-based, i.e., 0=Monday, 6=Sunday).\n",
    "    - matrix_3d (numpy array): The 3D matrix containing acceleration data.\n",
    "    \"\"\"\n",
    "    \n",
    "    # Extract data for the given subject and day\n",
    "    data = matrix_3d[subject_idx, day_idx]\n",
    "    \n",
    "    # Plot\n",
    "    day_names = {0: 'Monday', 1: 'Tuesday', 2: 'Wednesday', 3: 'Thursday', 4: 'Friday', 5: 'Saturday', 6: 'Sunday'}\n",
    "\n",
    "    plt.figure(figsize=(12, 6))\n",
    "    plt.plot(data)\n",
    "    plt.title(f\"Acceleration Data for Subject {subject_idx + 1}, Day {day_idx + 1} - {day_names[day_idx]}\")\n",
    "    # plt.xlabel(\"Minute of the Day\")\n",
    "    plt.xlabel(\"Time of the Day\")\n",
    "    plt.gca().xaxis.set_major_formatter(ticker.FuncFormatter(time_formatter))\n",
    "    plt.ylabel(\"Acceleration (PAXMTSM)\")\n",
    "    plt.grid(True)\n",
    "    plt.show()\n"
   ]
  },
  {
   "cell_type": "code",
   "execution_count": 17,
   "metadata": {},
   "outputs": [
    {
     "data": {
      "image/png": "[encoded data removed]",
      "text/plain": [
       "<Figure size 1200x600 with 1 Axes>"
      ]
     },
     "metadata": {},
     "output_type": "display_data"
    }
   ],
   "source": [
    "plot_subject_day_data(100, 0, matrix_3d) #Subject: [0, 7536], Day: [0, 6] (0=Monday, 6=Sunday)"
   ]
  }
 ],
 "metadata": {
  "kernelspec": {
   "display_name": ".environment",
   "language": "python",
   "name": "python3"
  },
  "language_info": {
   "codemirror_mode": {
    "name": "ipython",
    "version": 3
   },
   "file_extension": ".py",
   "mimetype": "text/x-python",
   "name": "python",
   "nbconvert_exporter": "python",
   "pygments_lexer": "ipython3",
   "version": "3.10.10"
  },
  "orig_nbformat": 4
 },
 "nbformat": 4,
 "nbformat_minor": 2
}
