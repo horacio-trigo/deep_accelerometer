{
 "cells": [
  {
   "cell_type": "markdown",
   "metadata": {},
   "source": [
    "## This notebook summarizes how subjects were included/excluded in the analysis."
   ]
  },
  {
   "cell_type": "code",
   "execution_count": 1,
   "metadata": {},
   "outputs": [],
   "source": [
    "import pandas as pd\n",
    "import numpy as np"
   ]
  },
  {
   "cell_type": "markdown",
   "metadata": {},
   "source": [
    "### 1. Data source: NHANES 2013-2014 (n=10175)\n",
    "\n",
    "We are using data from the NHANES 2013-2014 survey. That survey includes 10175 subjects. Each of them has a unique \"Respondent sequence number\" (SEQN), which is used to identify them in the dataset.\n",
    "https://wwwn.cdc.gov/Nchs/Nhanes/2013-2014/DEMO_H.htm#SEQN\n",
    "\n",
    "The data from all theses subjects is downloaded in the notebook 1_download.ipynb\n"
   ]
  },
  {
   "cell_type": "markdown",
   "metadata": {},
   "source": [
    "### 2. Excluding subjects top-coded as 80 years old (n=9823)\n",
    "\n",
    "Due to data protection issues, NHANES decided that the age of subjects older than 80 years old would be top-coded as 80 years old (https://wwwn.cdc.gov/Nchs/Nhanes/2013-2014/DEMO_H.htm#RIDAGEYR).\n",
    "\n",
    "This could cause distortion in the analysis, when assessing the relationship between age and other variables. Therefore, we exclude these subjects all subjects coded as 80 years old (n=352) from the analysis. This leaves us with 9823 subjects (between 0 and 79 years old). \n",
    "\n",
    "The exclusion is done in the notebook 8_data_preprocessing.ipynb\n",
    "\n",
    "The data of the remaining subjects (n=9823) is stored in full_df.csv\n"
   ]
  },
  {
   "cell_type": "code",
   "execution_count": 3,
   "metadata": {},
   "outputs": [],
   "source": [
    "full_df = pd.read_csv('../full_df.csv')"
   ]
  },
  {
   "cell_type": "code",
   "execution_count": 4,
   "metadata": {},
   "outputs": [
    {
     "data": {
      "text/plain": [
       "(9823, 3511)"
      ]
     },
     "execution_count": 4,
     "metadata": {},
     "output_type": "execute_result"
    }
   ],
   "source": [
    "full_df.shape"
   ]
  },
  {
   "cell_type": "markdown",
   "metadata": {},
   "source": [
    "### 3. Excluding subjects without bone density data (target) (n=2897)"
   ]
  },
  {
   "cell_type": "markdown",
   "metadata": {},
   "source": [
    "Our target variable is Bone Mineral Density (BMD), which is the main indicator of bone health. Speficcally, we are using femoral neck BMD.\n",
    "\n",
    "In notebook \"4_bulding_target_variable.ipynb\" the BMD values are extracted from the NHANES dataset, then categorized in a binary target variable and saved in a separate file (target.csv).\n",
    "\n",
    "Not all subjects included in the NHANES 2013-2014 database have BMD data. In fact, just 3708 subjects out of the total 10175 subjects in NHANES 2013-2014 have BMD data: https://wwwn.cdc.gov/Nchs/Nhanes/2013-2014/DXXFEM_H.htm#DXXNKBMD\n",
    "\n",
    "Of those 3708 subjects who have BMD data, not all of them have the DXXNKBMD (femoral neck BMD) data. In fact, only 3127* subjects have the DXXNKBMD data. \n",
    "\n",
    "*(According to the website https://wwwn.cdc.gov/Nchs/Nhanes/2013-2014/DXXFEM_H.htm#DXXNKBMD, there should be one less, that is 3126, but in notebook \"4_bulding_target_variable.ipynb\", when excluding NaNs from the original 3708, then 3127 are left, and I haven't identified any weird value).\n",
    "\n",
    "The Femoral Neck BMD values of those 3127 subjects are stored in target.csv, as well as the binary target variable (1=Osteoporosis or Osteopenia, 0=Normal).\n",
    "\n",
    "So, at this point we had 9823 subjects in full_df.csv and 3127 subjects in target.csv. But not all subjects in target.csv are in full_df.csv. Therefore, we need to exclude the subjects in full_df.csv that are not in target.csv. In other words, in full_df we need to keep only the subjects that have BMD data (target). This exclusion was performed in \"9_split_dataset.ipynb\". In that notebook, it was found that from the 9823 subjects in full_df.csv, 6926 had no BMD data and were excluded. This left us with 2897 subjects. It can be therefore concluded that 3127 - 2897 = 230 subjects had BMD data but were excluded from the analysis because they were coded as 80 years old (and therefore there were not in full_df.csv).\n"
   ]
  },
  {
   "cell_type": "markdown",
   "metadata": {},
   "source": [
    "### 4. Excluding subjects with no accelerometer (physical activity) data (n=2569)\n",
    "\n",
    "Not all of the 10175 subjects in NHANES 2013-2014, had accelerometer data. As described in https://wwwn.cdc.gov/Nchs/Nhanes/2013-2014/PAXMIN_H.htm#Analytic_Notes, a total of 7776 subjects wore the physical activity monitor (PAM) in that cycle. \n",
    "\n",
    "Now we analyzed the accelerometer data in two different ways:\n"
   ]
  },
  {
   "cell_type": "markdown",
   "metadata": {},
   "source": [
    "1. In notebook \"5_physical_activity_feature_engineering.ipynb\" we engineered a number of features from the accelerometer data. Those features were saved in pax.csv and they would be used in tabular form by 'classic' machine learning models in \"11_baseline_classification.ipynb\".\n"
   ]
  },
  {
   "cell_type": "code",
   "execution_count": 11,
   "metadata": {},
   "outputs": [
    {
     "data": {
      "text/plain": [
       "(7776, 20)"
      ]
     },
     "execution_count": 11,
     "metadata": {},
     "output_type": "execute_result"
    }
   ],
   "source": [
    "pax = pd.read_csv('../pax.csv')\n",
    "pax.shape"
   ]
  },
  {
   "cell_type": "markdown",
   "metadata": {},
   "source": [
    "2. In notebook \"6_generate_time_series_matrix.ipynb\" we organized the acceleration time series in a matrix to be employed later in a deep learning model. In that notebook we also checked that 7776 subjects had accelerometer data.\n",
    "But in this case, out of those 7776 subjects, we decided to include only those who have at least 7 days of data with 1440 (24x60) minutes per each of those 7 days. This is because we want to have a complete week of data for each subject. So this would exclude 239 subjects leaving us with 7537 subjects. The times series matrix generated there had therefore a dimension of (7537 subjects, 7 days, 1440 minutes)."
   ]
  },
  {
   "cell_type": "code",
   "execution_count": 10,
   "metadata": {},
   "outputs": [
    {
     "data": {
      "text/plain": [
       "(7537, 7, 1440)"
      ]
     },
     "execution_count": 10,
     "metadata": {},
     "output_type": "execute_result"
    }
   ],
   "source": [
    "matrix = np.load('../matrix_3d.npy')\n",
    "matrix.shape"
   ]
  },
  {
   "cell_type": "markdown",
   "metadata": {},
   "source": [
    "Important: In notebook \"9_split_dataset.ipynb\", we found that from the 2897 subjects with BMD data, 328 had no accelerometer data and were excluded. This left us with 2569 subjects. Please note that this exclusion was based on the accelerometer data used in the baseline classification approach (pax.csv), not on the accelerometer data used in the deep learning approach (time series matrix). Specifically, the exclusion was based on dropping those subjects that had a NaN at the variable PAXMINSB (df=df.dropna(subset=['PAXMINSB'])). PAXMINSB was one of the variable'engineered' in notebook \"5_physical_activity_feature_engineering.ipynb\", and in there we didn't exclude those who did not have a complete week of data, as we did in notebook \"6_generate_time_series_matrix.ipynb\". Instead, we processed all minutes that had been flagged as 'valid' by NHANES and did a weighted average. That's why we have 7776 subjects in pax.csv and 7537 subjects in the time series matrix.\n",
    "Therefore, being rigorous we did not apply the same exclusion criteria for accelerometer data (used in the baseline_classification) as we did for the time series matrix (used in the deep learning approach). There is a difference of 239 subjects between the two approaches. I believe that the difference is not significant and that the two approaches can be compared."
   ]
  },
  {
   "cell_type": "code",
   "execution_count": 5,
   "metadata": {},
   "outputs": [
    {
     "data": {
      "text/plain": [
       "((7776, 20), (7537, 7, 1440))"
      ]
     },
     "execution_count": 5,
     "metadata": {},
     "output_type": "execute_result"
    }
   ],
   "source": [
    "pax.shape, matrix.shape"
   ]
  },
  {
   "cell_type": "markdown",
   "metadata": {},
   "source": [
    "### 5. Excluding subjects with no body weight data (n=2565)\n",
    "\n",
    "In the baseline classification we didn't only use the accelerometer data, but also 3 additional features, that are relevant for bone health: body weight, age and gender. In notebook \"9_split_dataset.ipynb\" we found that from the 2569 subjects that had been included so far, 4 had no body weight data and were excluded. This left us with 2565 subjects. This was the final sample size."
   ]
  },
  {
   "cell_type": "markdown",
   "metadata": {},
   "source": [
    "### 6. Training (n=2052) and test (n=513) sets\n",
    "\n",
    "In notebook \"9_split_dataset.ipynb\" we split the 2565 subjects into training (80%) and test (20%) sets. This resulted in 2052 subjects in the training set and 513 subjects in the test set."
   ]
  },
  {
   "cell_type": "markdown",
   "metadata": {},
   "source": []
  },
  {
   "cell_type": "markdown",
   "metadata": {},
   "source": [
    "Here’s a summary of the inclusion and exclusion criteria for the study participants:\n",
    "\n",
    "- Initial Cohort: 10,175 participants from NHANES 2013-2014.\n",
    "- Exclusion 1: 352 participants aged 80 years (top-coded as 80), leaving 9,823 participants.\n",
    "- Exclusion 2: Out of these, 6,925 participants did not have Bone Mineral Density (BMD) data, reducing the number to 2,897.\n",
    "- Exclusion 3: 328 participants without accelerometer data were further excluded, resulting in 2,569 participants.\n",
    "- Exclusion 4: 4 participants without body weight data were excluded, finalizing the count at 2,565 participants.\n",
    "- Final Split: These were then split into training (2,052 participants) and test groups (513 participants)."
   ]
  },
  {
   "cell_type": "code",
   "execution_count": 12,
   "metadata": {},
   "outputs": [
    {
     "data": {
      "image/png": "[encoded data removed]",
      "text/plain": [
       "<IPython.core.display.Image object>"
      ]
     },
     "execution_count": 12,
     "metadata": {},
     "output_type": "execute_result"
    }
   ],
   "source": [
    "from IPython.display import Image\n",
    "Image(\"Captura.png\")\n"
   ]
  }
 ],
 "metadata": {
  "kernelspec": {
   "display_name": "Python 3",
   "language": "python",
   "name": "python3"
  },
  "language_info": {
   "codemirror_mode": {
    "name": "ipython",
    "version": 3
   },
   "file_extension": ".py",
   "mimetype": "text/x-python",
   "name": "python",
   "nbconvert_exporter": "python",
   "pygments_lexer": "ipython3",
   "version": "3.11.3"
  }
 },
 "nbformat": 4,
 "nbformat_minor": 2
}
