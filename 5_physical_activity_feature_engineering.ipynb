{
 "cells": [
  {
   "cell_type": "markdown",
   "metadata": {},
   "source": [
    "The accelerometer data provided by NHANES has a measurement for each minute. This codes performs feature engineering to reduce data size and obtain meaningful physical activity features, and saves it in a new file (pax.csv)"
   ]
  },
  {
   "cell_type": "markdown",
   "metadata": {},
   "source": [
    "If you want to skip this step, you can simply load the preprocessed data at pax.csv"
   ]
  },
  {
   "cell_type": "code",
   "execution_count": 1,
   "metadata": {},
   "outputs": [],
   "source": [
    "import pandas as pd\n",
    "from os import getcwd, listdir\n",
    "from os.path import join\n",
    "import numpy as np\n",
    "import seaborn as sns\n",
    "import matplotlib.pyplot as plt\n",
    "from threading import Thread"
   ]
  },
  {
   "cell_type": "markdown",
   "metadata": {},
   "source": [
    "## 1. Load NHANES 2013-2014 Physical Activity Monitor Data"
   ]
  },
  {
   "cell_type": "code",
   "execution_count": 2,
   "metadata": {},
   "outputs": [],
   "source": [
    "#paxmin = pd.read_csv(join(getcwd(), \"data\", \"csv\", \"Examination\", \"paxmin_h.csv\"), chunksize=1000)\n",
    "#test = paxmin.read()\n",
    "paxmin = pd.read_sas(join(getcwd(), \"data\", \"xpt\", \"Examination\", \"paxmin_h.xpt\"))\n",
    "paxday = pd.read_sas(join(getcwd(), \"data\", \"xpt\", \"Examination\", \"paxday_h.xpt\"))"
   ]
  },
  {
   "cell_type": "markdown",
   "metadata": {},
   "source": [
    "Solving read_sas bug: #https://github.com/pandas-dev/pandas/issues/30051"
   ]
  },
  {
   "cell_type": "code",
   "execution_count": null,
   "metadata": {},
   "outputs": [],
   "source": [
    "paxmin = paxmin.replace(5.397605346934028e-79,0) "
   ]
  },
  {
   "cell_type": "code",
   "execution_count": null,
   "metadata": {},
   "outputs": [],
   "source": [
    "paxday = paxday.replace(5.397605346934028e-79,0)"
   ]
  },
  {
   "cell_type": "markdown",
   "metadata": {},
   "source": [
    "## 2. Extract features from day-by-day physical activity (PAXDAY)"
   ]
  },
  {
   "cell_type": "code",
   "execution_count": null,
   "metadata": {},
   "outputs": [],
   "source": [
    "# Group the dataframe by SEQN (Subject ID)\n",
    "grouped = paxday.groupby('SEQN')\n",
    "\n",
    "\n",
    "# Define a custom weighted average function for each column of interest\n",
    "def weighted_avg(data, values_col, weights_col):\n",
    "    if data[weights_col].sum() == 0: # Some subjects have no valid minutes, set all features to NaN\n",
    "        return np.nan\n",
    "    return np.average(data[values_col], weights=data[weights_col])\n",
    "\n",
    "# Apply the aggregations to the grouped object\n",
    "day_features = grouped.apply(lambda x : pd.Series({\n",
    "    'PAXDAYD': len(x), # Number of days with data (valid or not)\n",
    "    'PAXVMD': weighted_avg(x, 'PAXVMD', 'PAXTMD'), # Valid Minutes per Day             (Daily average weighted by the number of total minutes per Day)\n",
    "    'PAXWWMD': weighted_avg(x, 'PAXWWMD', 'PAXVMD'), # Wake Wear Minutes per Day       (Daily average weighted by the number of Valid Minutes per Day)\n",
    "    'PAXSWMD': weighted_avg(x, 'PAXSWMD', 'PAXVMD'), # Sleep Wear Minutes per Day      (Daily average weighted by the number of Valid Minutes per Day)\n",
    "    'PAXNWMD': weighted_avg(x, 'PAXNWMD', 'PAXVMD'), # Non-Wear Minutes per Day        (Daily average weighted by the number of Valid Minutes per Day)\n",
    "    'PAXUMD': weighted_avg(x, 'PAXUMD', 'PAXVMD'), # Unknown activity Minutes per Day  (Daily average weighted by the number of Valid Minutes per Day)\n",
    "    'PAXMTSD': weighted_avg(x, 'PAXMTSD', 'PAXWWMD'), # Day sum MIMS triaxial value    (Daily average weighted by the number of Wake Wear Minutes per Day)\n",
    "    'PAXLXSD': weighted_avg(x, 'PAXLXSD', 'PAXWWMD') # Lux values (ambient light)      (Daily average weighted by the number of Wake Wear Minutes per Day)\n",
    "})).reset_index()"
   ]
  },
  {
   "cell_type": "markdown",
   "metadata": {},
   "source": [
    "## 3. Extract features from minute-by-minute physical activity (PAXMIN)"
   ]
  },
  {
   "cell_type": "code",
   "execution_count": null,
   "metadata": {},
   "outputs": [],
   "source": [
    "paxmin['PAXQFM'] = paxmin['PAXQFM'].astype(int)"
   ]
  },
  {
   "cell_type": "markdown",
   "metadata": {},
   "source": [
    "read_sas interprets some integers as byte literals, so we need to convert them back to integers\n",
    "\n",
    "https://www.delftstack.com/howto/python/python-b-in-front-of-string/\n",
    "https://www.geeksforgeeks.org/effect-of-b-character-in-front-of-a-string-literal-in-python/"
   ]
  },
  {
   "cell_type": "code",
   "execution_count": null,
   "metadata": {},
   "outputs": [],
   "source": [
    "paxmin['PAXPREDM'] = paxmin['PAXPREDM'].apply(lambda x: int(x.decode('utf-8')))"
   ]
  },
  {
   "cell_type": "code",
   "execution_count": null,
   "metadata": {},
   "outputs": [],
   "source": [
    "paxmin['PAXDAYM'] = paxmin['PAXDAYM'].apply(lambda x: int(x.decode('utf-8')))"
   ]
  },
  {
   "cell_type": "markdown",
   "metadata": {},
   "source": [
    "Process only valid minutes"
   ]
  },
  {
   "cell_type": "code",
   "execution_count": null,
   "metadata": {},
   "outputs": [],
   "source": [
    "valid = paxmin[(paxmin['PAXQFM'] == 0) & (paxmin['PAXPREDM'] == 1) & (paxmin['PAXMTSM'] >= 0)] #This filter extracts the valid minutes (rows). # Check if minute is valid (PAXQFM = 0) and wear time (PAXPREDM = 1), and PAXMTSM >= 0 (since PAXMTSM set as \"-0.01\" means that it could not be computed)"
   ]
  },
  {
   "cell_type": "markdown",
   "metadata": {},
   "source": [
    "Let's aggregate minute-by-minute data for each day"
   ]
  },
  {
   "cell_type": "code",
   "execution_count": null,
   "metadata": {},
   "outputs": [],
   "source": [
    "# Group the dataframe by SEQN (Subject ID) and PAXDAYM (Day of the week)\n",
    "grouped = valid.groupby(['SEQN', 'PAXDAYM'])\n",
    "\n",
    "\n",
    "# Define a custom function to compute the number of minutes at each intensity level\n",
    "def counter(data, min_val, max_val):\n",
    "    return ((data[\"PAXMTSM\"] >= min_val) & (data[\"PAXMTSM\"] < max_val)).sum()\n",
    "\n",
    "# Define a custom function to compute the accumulated acceleration at each intensity level\n",
    "def acceleration(data, min_val, max_val):\n",
    "    return data[(data[\"PAXMTSM\"] >= min_val) & (data[\"PAXMTSM\"] < max_val)][\"PAXMTSM\"].sum() # PAXMTSM = MIMS triaxial value for the minute\n",
    "\n",
    "# Thresholds for activity intensity (in MIMs)\n",
    "Sedentary = 1\n",
    "Light = 10\n",
    "Moderate = 30\n",
    "Vigorous = 45\n",
    "\n",
    "# Apply the aggregations to the grouped object\n",
    "auxiliary_features = grouped.apply(lambda x : pd.Series({\n",
    "    'minutes': len(x),\n",
    "    'time_Sedentary': counter(x, -np.inf, Sedentary),\n",
    "    'time_Light': counter(x, Sedentary, Light),\n",
    "    'time_Moderate': counter(x, Light, Moderate),\n",
    "    'time_Vigorous': counter(x, Moderate, Vigorous),\n",
    "    'time_Very Vigorous': counter(x, Vigorous, np.inf),\n",
    "    'acc_Sedentary': acceleration(x, -np.inf, Sedentary),\n",
    "    'acc_Light': acceleration(x, Sedentary, Light),\n",
    "    'acc_Moderate': acceleration(x, Light, Moderate),\n",
    "    'acc_Vigorous': acceleration(x, Moderate, Vigorous),\n",
    "    'acc_Very Vigorous': acceleration(x, Vigorous, np.inf),\n",
    "})).reset_index()"
   ]
  },
  {
   "cell_type": "markdown",
   "metadata": {},
   "source": [
    "Now let's calculate the desired features (as weighted averages)"
   ]
  },
  {
   "cell_type": "code",
   "execution_count": null,
   "metadata": {},
   "outputs": [],
   "source": [
    "grouped = auxiliary_features.groupby(['SEQN'])\n",
    "\n",
    "# Define a custom weighted average function for each column of interest\n",
    "def weighted_avg(data, values_col, weights_col):\n",
    "    if data[weights_col].sum() == 0: # Some subjects have no valid wear minutes, set all features to NaN\n",
    "        return np.nan\n",
    "    return np.average(data[values_col], weights=data[weights_col])\n",
    "\n",
    "minute_features = grouped.apply(lambda x : pd.Series({\n",
    "        'Valid_days': len(x), # Number of Valid Days of Wear Time\n",
    "        'PAXMINSB': weighted_avg(x, 'time_Sedentary', 'minutes'), # Minutes per Day of Sedentary Behaviour                      (Daily average weighted by the number of Wake Wear Minutes per Day)\n",
    "        'PAXMINLPA': weighted_avg(x, 'time_Light', 'minutes'), # Minutes per Day of Light Physical Activity                     (Daily average weighted by the number of Wake Wear Minutes per Day)\n",
    "        'PAXMINMPA': weighted_avg(x, 'time_Moderate', 'minutes'), # Minutes per Day of Moderate Physical Activity               (Daily average weighted by the number of Wake Wear Minutes per Day)\n",
    "        'PAXMINVPA': weighted_avg(x, 'time_Vigorous', 'minutes'), # Minutes per Day of Vigorous Physical Activity               (Daily average weighted by the number of Wake Wear Minutes per Day)\n",
    "        'PAXMINVVPA': weighted_avg(x, 'time_Very Vigorous', 'minutes'), # Minutes per Day of Very Vigorous Physical Activity    (Daily average weighted by the number of Wake Wear Minutes per Day)\n",
    "        'PAXSUMSB': weighted_avg(x, 'acc_Sedentary', 'minutes'), # Sum of MIMs per Day at Sedentary Behaviour                   (Daily average weighted by the number of Wake Wear Minutes per Day)\n",
    "        'PAXSUMLPA': weighted_avg(x, 'acc_Light', 'minutes'), # Sum of MIMs per Day at Light Physical Activity                  (Daily average weighted by the number of Wake Wear Minutes per Day)\n",
    "        'PAXSUMMPA': weighted_avg(x, 'acc_Moderate', 'minutes'), # Sum of MIMs per Day at Moderate Physical Activity            (Daily average weighted by the number of Wake Wear Minutes per Day)\n",
    "        'PAXSUMVPA': weighted_avg(x, 'acc_Vigorous', 'minutes'), # Sum of MIMs per Day at Vigorous Physical Activity            (Daily average weighted by the number of Wake Wear Minutes per Day)\n",
    "        'PAXSUMVVPA': weighted_avg(x, 'acc_Very Vigorous', 'minutes'), # Sum of MIMs per Day at Very Vigorous Physical Activity (Daily average weighted by the number of Wake Wear Minutes per Day)\n",
    "})).reset_index()"
   ]
  },
  {
   "cell_type": "markdown",
   "metadata": {},
   "source": [
    "## 4. Store results in a dataframe"
   ]
  },
  {
   "cell_type": "code",
   "execution_count": null,
   "metadata": {},
   "outputs": [],
   "source": [
    "# Merging day-by-day and minute-by-minute features\n",
    "PAX_FEATURES = pd.merge(minute_features, day_features, on='SEQN', how='outer')\n",
    "PAX_FEATURES = PAX_FEATURES.sort_values(by='SEQN')"
   ]
  },
  {
   "cell_type": "code",
   "execution_count": null,
   "metadata": {},
   "outputs": [],
   "source": [
    "PAX_FEATURES.to_csv('pax.csv', index=False)"
   ]
  },
  {
   "cell_type": "markdown",
   "metadata": {},
   "source": [
    "In the context of the given code, `minsb_days_vector` holds the number of sedentary minutes for each day, and `valid_wear_minutes` represents the total valid wear time (in minutes) for each day.\n",
    "\n",
    "Now, let's imagine a real-life scenario to help illustrate the concept of the weighted average:\n",
    "\n",
    "**Scenario**: Imagine three days of activity data.\n",
    "\n",
    "1. **Day 1**: The subject was sedentary for 30 minutes, but the valid wear time was only 60 minutes.\n",
    "2. **Day 2**: The subject was sedentary for 240 minutes (4 hours), but the valid wear time was 480 minutes (8 hours).\n",
    "3. **Day 3**: The subject was sedentary for 60 minutes, and the valid wear time was 120 minutes (2 hours).\n",
    "\n",
    "If we calculate a simple average of sedentary minutes, we'd get: \\( \\frac{30 + 240 + 60}{3} = 110 \\) minutes, which means, on average, the person was sedentary for 110 minutes each day.\n",
    "\n",
    "However, this doesn't account for the varying lengths of valid wear time each day. It treats a sedentary minute on a day where the device was only worn for 1 hour as equal to a sedentary minute on a day where it was worn for 8 hours. In reality, the day with 8 hours of wear time provides more information and should carry more weight.\n",
    "\n",
    "By using a weighted average, we're saying: \"Given the amount of time the device was validly worn each day, how many minutes was the person, on average, sedentary?\"\n",
    "\n",
    "So, in this example:\n",
    "- Day 1 has a \"weight\" of 60 minutes.\n",
    "- Day 2 has a \"weight\" of 480 minutes.\n",
    "- Day 3 has a \"weight\" of 120 minutes.\n",
    "\n",
    "The weighted average will prioritize Day 2's sedentary minutes more than Day 1's because the device was worn for a longer time on Day 2. \n",
    "\n",
    "**Intuitive Meaning**: The weighted average in this context essentially provides an average of sedentary minutes that is adjusted for the amount of time the device was validly worn each day. It gives us a more representative measure of sedentary behavior by accounting for the varying \"confidence\" or \"reliability\" of each day's data, as determined by wear time."
   ]
  }
 ],
 "metadata": {
  "kernelspec": {
   "display_name": ".environment",
   "language": "python",
   "name": "python3"
  },
  "language_info": {
   "codemirror_mode": {
    "name": "ipython",
    "version": 3
   },
   "file_extension": ".py",
   "mimetype": "text/x-python",
   "name": "python",
   "nbconvert_exporter": "python",
   "pygments_lexer": "ipython3",
   "version": "3.10.10"
  },
  "orig_nbformat": 4
 },
 "nbformat": 4,
 "nbformat_minor": 2
}
