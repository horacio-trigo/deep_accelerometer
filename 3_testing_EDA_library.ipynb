{
 "cells": [
  {
   "cell_type": "markdown",
   "metadata": {},
   "source": [
    "EDA using the ydata-profiling library"
   ]
  },
  {
   "cell_type": "code",
   "execution_count": 1,
   "metadata": {},
   "outputs": [],
   "source": [
    "import pandas as pd\n",
    "from os import getcwd, listdir, mkdir\n",
    "from os.path import join, exists"
   ]
  },
  {
   "cell_type": "markdown",
   "metadata": {},
   "source": [
    "The NHANES dataset is stored in numerous .xpt files. These files are located in 5 different folders:\n",
    "'Demographics', 'Dietary', 'Examination', 'Laboratory', 'Questionnaire'\n",
    "\n",
    "This folder structure matches the one found at NHANES website: \n",
    "https://wwwn.cdc.gov/nchs/nhanes/continuousnhanes/default.aspx?BeginYear=2013\n",
    "\n",
    "A detaile explanation of each variable can be found there."
   ]
  },
  {
   "cell_type": "code",
   "execution_count": 2,
   "metadata": {},
   "outputs": [],
   "source": [
    "data_location = join(getcwd(), \"data\")\n",
    "xpt_location = join(data_location, \"xpt\") "
   ]
  },
  {
   "cell_type": "code",
   "execution_count": 3,
   "metadata": {},
   "outputs": [
    {
     "data": {
      "text/plain": [
       "['Demographics', 'Dietary', 'Examination', 'Laboratory', 'Questionnaire']"
      ]
     },
     "execution_count": 3,
     "metadata": {},
     "output_type": "execute_result"
    }
   ],
   "source": [
    "listdir(xpt_location)"
   ]
  },
  {
   "cell_type": "code",
   "execution_count": 4,
   "metadata": {},
   "outputs": [
    {
     "name": "stdout",
     "output_type": "stream",
     "text": [
      "Demographics\n",
      "['demo_h.xpt']\n",
      "Dietary\n",
      "['dr1iff_h.xpt', 'dr1tot_h.xpt', 'dr2iff_h.xpt', 'dr2tot_h.xpt', 'drxfcd_h.xpt', 'ds1ids_h.xpt', 'ds1tot_h.xpt', 'ds2ids_h.xpt', 'ds2tot_h.xpt', 'dsbi.xpt', 'dsii.xpt', 'dspi.xpt', 'dsqids_h.xpt', 'dsqtot_h.xpt']\n",
      "Examination\n",
      "['bmx_h.xpt', 'bpx_h.xpt', 'csx_h.xpt', 'dxxaac_h.xpt', 'dxxag_h.xpt', 'dxxfem_h.xpt', 'dxxfrx_h.xpt', 'dxxl1_h.xpt', 'dxxl2_h.xpt', 'dxxl3_h.xpt', 'dxxl4_h.xpt', 'dxxspn_h.xpt', 'dxxt10_h.xpt', 'dxxt11_h.xpt', 'dxxt12_h.xpt', 'dxxt4_h.xpt', 'dxxt5_h.xpt', 'dxxt6_h.xpt', 'dxxt7_h.xpt', 'dxxt8_h.xpt', 'dxxt9_h.xpt', 'dxxvfa_h.xpt', 'dxx_h.xpt', 'flxcln_h.xpt', 'mgx_h.xpt', 'ohxden_h.xpt', 'ohxper_h.xpt', 'ohxref_h.xpt', 'paxday_h.xpt', 'paxhd_h.xpt', 'paxhr_h.xpt', 'paxmin_h.xpt']\n",
      "Laboratory\n",
      "['aas_h.xpt', 'aa_h.xpt', 'alb_cr_h.xpt', 'alds_h.xpt', 'ald_h.xpt', 'amdgds_h.xpt', 'amdgyd_h.xpt', 'apob_h.xpt', 'bfrpol_h.xpt', 'biopro_h.xpt', 'cafe_h.xpt', 'cbc_h.xpt', 'chlmda_h.xpt', 'cot_h.xpt', 'cusezn_h.xpt', 'deet_h.xpt', 'ephpp_h.xpt', 'ethoxs_h.xpt', 'ethox_h.xpt', 'fastqx_h.xpt', 'fas_h.xpt', 'fldep_h.xpt', 'fldew_h.xpt', 'folate_h.xpt', 'folfms_h.xpt', 'formal_h.xpt', 'formas_h.xpt', 'ghb_h.xpt', 'hcaas_h.xpt', 'hcaa_h.xpt', 'hdl_h.xpt', 'hepa_h.xpt', 'hepbd_h.xpt', 'hepb_s_h.xpt', 'hepc_h.xpt', 'hepe_h.xpt', 'hiv_h.xpt', 'hpvp_h.xpt', 'hpvswr_h.xpt', 'hsv_h.xpt', 'ihgem_h.xpt', 'ins_h.xpt', 'mma_h.xpt', 'ogtt_h.xpt', 'orhpv_h.xpt', 'pah_h.xpt', 'pbcd_h.xpt', 'pcbpol_h.xpt', 'pernts_h.xpt', 'pernt_h.xpt', 'pfas_h.xpt', 'phthte_h.xpt', 'pooltf_h.xpt', 'pstpol_h.xpt', 'ssct_h.xpt', 'ssflrt_h.xpt', 'ssglyp_h.xpt', 'sshepc_h.xpt', 'sskl_h.xpt', 'sspfac_h.xpt', 'sspfas_h.xpt', 'sspfsu_h.xpt', 'ssphte_h.xpt', 'sssnfl_h.xpt', 'ssterp_h.xpt', 'sstoca_h.xpt', 'sstoxo_h.xpt', 'tchol_h.xpt', 'tgema_h.xpt', 'trich_h.xpt', 'trigly_h.xpt', 'tsna_h.xpt', 'tst_h.xpt', 'uass_h.xpt', 'uas_h.xpt', 'ucflow_h.xpt', 'ucots_h.xpt', 'ucot_h.xpt', 'ucpreg_h.xpt', 'uhg_h.xpt', 'uio_h.xpt', 'ums_h.xpt', 'um_h.xpt', 'uphopm_h.xpt', 'utass_h.xpt', 'utas_h.xpt', 'uvocs_h.xpt', 'uvoc_h.xpt', 'vid_h.xpt', 'vitb12_h.xpt', 'vnas_h.xpt', 'vna_h.xpt', 'vocwbs_h.xpt', 'vocwb_h.xpt']\n",
      "Questionnaire\n",
      "['acq_h.xpt', 'alq_h.xpt', 'bpq_h.xpt', 'cbq_h.xpt', 'cdq_h.xpt', 'cfq_h.xpt', 'ckq_h.xpt', 'csq_h.xpt', 'dbq_h.xpt', 'deq_h.xpt', 'diq_h.xpt', 'dlq_h.xpt', 'dpq_h.xpt', 'duq_h.xpt', 'ecq_h.xpt', 'fsq_h.xpt', 'heq_h.xpt', 'hiq_h.xpt', 'hoq_h.xpt', 'hsq_h.xpt', 'huq_h.xpt', 'imq_h.xpt', 'inq_h.xpt', 'kiq_u_h.xpt', 'mcq_h.xpt', 'ocq_h.xpt', 'ohq_h.xpt', 'osq_h.xpt', 'paq_h.xpt', 'pfq_h.xpt', 'puqmec_h.xpt', 'rhq_h.xpt', 'rxqasa_h.xpt', 'rxq_rx_h.xpt', 'slq_h.xpt', 'smqfam_h.xpt', 'smqrtu_h.xpt', 'smqshs_h.xpt', 'smq_h.xpt', 'sxq_h.xpt', 'vtq_h.xpt', 'whqmec_h.xpt', 'whq_h.xpt']\n"
     ]
    }
   ],
   "source": [
    "for folder in listdir(xpt_location):\n",
    "    print(folder)\n",
    "    print(listdir(join(xpt_location, folder)))"
   ]
  },
  {
   "cell_type": "code",
   "execution_count": 5,
   "metadata": {},
   "outputs": [],
   "source": [
    "def xpt_to_df(folder, name_xpt):\n",
    "    df = pd.read_sas(join(xpt_location, folder, name_xpt))\n",
    "    return df"
   ]
  },
  {
   "cell_type": "code",
   "execution_count": 6,
   "metadata": {},
   "outputs": [],
   "source": [
    "df = xpt_to_df('Demographics', 'demo_h.xpt')"
   ]
  },
  {
   "cell_type": "markdown",
   "metadata": {},
   "source": [
    "Testing EDA function suggested by Simão\n",
    "https://github.com/ydataai/ydata-profiling"
   ]
  },
  {
   "cell_type": "code",
   "execution_count": 8,
   "metadata": {},
   "outputs": [
    {
     "name": "stdout",
     "output_type": "stream",
     "text": [
      "Collecting ydata-profilingNote: you may need to restart the kernel to use updated packages.\n",
      "\n",
      "  Using cached ydata_profiling-4.5.0-py2.py3-none-any.whl (357 kB)\n",
      "Collecting imagehash==4.3.1\n",
      "  Using cached ImageHash-4.3.1-py2.py3-none-any.whl (296 kB)\n",
      "Collecting multimethod<2,>=1.4\n",
      "  Using cached multimethod-1.9.1-py3-none-any.whl (10 kB)\n",
      "Requirement already satisfied: numpy<1.24,>=1.16.0 in c:\\users\\horacio\\onedrive - universidad de sevilla\\doctorado\\1 trabajos abiertos\\26 estudio proyecto samsung nhanes\\nhanes_analysis\\.environment\\lib\\site-packages (from ydata-profiling) (1.23.5)\n",
      "Requirement already satisfied: requests<3,>=2.24.0 in c:\\users\\horacio\\onedrive - universidad de sevilla\\doctorado\\1 trabajos abiertos\\26 estudio proyecto samsung nhanes\\nhanes_analysis\\.environment\\lib\\site-packages (from ydata-profiling) (2.31.0)\n",
      "Requirement already satisfied: seaborn<0.13,>=0.10.1 in c:\\users\\horacio\\onedrive - universidad de sevilla\\doctorado\\1 trabajos abiertos\\26 estudio proyecto samsung nhanes\\nhanes_analysis\\.environment\\lib\\site-packages (from ydata-profiling) (0.12.2)\n",
      "Collecting statsmodels<1,>=0.13.2\n",
      "  Using cached statsmodels-0.14.0-cp310-cp310-win_amd64.whl (9.2 MB)\n",
      "Collecting wordcloud>=1.9.1\n",
      "  Using cached wordcloud-1.9.2-cp310-cp310-win_amd64.whl (152 kB)\n",
      "Requirement already satisfied: typeguard<3,>=2.13.2 in c:\\users\\horacio\\onedrive - universidad de sevilla\\doctorado\\1 trabajos abiertos\\26 estudio proyecto samsung nhanes\\nhanes_analysis\\.environment\\lib\\site-packages (from ydata-profiling) (2.13.3)\n",
      "Collecting jinja2<3.2,>=2.11.1\n",
      "  Using cached Jinja2-3.1.2-py3-none-any.whl (133 kB)\n",
      "Requirement already satisfied: tqdm<5,>=4.48.2 in c:\\users\\horacio\\onedrive - universidad de sevilla\\doctorado\\1 trabajos abiertos\\26 estudio proyecto samsung nhanes\\nhanes_analysis\\.environment\\lib\\site-packages (from ydata-profiling) (4.66.1)\n",
      "Requirement already satisfied: pandas!=1.4.0,<2.1,>1.1 in c:\\users\\horacio\\onedrive - universidad de sevilla\\doctorado\\1 trabajos abiertos\\26 estudio proyecto samsung nhanes\\nhanes_analysis\\.environment\\lib\\site-packages (from ydata-profiling) (1.3.5)\n",
      "Collecting dacite>=1.8\n",
      "  Using cached dacite-1.8.1-py3-none-any.whl (14 kB)\n",
      "Collecting phik<0.13,>=0.11.1\n",
      "  Using cached phik-0.12.3-cp310-cp310-win_amd64.whl (663 kB)\n",
      "Requirement already satisfied: htmlmin==0.1.12 in c:\\users\\horacio\\onedrive - universidad de sevilla\\doctorado\\1 trabajos abiertos\\26 estudio proyecto samsung nhanes\\nhanes_analysis\\.environment\\lib\\site-packages (from ydata-profiling) (0.1.12)\n",
      "Requirement already satisfied: PyYAML<6.1,>=5.0.0 in c:\\users\\horacio\\onedrive - universidad de sevilla\\doctorado\\1 trabajos abiertos\\26 estudio proyecto samsung nhanes\\nhanes_analysis\\.environment\\lib\\site-packages (from ydata-profiling) (6.0.1)\n",
      "Collecting visions[type_image_path]==0.7.5\n",
      "  Using cached visions-0.7.5-py3-none-any.whl (102 kB)\n",
      "Requirement already satisfied: scipy<1.12,>=1.4.1 in c:\\users\\horacio\\onedrive - universidad de sevilla\\doctorado\\1 trabajos abiertos\\26 estudio proyecto samsung nhanes\\nhanes_analysis\\.environment\\lib\\site-packages (from ydata-profiling) (1.11.1)\n",
      "Requirement already satisfied: matplotlib<4,>=3.2 in c:\\users\\horacio\\onedrive - universidad de sevilla\\doctorado\\1 trabajos abiertos\\26 estudio proyecto samsung nhanes\\nhanes_analysis\\.environment\\lib\\site-packages (from ydata-profiling) (3.7.2)\n",
      "Requirement already satisfied: pydantic<2,>=1.8.1 in c:\\users\\horacio\\onedrive - universidad de sevilla\\doctorado\\1 trabajos abiertos\\26 estudio proyecto samsung nhanes\\nhanes_analysis\\.environment\\lib\\site-packages (from ydata-profiling) (1.10.12)\n",
      "Collecting PyWavelets\n",
      "  Using cached PyWavelets-1.4.1-cp310-cp310-win_amd64.whl (4.2 MB)\n",
      "Requirement already satisfied: pillow in c:\\users\\horacio\\onedrive - universidad de sevilla\\doctorado\\1 trabajos abiertos\\26 estudio proyecto samsung nhanes\\nhanes_analysis\\.environment\\lib\\site-packages (from imagehash==4.3.1->ydata-profiling) (10.0.0)\n",
      "Collecting attrs>=19.3.0\n",
      "  Using cached attrs-23.1.0-py3-none-any.whl (61 kB)\n",
      "Collecting networkx>=2.4\n",
      "  Using cached networkx-3.1-py3-none-any.whl (2.1 MB)\n",
      "Requirement already satisfied: tangled-up-in-unicode>=0.0.4 in c:\\users\\horacio\\onedrive - universidad de sevilla\\doctorado\\1 trabajos abiertos\\26 estudio proyecto samsung nhanes\\nhanes_analysis\\.environment\\lib\\site-packages (from visions[type_image_path]==0.7.5->ydata-profiling) (0.2.0)\n",
      "Requirement already satisfied: MarkupSafe>=2.0 in c:\\users\\horacio\\onedrive - universidad de sevilla\\doctorado\\1 trabajos abiertos\\26 estudio proyecto samsung nhanes\\nhanes_analysis\\.environment\\lib\\site-packages (from jinja2<3.2,>=2.11.1->ydata-profiling) (2.1.3)\n",
      "Requirement already satisfied: contourpy>=1.0.1 in c:\\users\\horacio\\onedrive - universidad de sevilla\\doctorado\\1 trabajos abiertos\\26 estudio proyecto samsung nhanes\\nhanes_analysis\\.environment\\lib\\site-packages (from matplotlib<4,>=3.2->ydata-profiling) (1.1.0)\n",
      "Requirement already satisfied: fonttools>=4.22.0 in c:\\users\\horacio\\onedrive - universidad de sevilla\\doctorado\\1 trabajos abiertos\\26 estudio proyecto samsung nhanes\\nhanes_analysis\\.environment\\lib\\site-packages (from matplotlib<4,>=3.2->ydata-profiling) (4.41.1)\n",
      "Requirement already satisfied: cycler>=0.10 in c:\\users\\horacio\\onedrive - universidad de sevilla\\doctorado\\1 trabajos abiertos\\26 estudio proyecto samsung nhanes\\nhanes_analysis\\.environment\\lib\\site-packages (from matplotlib<4,>=3.2->ydata-profiling) (0.11.0)\n",
      "Requirement already satisfied: packaging>=20.0 in c:\\users\\horacio\\onedrive - universidad de sevilla\\doctorado\\1 trabajos abiertos\\26 estudio proyecto samsung nhanes\\nhanes_analysis\\.environment\\lib\\site-packages (from matplotlib<4,>=3.2->ydata-profiling) (23.1)\n",
      "Requirement already satisfied: python-dateutil>=2.7 in c:\\users\\horacio\\onedrive - universidad de sevilla\\doctorado\\1 trabajos abiertos\\26 estudio proyecto samsung nhanes\\nhanes_analysis\\.environment\\lib\\site-packages (from matplotlib<4,>=3.2->ydata-profiling) (2.8.2)\n",
      "Requirement already satisfied: kiwisolver>=1.0.1 in c:\\users\\horacio\\onedrive - universidad de sevilla\\doctorado\\1 trabajos abiertos\\26 estudio proyecto samsung nhanes\\nhanes_analysis\\.environment\\lib\\site-packages (from matplotlib<4,>=3.2->ydata-profiling) (1.4.4)\n",
      "Requirement already satisfied: pyparsing<3.1,>=2.3.1 in c:\\users\\horacio\\onedrive - universidad de sevilla\\doctorado\\1 trabajos abiertos\\26 estudio proyecto samsung nhanes\\nhanes_analysis\\.environment\\lib\\site-packages (from matplotlib<4,>=3.2->ydata-profiling) (3.0.9)\n",
      "Requirement already satisfied: pytz>=2017.3 in c:\\users\\horacio\\onedrive - universidad de sevilla\\doctorado\\1 trabajos abiertos\\26 estudio proyecto samsung nhanes\\nhanes_analysis\\.environment\\lib\\site-packages (from pandas!=1.4.0,<2.1,>1.1->ydata-profiling) (2023.3)\n",
      "Requirement already satisfied: joblib>=0.14.1 in c:\\users\\horacio\\onedrive - universidad de sevilla\\doctorado\\1 trabajos abiertos\\26 estudio proyecto samsung nhanes\\nhanes_analysis\\.environment\\lib\\site-packages (from phik<0.13,>=0.11.1->ydata-profiling) (1.3.1)\n",
      "Requirement already satisfied: typing-extensions>=4.2.0 in c:\\users\\horacio\\onedrive - universidad de sevilla\\doctorado\\1 trabajos abiertos\\26 estudio proyecto samsung nhanes\\nhanes_analysis\\.environment\\lib\\site-packages (from pydantic<2,>=1.8.1->ydata-profiling) (4.5.0)\n",
      "Requirement already satisfied: urllib3<3,>=1.21.1 in c:\\users\\horacio\\onedrive - universidad de sevilla\\doctorado\\1 trabajos abiertos\\26 estudio proyecto samsung nhanes\\nhanes_analysis\\.environment\\lib\\site-packages (from requests<3,>=2.24.0->ydata-profiling) (1.26.16)\n",
      "Requirement already satisfied: certifi>=2017.4.17 in c:\\users\\horacio\\onedrive - universidad de sevilla\\doctorado\\1 trabajos abiertos\\26 estudio proyecto samsung nhanes\\nhanes_analysis\\.environment\\lib\\site-packages (from requests<3,>=2.24.0->ydata-profiling) (2023.7.22)\n",
      "Requirement already satisfied: charset-normalizer<4,>=2 in c:\\users\\horacio\\onedrive - universidad de sevilla\\doctorado\\1 trabajos abiertos\\26 estudio proyecto samsung nhanes\\nhanes_analysis\\.environment\\lib\\site-packages (from requests<3,>=2.24.0->ydata-profiling) (3.2.0)\n",
      "Requirement already satisfied: idna<4,>=2.5 in c:\\users\\horacio\\onedrive - universidad de sevilla\\doctorado\\1 trabajos abiertos\\26 estudio proyecto samsung nhanes\\nhanes_analysis\\.environment\\lib\\site-packages (from requests<3,>=2.24.0->ydata-profiling) (3.4)\n",
      "Collecting patsy>=0.5.2\n",
      "  Using cached patsy-0.5.3-py2.py3-none-any.whl (233 kB)\n",
      "Requirement already satisfied: colorama in c:\\users\\horacio\\onedrive - universidad de sevilla\\doctorado\\1 trabajos abiertos\\26 estudio proyecto samsung nhanes\\nhanes_analysis\\.environment\\lib\\site-packages (from tqdm<5,>=4.48.2->ydata-profiling) (0.4.6)\n",
      "Requirement already satisfied: six in c:\\users\\horacio\\onedrive - universidad de sevilla\\doctorado\\1 trabajos abiertos\\26 estudio proyecto samsung nhanes\\nhanes_analysis\\.environment\\lib\\site-packages (from patsy>=0.5.2->statsmodels<1,>=0.13.2->ydata-profiling) (1.16.0)\n",
      "Installing collected packages: PyWavelets, patsy, networkx, multimethod, jinja2, dacite, attrs, imagehash, wordcloud, visions, statsmodels, phik, ydata-profiling\n",
      "Successfully installed PyWavelets-1.4.1 attrs-23.1.0 dacite-1.8.1 imagehash-4.3.1 jinja2-3.1.2 multimethod-1.9.1 networkx-3.1 patsy-0.5.3 phik-0.12.3 statsmodels-0.14.0 visions-0.7.5 wordcloud-1.9.2 ydata-profiling-4.5.0\n"
     ]
    },
    {
     "name": "stderr",
     "output_type": "stream",
     "text": [
      "\n",
      "[notice] A new release of pip available: 22.3.1 -> 23.2.1\n",
      "[notice] To update, run: python.exe -m pip install --upgrade pip\n"
     ]
    }
   ],
   "source": [
    "pip install ydata-profiling"
   ]
  },
  {
   "cell_type": "code",
   "execution_count": 9,
   "metadata": {},
   "outputs": [
    {
     "name": "stderr",
     "output_type": "stream",
     "text": [
      "c:\\Users\\Horacio\\OneDrive - UNIVERSIDAD DE SEVILLA\\Doctorado\\1 TRABAJOS ABIERTOS\\26 Estudio Proyecto Samsung NHANES\\nhanes_analysis\\.environment\\lib\\site-packages\\tqdm\\auto.py:21: TqdmWarning: IProgress not found. Please update jupyter and ipywidgets. See https://ipywidgets.readthedocs.io/en/stable/user_install.html\n",
      "  from .autonotebook import tqdm as notebook_tqdm\n"
     ]
    }
   ],
   "source": [
    "from ydata_profiling import ProfileReport"
   ]
  },
  {
   "cell_type": "code",
   "execution_count": 10,
   "metadata": {},
   "outputs": [],
   "source": [
    "profile = ProfileReport(df, title=\"Profiling Report Demographics\")"
   ]
  },
  {
   "cell_type": "code",
   "execution_count": 12,
   "metadata": {},
   "outputs": [
    {
     "name": "stderr",
     "output_type": "stream",
     "text": [
      "Summarize dataset:  91%|█████████ | 49/54 [00:03<00:00, 31.34it/s, Calculate auto correlation]c:\\Users\\Horacio\\OneDrive - UNIVERSIDAD DE SEVILLA\\Doctorado\\1 TRABAJOS ABIERTOS\\26 Estudio Proyecto Samsung NHANES\\nhanes_analysis\\.environment\\lib\\site-packages\\scipy\\stats\\_stats_py.py:5445: ConstantInputWarning: An input array is constant; the correlation coefficient is not defined.\n",
      "  warnings.warn(stats.ConstantInputWarning(warn_msg))\n",
      "Summarize dataset: 100%|██████████| 498/498 [03:28<00:00,  2.39it/s, Completed]                 \n",
      "Generate report structure: 100%|██████████| 1/1 [00:39<00:00, 39.06s/it]\n",
      "Render HTML: 100%|██████████| 1/1 [00:28<00:00, 28.02s/it]\n",
      "Export report to file: 100%|██████████| 1/1 [00:00<00:00,  7.83it/s]\n"
     ]
    }
   ],
   "source": [
    "profile.to_file(\"Demographics_report.html\")"
   ]
  }
 ],
 "metadata": {
  "kernelspec": {
   "display_name": ".environment",
   "language": "python",
   "name": "python3"
  },
  "language_info": {
   "codemirror_mode": {
    "name": "ipython",
    "version": 3
   },
   "file_extension": ".py",
   "mimetype": "text/x-python",
   "name": "python",
   "nbconvert_exporter": "python",
   "pygments_lexer": "ipython3",
   "version": "3.10.10"
  },
  "orig_nbformat": 4
 },
 "nbformat": 4,
 "nbformat_minor": 2
}
