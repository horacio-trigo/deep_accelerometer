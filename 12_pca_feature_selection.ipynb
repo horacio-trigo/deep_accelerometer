{
 "cells": [
  {
   "cell_type": "markdown",
   "metadata": {},
   "source": [
    "# Feature Selection/Reduction (PCA - Principal component analysis) "
   ]
  },
  {
   "cell_type": "markdown",
   "metadata": {},
   "source": [
    "Principal Component Analysis (PCA) is a dimensionality reduction technique used in statistics and machine learning. Its primary goal is to transform a high-dimensional dataset into a new coordinate system while preserving the most important information and reducing the data's complexity. PCA achieves this by creating new variables, called principal components, which are linear combinations of the original features."
   ]
  },
  {
   "cell_type": "markdown",
   "metadata": {},
   "source": [
    "## Loading Dataset"
   ]
  },
  {
   "cell_type": "code",
   "execution_count": 1,
   "metadata": {},
   "outputs": [],
   "source": [
    "import pandas as pd\n",
    "import numpy as np\n",
    "import matplotlib.pyplot as plt\n",
    "import seaborn as sns\n",
    "from sklearn.preprocessing import StandardScaler\n",
    "from sklearn.decomposition import PCA\n",
    "from sklearn.base import BaseEstimator, TransformerMixin\n",
    "from sklearn.pipeline import Pipeline\n",
    "from sklearn.linear_model import LogisticRegression\n",
    "from sklearn.model_selection import train_test_split, GridSearchCV\n",
    "from sklearn.metrics import accuracy_score, confusion_matrix, classification_report, roc_auc_score, recall_score"
   ]
  },
  {
   "cell_type": "code",
   "execution_count": 2,
   "metadata": {},
   "outputs": [
    {
     "data": {
      "text/plain": [
       "(9823, 3511)"
      ]
     },
     "execution_count": 2,
     "metadata": {},
     "output_type": "execute_result"
    }
   ],
   "source": [
    "# Loading dataset\n",
    "full_df = pd.read_csv('full_df.csv')\n",
    "full_df.shape"
   ]
  },
  {
   "cell_type": "code",
   "execution_count": 3,
   "metadata": {},
   "outputs": [
    {
     "data": {
      "text/plain": [
       "(2897, 3511)"
      ]
     },
     "execution_count": 3,
     "metadata": {},
     "output_type": "execute_result"
    }
   ],
   "source": [
    "# Removing every row without target\n",
    "full_df.dropna(subset=[\"TARGET_BINARY\"], inplace=True)\n",
    "full_df.shape"
   ]
  },
  {
   "cell_type": "code",
   "execution_count": 4,
   "metadata": {},
   "outputs": [
    {
     "data": {
      "text/html": [
       "<div>\n",
       "<style scoped>\n",
       "    .dataframe tbody tr th:only-of-type {\n",
       "        vertical-align: middle;\n",
       "    }\n",
       "\n",
       "    .dataframe tbody tr th {\n",
       "        vertical-align: top;\n",
       "    }\n",
       "\n",
       "    .dataframe thead th {\n",
       "        text-align: right;\n",
       "    }\n",
       "</style>\n",
       "<table border=\"1\" class=\"dataframe\">\n",
       "  <thead>\n",
       "    <tr style=\"text-align: right;\">\n",
       "      <th></th>\n",
       "      <th>SEQN</th>\n",
       "      <th>SDDSRVYR</th>\n",
       "      <th>RIDSTATR</th>\n",
       "      <th>RIAGENDR</th>\n",
       "      <th>RIDAGEYR</th>\n",
       "      <th>RIDAGEMN</th>\n",
       "      <th>RIDRETH1</th>\n",
       "      <th>RIDRETH3</th>\n",
       "      <th>RIDEXMON</th>\n",
       "      <th>RIDEXAGM</th>\n",
       "      <th>...</th>\n",
       "      <th>PAXVMD</th>\n",
       "      <th>PAXWWMD</th>\n",
       "      <th>PAXSWMD</th>\n",
       "      <th>PAXNWMD</th>\n",
       "      <th>PAXUMD</th>\n",
       "      <th>PAXMTSD</th>\n",
       "      <th>PAXLXSD</th>\n",
       "      <th>DXXNK_TSCORE</th>\n",
       "      <th>CLASSES</th>\n",
       "      <th>TARGET_BINARY</th>\n",
       "    </tr>\n",
       "  </thead>\n",
       "  <tbody>\n",
       "    <tr>\n",
       "      <th>1</th>\n",
       "      <td>73558.0</td>\n",
       "      <td>8.0</td>\n",
       "      <td>2.0</td>\n",
       "      <td>1.0</td>\n",
       "      <td>54.0</td>\n",
       "      <td>NaN</td>\n",
       "      <td>3.0</td>\n",
       "      <td>3.0</td>\n",
       "      <td>1.0</td>\n",
       "      <td>NaN</td>\n",
       "      <td>...</td>\n",
       "      <td>1406.954723</td>\n",
       "      <td>751.055960</td>\n",
       "      <td>428.131182</td>\n",
       "      <td>161.938053</td>\n",
       "      <td>65.821707</td>\n",
       "      <td>10419.291313</td>\n",
       "      <td>81496.392640</td>\n",
       "      <td>-0.358333</td>\n",
       "      <td>normal</td>\n",
       "      <td>0.0</td>\n",
       "    </tr>\n",
       "    <tr>\n",
       "      <th>4</th>\n",
       "      <td>73561.0</td>\n",
       "      <td>8.0</td>\n",
       "      <td>2.0</td>\n",
       "      <td>2.0</td>\n",
       "      <td>73.0</td>\n",
       "      <td>NaN</td>\n",
       "      <td>3.0</td>\n",
       "      <td>3.0</td>\n",
       "      <td>1.0</td>\n",
       "      <td>NaN</td>\n",
       "      <td>...</td>\n",
       "      <td>1350.100703</td>\n",
       "      <td>732.742842</td>\n",
       "      <td>523.622853</td>\n",
       "      <td>15.277460</td>\n",
       "      <td>78.630141</td>\n",
       "      <td>7292.593313</td>\n",
       "      <td>77089.786076</td>\n",
       "      <td>-1.133333</td>\n",
       "      <td>osteopenia</td>\n",
       "      <td>1.0</td>\n",
       "    </tr>\n",
       "    <tr>\n",
       "      <th>5</th>\n",
       "      <td>73562.0</td>\n",
       "      <td>8.0</td>\n",
       "      <td>2.0</td>\n",
       "      <td>1.0</td>\n",
       "      <td>56.0</td>\n",
       "      <td>NaN</td>\n",
       "      <td>1.0</td>\n",
       "      <td>1.0</td>\n",
       "      <td>1.0</td>\n",
       "      <td>NaN</td>\n",
       "      <td>...</td>\n",
       "      <td>1367.985168</td>\n",
       "      <td>893.758010</td>\n",
       "      <td>411.697577</td>\n",
       "      <td>0.000000</td>\n",
       "      <td>62.457671</td>\n",
       "      <td>16144.391078</td>\n",
       "      <td>22463.894999</td>\n",
       "      <td>0.316667</td>\n",
       "      <td>normal</td>\n",
       "      <td>0.0</td>\n",
       "    </tr>\n",
       "    <tr>\n",
       "      <th>7</th>\n",
       "      <td>73564.0</td>\n",
       "      <td>8.0</td>\n",
       "      <td>2.0</td>\n",
       "      <td>2.0</td>\n",
       "      <td>61.0</td>\n",
       "      <td>NaN</td>\n",
       "      <td>3.0</td>\n",
       "      <td>3.0</td>\n",
       "      <td>2.0</td>\n",
       "      <td>NaN</td>\n",
       "      <td>...</td>\n",
       "      <td>1350.280250</td>\n",
       "      <td>740.180848</td>\n",
       "      <td>537.204007</td>\n",
       "      <td>14.680978</td>\n",
       "      <td>58.214416</td>\n",
       "      <td>10725.330844</td>\n",
       "      <td>178102.984201</td>\n",
       "      <td>-0.433333</td>\n",
       "      <td>normal</td>\n",
       "      <td>0.0</td>\n",
       "    </tr>\n",
       "    <tr>\n",
       "      <th>9</th>\n",
       "      <td>73566.0</td>\n",
       "      <td>8.0</td>\n",
       "      <td>2.0</td>\n",
       "      <td>2.0</td>\n",
       "      <td>56.0</td>\n",
       "      <td>NaN</td>\n",
       "      <td>3.0</td>\n",
       "      <td>3.0</td>\n",
       "      <td>1.0</td>\n",
       "      <td>NaN</td>\n",
       "      <td>...</td>\n",
       "      <td>1406.954723</td>\n",
       "      <td>840.501822</td>\n",
       "      <td>495.787611</td>\n",
       "      <td>37.763925</td>\n",
       "      <td>32.893545</td>\n",
       "      <td>18438.607753</td>\n",
       "      <td>32274.947265</td>\n",
       "      <td>-1.675000</td>\n",
       "      <td>osteopenia</td>\n",
       "      <td>1.0</td>\n",
       "    </tr>\n",
       "  </tbody>\n",
       "</table>\n",
       "<p>5 rows × 3511 columns</p>\n",
       "</div>"
      ],
      "text/plain": [
       "      SEQN  SDDSRVYR  RIDSTATR  RIAGENDR  RIDAGEYR  RIDAGEMN  RIDRETH1  \\\n",
       "1  73558.0       8.0       2.0       1.0      54.0       NaN       3.0   \n",
       "4  73561.0       8.0       2.0       2.0      73.0       NaN       3.0   \n",
       "5  73562.0       8.0       2.0       1.0      56.0       NaN       1.0   \n",
       "7  73564.0       8.0       2.0       2.0      61.0       NaN       3.0   \n",
       "9  73566.0       8.0       2.0       2.0      56.0       NaN       3.0   \n",
       "\n",
       "   RIDRETH3  RIDEXMON  RIDEXAGM  ...       PAXVMD     PAXWWMD     PAXSWMD  \\\n",
       "1       3.0       1.0       NaN  ...  1406.954723  751.055960  428.131182   \n",
       "4       3.0       1.0       NaN  ...  1350.100703  732.742842  523.622853   \n",
       "5       1.0       1.0       NaN  ...  1367.985168  893.758010  411.697577   \n",
       "7       3.0       2.0       NaN  ...  1350.280250  740.180848  537.204007   \n",
       "9       3.0       1.0       NaN  ...  1406.954723  840.501822  495.787611   \n",
       "\n",
       "      PAXNWMD     PAXUMD       PAXMTSD        PAXLXSD  DXXNK_TSCORE  \\\n",
       "1  161.938053  65.821707  10419.291313   81496.392640     -0.358333   \n",
       "4   15.277460  78.630141   7292.593313   77089.786076     -1.133333   \n",
       "5    0.000000  62.457671  16144.391078   22463.894999      0.316667   \n",
       "7   14.680978  58.214416  10725.330844  178102.984201     -0.433333   \n",
       "9   37.763925  32.893545  18438.607753   32274.947265     -1.675000   \n",
       "\n",
       "      CLASSES  TARGET_BINARY  \n",
       "1      normal            0.0  \n",
       "4  osteopenia            1.0  \n",
       "5      normal            0.0  \n",
       "7      normal            0.0  \n",
       "9  osteopenia            1.0  \n",
       "\n",
       "[5 rows x 3511 columns]"
      ]
     },
     "execution_count": 4,
     "metadata": {},
     "output_type": "execute_result"
    }
   ],
   "source": [
    "full_df.head(5)"
   ]
  },
  {
   "cell_type": "markdown",
   "metadata": {},
   "source": [
    "## Data Preprocessing"
   ]
  },
  {
   "cell_type": "markdown",
   "metadata": {},
   "source": [
    "### Feature Selection/Engineering"
   ]
  },
  {
   "cell_type": "markdown",
   "metadata": {},
   "source": [
    "PCA is a technique designed to work with continuous numerical features. The mathematical foundations and computations involved in PCA are based on concepts like means, variances, and covariance matrices, which are applicable to continuous variables.\n",
    "This is why categorical features need to be handled or transformed before applying PCA, therefore in the following cell we are removing every feature that is categorical."
   ]
  },
  {
   "cell_type": "code",
   "execution_count": 5,
   "metadata": {},
   "outputs": [
    {
     "data": {
      "text/html": [
       "<div>\n",
       "<style scoped>\n",
       "    .dataframe tbody tr th:only-of-type {\n",
       "        vertical-align: middle;\n",
       "    }\n",
       "\n",
       "    .dataframe tbody tr th {\n",
       "        vertical-align: top;\n",
       "    }\n",
       "\n",
       "    .dataframe thead th {\n",
       "        text-align: right;\n",
       "    }\n",
       "</style>\n",
       "<table border=\"1\" class=\"dataframe\">\n",
       "  <thead>\n",
       "    <tr style=\"text-align: right;\">\n",
       "      <th></th>\n",
       "      <th>CSXTSEQ</th>\n",
       "      <th>OHX02CTC</th>\n",
       "      <th>OHX03CTC</th>\n",
       "      <th>OHX04CTC</th>\n",
       "      <th>OHX05CTC</th>\n",
       "      <th>OHX06CTC</th>\n",
       "      <th>OHX07CTC</th>\n",
       "      <th>OHX08CTC</th>\n",
       "      <th>OHX09CTC</th>\n",
       "      <th>OHX10CTC</th>\n",
       "      <th>...</th>\n",
       "      <th>OHX19SE</th>\n",
       "      <th>OHX20SE</th>\n",
       "      <th>OHX21SE</th>\n",
       "      <th>OHX28SE</th>\n",
       "      <th>OHX29SE</th>\n",
       "      <th>OHX30SE</th>\n",
       "      <th>OHX31SE</th>\n",
       "      <th>SMDUPCA</th>\n",
       "      <th>SMD100BR</th>\n",
       "      <th>CLASSES</th>\n",
       "    </tr>\n",
       "  </thead>\n",
       "  <tbody>\n",
       "    <tr>\n",
       "      <th>1</th>\n",
       "      <td>b'A'</td>\n",
       "      <td>b'Z'</td>\n",
       "      <td>b'J'</td>\n",
       "      <td>b'S'</td>\n",
       "      <td>b'S'</td>\n",
       "      <td>b'S'</td>\n",
       "      <td>b'S'</td>\n",
       "      <td>b'S'</td>\n",
       "      <td>b'S'</td>\n",
       "      <td>b'S'</td>\n",
       "      <td>...</td>\n",
       "      <td>b''</td>\n",
       "      <td>b''</td>\n",
       "      <td>b''</td>\n",
       "      <td>b''</td>\n",
       "      <td>b''</td>\n",
       "      <td>b''</td>\n",
       "      <td>b''</td>\n",
       "      <td>b''</td>\n",
       "      <td>b''</td>\n",
       "      <td>normal</td>\n",
       "    </tr>\n",
       "    <tr>\n",
       "      <th>4</th>\n",
       "      <td>b'A'</td>\n",
       "      <td>b'E'</td>\n",
       "      <td>b'Z'</td>\n",
       "      <td>b'E'</td>\n",
       "      <td>b'Z'</td>\n",
       "      <td>b'Z'</td>\n",
       "      <td>b'Z'</td>\n",
       "      <td>b'R'</td>\n",
       "      <td>b'R'</td>\n",
       "      <td>b'Z'</td>\n",
       "      <td>...</td>\n",
       "      <td>b''</td>\n",
       "      <td>b''</td>\n",
       "      <td>b''</td>\n",
       "      <td>b''</td>\n",
       "      <td>b''</td>\n",
       "      <td>b''</td>\n",
       "      <td>b''</td>\n",
       "      <td>b''</td>\n",
       "      <td>b''</td>\n",
       "      <td>osteopenia</td>\n",
       "    </tr>\n",
       "    <tr>\n",
       "      <th>5</th>\n",
       "      <td>b'B'</td>\n",
       "      <td>b'Z'</td>\n",
       "      <td>b'Z'</td>\n",
       "      <td>b'R'</td>\n",
       "      <td>b'Z'</td>\n",
       "      <td>b'R'</td>\n",
       "      <td>b'R'</td>\n",
       "      <td>b'Y'</td>\n",
       "      <td>b'Y'</td>\n",
       "      <td>b'Y'</td>\n",
       "      <td>...</td>\n",
       "      <td>b''</td>\n",
       "      <td>b''</td>\n",
       "      <td>b''</td>\n",
       "      <td>b''</td>\n",
       "      <td>b''</td>\n",
       "      <td>b''</td>\n",
       "      <td>b''</td>\n",
       "      <td>b''</td>\n",
       "      <td>b''</td>\n",
       "      <td>normal</td>\n",
       "    </tr>\n",
       "    <tr>\n",
       "      <th>7</th>\n",
       "      <td>b'A'</td>\n",
       "      <td>b'Z'</td>\n",
       "      <td>b'Z'</td>\n",
       "      <td>b'Z'</td>\n",
       "      <td>b'Z'</td>\n",
       "      <td>b'S'</td>\n",
       "      <td>b'S'</td>\n",
       "      <td>b'S'</td>\n",
       "      <td>b'S'</td>\n",
       "      <td>b'S'</td>\n",
       "      <td>...</td>\n",
       "      <td>b''</td>\n",
       "      <td>b''</td>\n",
       "      <td>b''</td>\n",
       "      <td>b''</td>\n",
       "      <td>b''</td>\n",
       "      <td>b''</td>\n",
       "      <td>b''</td>\n",
       "      <td>b''</td>\n",
       "      <td>b''</td>\n",
       "      <td>normal</td>\n",
       "    </tr>\n",
       "    <tr>\n",
       "      <th>9</th>\n",
       "      <td>b'B'</td>\n",
       "      <td>b'Z'</td>\n",
       "      <td>b'Z'</td>\n",
       "      <td>b'S'</td>\n",
       "      <td>b'M'</td>\n",
       "      <td>b'S'</td>\n",
       "      <td>b'Z'</td>\n",
       "      <td>b'Z'</td>\n",
       "      <td>b'Z'</td>\n",
       "      <td>b'Z'</td>\n",
       "      <td>...</td>\n",
       "      <td>b''</td>\n",
       "      <td>b''</td>\n",
       "      <td>b''</td>\n",
       "      <td>b''</td>\n",
       "      <td>b''</td>\n",
       "      <td>b''</td>\n",
       "      <td>b''</td>\n",
       "      <td>b'027200001859'</td>\n",
       "      <td>b'PALL MALL ORANGE'</td>\n",
       "      <td>osteopenia</td>\n",
       "    </tr>\n",
       "  </tbody>\n",
       "</table>\n",
       "<p>5 rows × 78 columns</p>\n",
       "</div>"
      ],
      "text/plain": [
       "  CSXTSEQ OHX02CTC OHX03CTC OHX04CTC OHX05CTC OHX06CTC OHX07CTC OHX08CTC  \\\n",
       "1    b'A'     b'Z'     b'J'     b'S'     b'S'     b'S'     b'S'     b'S'   \n",
       "4    b'A'     b'E'     b'Z'     b'E'     b'Z'     b'Z'     b'Z'     b'R'   \n",
       "5    b'B'     b'Z'     b'Z'     b'R'     b'Z'     b'R'     b'R'     b'Y'   \n",
       "7    b'A'     b'Z'     b'Z'     b'Z'     b'Z'     b'S'     b'S'     b'S'   \n",
       "9    b'B'     b'Z'     b'Z'     b'S'     b'M'     b'S'     b'Z'     b'Z'   \n",
       "\n",
       "  OHX09CTC OHX10CTC  ... OHX19SE OHX20SE OHX21SE OHX28SE OHX29SE OHX30SE  \\\n",
       "1     b'S'     b'S'  ...     b''     b''     b''     b''     b''     b''   \n",
       "4     b'R'     b'Z'  ...     b''     b''     b''     b''     b''     b''   \n",
       "5     b'Y'     b'Y'  ...     b''     b''     b''     b''     b''     b''   \n",
       "7     b'S'     b'S'  ...     b''     b''     b''     b''     b''     b''   \n",
       "9     b'Z'     b'Z'  ...     b''     b''     b''     b''     b''     b''   \n",
       "\n",
       "  OHX31SE          SMDUPCA             SMD100BR     CLASSES  \n",
       "1     b''              b''                  b''      normal  \n",
       "4     b''              b''                  b''  osteopenia  \n",
       "5     b''              b''                  b''      normal  \n",
       "7     b''              b''                  b''      normal  \n",
       "9     b''  b'027200001859'  b'PALL MALL ORANGE'  osteopenia  \n",
       "\n",
       "[5 rows x 78 columns]"
      ]
     },
     "execution_count": 5,
     "metadata": {},
     "output_type": "execute_result"
    }
   ],
   "source": [
    "non_numeric_columns = full_df.select_dtypes(exclude=['float64', 'int64']).columns\n",
    "full_df[non_numeric_columns].head(5)"
   ]
  },
  {
   "cell_type": "code",
   "execution_count": 6,
   "metadata": {},
   "outputs": [
    {
     "data": {
      "text/plain": [
       "(2897, 3433)"
      ]
     },
     "execution_count": 6,
     "metadata": {},
     "output_type": "execute_result"
    }
   ],
   "source": [
    "numeric_df = full_df.drop(columns=non_numeric_columns)\n",
    "numeric_df.shape"
   ]
  },
  {
   "cell_type": "markdown",
   "metadata": {},
   "source": [
    "Now, we have removed the non-categorical features that are not represent with numeric values. However, we can still have features that are categorical but were encoded in numerical values. unfortunately, there is no way of knowing which features are categorical and represented in a numeric way, without going through them one by one. That process is not practical considering we are left with 3433 features in the numeric dataframe from the cell above.\n",
    "With that, one way of finding potential categorical features is to check the unique values of each feature and discarding them if they are very low considering the number of rows."
   ]
  },
  {
   "cell_type": "code",
   "execution_count": 7,
   "metadata": {},
   "outputs": [],
   "source": [
    "class NumericCategoricalFeaturesCleaner(BaseEstimator, TransformerMixin):\n",
    "    def __init__(self, threshold_unique_values=10):\n",
    "        self.threshold_unique_values = threshold_unique_values\n",
    "    \n",
    "    def fit(self, X, y=None):\n",
    "        self.potential_encoded_features_ = []\n",
    "        self.unique_count_per_feature_ = {}\n",
    "        \n",
    "        for column in X.columns:\n",
    "            unique_count = len(X[column].unique())\n",
    "            self.unique_count_per_feature_[column] = unique_count\n",
    "            if unique_count <= self.threshold_unique_values:\n",
    "                self.potential_encoded_features_.append(column)\n",
    "        \n",
    "        # Remove 'TARGET_BINARY' from potential_encoded_features\n",
    "        if 'TARGET_BINARY' in self.potential_encoded_features_:\n",
    "            self.potential_encoded_features_.remove('TARGET_BINARY')\n",
    "        \n",
    "        return self\n",
    "    \n",
    "    def transform(self, X):\n",
    "        # Drop selected features from the DataFrame and return remaining continuous features\n",
    "        self.continuous_df_ = X.drop(columns=self.potential_encoded_features_)\n",
    "        return self.continuous_df_"
   ]
  },
  {
   "cell_type": "code",
   "execution_count": 8,
   "metadata": {},
   "outputs": [
    {
     "data": {
      "text/html": [
       "<div>\n",
       "<style scoped>\n",
       "    .dataframe tbody tr th:only-of-type {\n",
       "        vertical-align: middle;\n",
       "    }\n",
       "\n",
       "    .dataframe tbody tr th {\n",
       "        vertical-align: top;\n",
       "    }\n",
       "\n",
       "    .dataframe thead th {\n",
       "        text-align: right;\n",
       "    }\n",
       "</style>\n",
       "<table border=\"1\" class=\"dataframe\">\n",
       "  <thead>\n",
       "    <tr style=\"text-align: right;\">\n",
       "      <th></th>\n",
       "      <th>SEQN</th>\n",
       "      <th>RIDAGEYR</th>\n",
       "      <th>DMDHRAGE</th>\n",
       "      <th>WTINT2YR</th>\n",
       "      <th>WTMEC2YR</th>\n",
       "      <th>SDMVSTRA</th>\n",
       "      <th>INDHHIN2</th>\n",
       "      <th>INDFMIN2</th>\n",
       "      <th>INDFMPIR</th>\n",
       "      <th>WTDRD1_x</th>\n",
       "      <th>...</th>\n",
       "      <th>PAXSUMVVPA</th>\n",
       "      <th>PAXVMD</th>\n",
       "      <th>PAXWWMD</th>\n",
       "      <th>PAXSWMD</th>\n",
       "      <th>PAXNWMD</th>\n",
       "      <th>PAXUMD</th>\n",
       "      <th>PAXMTSD</th>\n",
       "      <th>PAXLXSD</th>\n",
       "      <th>DXXNK_TSCORE</th>\n",
       "      <th>TARGET_BINARY</th>\n",
       "    </tr>\n",
       "  </thead>\n",
       "  <tbody>\n",
       "    <tr>\n",
       "      <th>1</th>\n",
       "      <td>73558.0</td>\n",
       "      <td>54.0</td>\n",
       "      <td>54.0</td>\n",
       "      <td>23682.057386</td>\n",
       "      <td>24471.769625</td>\n",
       "      <td>108.0</td>\n",
       "      <td>7.0</td>\n",
       "      <td>7.0</td>\n",
       "      <td>1.78</td>\n",
       "      <td>17932.143865</td>\n",
       "      <td>...</td>\n",
       "      <td>105.779040</td>\n",
       "      <td>1406.954723</td>\n",
       "      <td>751.055960</td>\n",
       "      <td>428.131182</td>\n",
       "      <td>161.938053</td>\n",
       "      <td>65.821707</td>\n",
       "      <td>10419.291313</td>\n",
       "      <td>81496.392640</td>\n",
       "      <td>-0.358333</td>\n",
       "      <td>0.0</td>\n",
       "    </tr>\n",
       "    <tr>\n",
       "      <th>4</th>\n",
       "      <td>73561.0</td>\n",
       "      <td>73.0</td>\n",
       "      <td>78.0</td>\n",
       "      <td>63709.667069</td>\n",
       "      <td>65541.871229</td>\n",
       "      <td>116.0</td>\n",
       "      <td>15.0</td>\n",
       "      <td>15.0</td>\n",
       "      <td>5.00</td>\n",
       "      <td>59052.357033</td>\n",
       "      <td>...</td>\n",
       "      <td>0.000000</td>\n",
       "      <td>1350.100703</td>\n",
       "      <td>732.742842</td>\n",
       "      <td>523.622853</td>\n",
       "      <td>15.277460</td>\n",
       "      <td>78.630141</td>\n",
       "      <td>7292.593313</td>\n",
       "      <td>77089.786076</td>\n",
       "      <td>-1.133333</td>\n",
       "      <td>1.0</td>\n",
       "    </tr>\n",
       "    <tr>\n",
       "      <th>5</th>\n",
       "      <td>73562.0</td>\n",
       "      <td>56.0</td>\n",
       "      <td>56.0</td>\n",
       "      <td>24978.144602</td>\n",
       "      <td>25344.992359</td>\n",
       "      <td>111.0</td>\n",
       "      <td>9.0</td>\n",
       "      <td>9.0</td>\n",
       "      <td>4.79</td>\n",
       "      <td>49890.828664</td>\n",
       "      <td>...</td>\n",
       "      <td>642.771324</td>\n",
       "      <td>1367.985168</td>\n",
       "      <td>893.758010</td>\n",
       "      <td>411.697577</td>\n",
       "      <td>0.000000</td>\n",
       "      <td>62.457671</td>\n",
       "      <td>16144.391078</td>\n",
       "      <td>22463.894999</td>\n",
       "      <td>0.316667</td>\n",
       "      <td>0.0</td>\n",
       "    </tr>\n",
       "    <tr>\n",
       "      <th>7</th>\n",
       "      <td>73564.0</td>\n",
       "      <td>61.0</td>\n",
       "      <td>61.0</td>\n",
       "      <td>60325.095254</td>\n",
       "      <td>61758.654880</td>\n",
       "      <td>114.0</td>\n",
       "      <td>10.0</td>\n",
       "      <td>10.0</td>\n",
       "      <td>5.00</td>\n",
       "      <td>78988.755072</td>\n",
       "      <td>...</td>\n",
       "      <td>65.962823</td>\n",
       "      <td>1350.280250</td>\n",
       "      <td>740.180848</td>\n",
       "      <td>537.204007</td>\n",
       "      <td>14.680978</td>\n",
       "      <td>58.214416</td>\n",
       "      <td>10725.330844</td>\n",
       "      <td>178102.984201</td>\n",
       "      <td>-0.433333</td>\n",
       "      <td>0.0</td>\n",
       "    </tr>\n",
       "    <tr>\n",
       "      <th>9</th>\n",
       "      <td>73566.0</td>\n",
       "      <td>56.0</td>\n",
       "      <td>56.0</td>\n",
       "      <td>16351.783140</td>\n",
       "      <td>17480.115175</td>\n",
       "      <td>112.0</td>\n",
       "      <td>4.0</td>\n",
       "      <td>4.0</td>\n",
       "      <td>0.48</td>\n",
       "      <td>30697.880780</td>\n",
       "      <td>...</td>\n",
       "      <td>674.261463</td>\n",
       "      <td>1406.954723</td>\n",
       "      <td>840.501822</td>\n",
       "      <td>495.787611</td>\n",
       "      <td>37.763925</td>\n",
       "      <td>32.893545</td>\n",
       "      <td>18438.607753</td>\n",
       "      <td>32274.947265</td>\n",
       "      <td>-1.675000</td>\n",
       "      <td>1.0</td>\n",
       "    </tr>\n",
       "    <tr>\n",
       "      <th>...</th>\n",
       "      <td>...</td>\n",
       "      <td>...</td>\n",
       "      <td>...</td>\n",
       "      <td>...</td>\n",
       "      <td>...</td>\n",
       "      <td>...</td>\n",
       "      <td>...</td>\n",
       "      <td>...</td>\n",
       "      <td>...</td>\n",
       "      <td>...</td>\n",
       "      <td>...</td>\n",
       "      <td>...</td>\n",
       "      <td>...</td>\n",
       "      <td>...</td>\n",
       "      <td>...</td>\n",
       "      <td>...</td>\n",
       "      <td>...</td>\n",
       "      <td>...</td>\n",
       "      <td>...</td>\n",
       "      <td>...</td>\n",
       "      <td>...</td>\n",
       "    </tr>\n",
       "    <tr>\n",
       "      <th>9810</th>\n",
       "      <td>83718.0</td>\n",
       "      <td>60.0</td>\n",
       "      <td>60.0</td>\n",
       "      <td>34902.817661</td>\n",
       "      <td>37866.383266</td>\n",
       "      <td>113.0</td>\n",
       "      <td>NaN</td>\n",
       "      <td>NaN</td>\n",
       "      <td>NaN</td>\n",
       "      <td>0.000000</td>\n",
       "      <td>...</td>\n",
       "      <td>NaN</td>\n",
       "      <td>NaN</td>\n",
       "      <td>NaN</td>\n",
       "      <td>NaN</td>\n",
       "      <td>NaN</td>\n",
       "      <td>NaN</td>\n",
       "      <td>NaN</td>\n",
       "      <td>NaN</td>\n",
       "      <td>-1.608333</td>\n",
       "      <td>1.0</td>\n",
       "    </tr>\n",
       "    <tr>\n",
       "      <th>9813</th>\n",
       "      <td>83721.0</td>\n",
       "      <td>52.0</td>\n",
       "      <td>47.0</td>\n",
       "      <td>67937.153461</td>\n",
       "      <td>68456.771849</td>\n",
       "      <td>112.0</td>\n",
       "      <td>15.0</td>\n",
       "      <td>15.0</td>\n",
       "      <td>5.00</td>\n",
       "      <td>50162.971463</td>\n",
       "      <td>...</td>\n",
       "      <td>61.071038</td>\n",
       "      <td>1406.954723</td>\n",
       "      <td>636.379750</td>\n",
       "      <td>181.087454</td>\n",
       "      <td>566.129360</td>\n",
       "      <td>23.350338</td>\n",
       "      <td>9792.238396</td>\n",
       "      <td>110640.225606</td>\n",
       "      <td>-0.266667</td>\n",
       "      <td>0.0</td>\n",
       "    </tr>\n",
       "    <tr>\n",
       "      <th>9815</th>\n",
       "      <td>83723.0</td>\n",
       "      <td>61.0</td>\n",
       "      <td>61.0</td>\n",
       "      <td>11140.687817</td>\n",
       "      <td>11179.994842</td>\n",
       "      <td>109.0</td>\n",
       "      <td>10.0</td>\n",
       "      <td>10.0</td>\n",
       "      <td>3.53</td>\n",
       "      <td>14116.878928</td>\n",
       "      <td>...</td>\n",
       "      <td>31.422507</td>\n",
       "      <td>1348.781421</td>\n",
       "      <td>789.593644</td>\n",
       "      <td>368.377963</td>\n",
       "      <td>127.859338</td>\n",
       "      <td>62.860120</td>\n",
       "      <td>11455.101360</td>\n",
       "      <td>658520.293527</td>\n",
       "      <td>1.191667</td>\n",
       "      <td>0.0</td>\n",
       "    </tr>\n",
       "    <tr>\n",
       "      <th>9817</th>\n",
       "      <td>83726.0</td>\n",
       "      <td>40.0</td>\n",
       "      <td>43.0</td>\n",
       "      <td>45268.572702</td>\n",
       "      <td>49177.291000</td>\n",
       "      <td>115.0</td>\n",
       "      <td>9.0</td>\n",
       "      <td>9.0</td>\n",
       "      <td>3.81</td>\n",
       "      <td>0.000000</td>\n",
       "      <td>...</td>\n",
       "      <td>NaN</td>\n",
       "      <td>NaN</td>\n",
       "      <td>NaN</td>\n",
       "      <td>NaN</td>\n",
       "      <td>NaN</td>\n",
       "      <td>NaN</td>\n",
       "      <td>NaN</td>\n",
       "      <td>NaN</td>\n",
       "      <td>0.841667</td>\n",
       "      <td>0.0</td>\n",
       "    </tr>\n",
       "    <tr>\n",
       "      <th>9820</th>\n",
       "      <td>83729.0</td>\n",
       "      <td>42.0</td>\n",
       "      <td>42.0</td>\n",
       "      <td>24122.248900</td>\n",
       "      <td>26902.344381</td>\n",
       "      <td>104.0</td>\n",
       "      <td>7.0</td>\n",
       "      <td>7.0</td>\n",
       "      <td>3.66</td>\n",
       "      <td>15272.505199</td>\n",
       "      <td>...</td>\n",
       "      <td>91.305311</td>\n",
       "      <td>1369.483997</td>\n",
       "      <td>810.671090</td>\n",
       "      <td>387.254489</td>\n",
       "      <td>112.359875</td>\n",
       "      <td>59.198543</td>\n",
       "      <td>12024.118144</td>\n",
       "      <td>20216.980965</td>\n",
       "      <td>1.475000</td>\n",
       "      <td>0.0</td>\n",
       "    </tr>\n",
       "  </tbody>\n",
       "</table>\n",
       "<p>2897 rows × 1316 columns</p>\n",
       "</div>"
      ],
      "text/plain": [
       "         SEQN  RIDAGEYR  DMDHRAGE      WTINT2YR      WTMEC2YR  SDMVSTRA  \\\n",
       "1     73558.0      54.0      54.0  23682.057386  24471.769625     108.0   \n",
       "4     73561.0      73.0      78.0  63709.667069  65541.871229     116.0   \n",
       "5     73562.0      56.0      56.0  24978.144602  25344.992359     111.0   \n",
       "7     73564.0      61.0      61.0  60325.095254  61758.654880     114.0   \n",
       "9     73566.0      56.0      56.0  16351.783140  17480.115175     112.0   \n",
       "...       ...       ...       ...           ...           ...       ...   \n",
       "9810  83718.0      60.0      60.0  34902.817661  37866.383266     113.0   \n",
       "9813  83721.0      52.0      47.0  67937.153461  68456.771849     112.0   \n",
       "9815  83723.0      61.0      61.0  11140.687817  11179.994842     109.0   \n",
       "9817  83726.0      40.0      43.0  45268.572702  49177.291000     115.0   \n",
       "9820  83729.0      42.0      42.0  24122.248900  26902.344381     104.0   \n",
       "\n",
       "      INDHHIN2  INDFMIN2  INDFMPIR      WTDRD1_x  ...  PAXSUMVVPA  \\\n",
       "1          7.0       7.0      1.78  17932.143865  ...  105.779040   \n",
       "4         15.0      15.0      5.00  59052.357033  ...    0.000000   \n",
       "5          9.0       9.0      4.79  49890.828664  ...  642.771324   \n",
       "7         10.0      10.0      5.00  78988.755072  ...   65.962823   \n",
       "9          4.0       4.0      0.48  30697.880780  ...  674.261463   \n",
       "...        ...       ...       ...           ...  ...         ...   \n",
       "9810       NaN       NaN       NaN      0.000000  ...         NaN   \n",
       "9813      15.0      15.0      5.00  50162.971463  ...   61.071038   \n",
       "9815      10.0      10.0      3.53  14116.878928  ...   31.422507   \n",
       "9817       9.0       9.0      3.81      0.000000  ...         NaN   \n",
       "9820       7.0       7.0      3.66  15272.505199  ...   91.305311   \n",
       "\n",
       "           PAXVMD     PAXWWMD     PAXSWMD     PAXNWMD     PAXUMD  \\\n",
       "1     1406.954723  751.055960  428.131182  161.938053  65.821707   \n",
       "4     1350.100703  732.742842  523.622853   15.277460  78.630141   \n",
       "5     1367.985168  893.758010  411.697577    0.000000  62.457671   \n",
       "7     1350.280250  740.180848  537.204007   14.680978  58.214416   \n",
       "9     1406.954723  840.501822  495.787611   37.763925  32.893545   \n",
       "...           ...         ...         ...         ...        ...   \n",
       "9810          NaN         NaN         NaN         NaN        NaN   \n",
       "9813  1406.954723  636.379750  181.087454  566.129360  23.350338   \n",
       "9815  1348.781421  789.593644  368.377963  127.859338  62.860120   \n",
       "9817          NaN         NaN         NaN         NaN        NaN   \n",
       "9820  1369.483997  810.671090  387.254489  112.359875  59.198543   \n",
       "\n",
       "           PAXMTSD        PAXLXSD  DXXNK_TSCORE  TARGET_BINARY  \n",
       "1     10419.291313   81496.392640     -0.358333            0.0  \n",
       "4      7292.593313   77089.786076     -1.133333            1.0  \n",
       "5     16144.391078   22463.894999      0.316667            0.0  \n",
       "7     10725.330844  178102.984201     -0.433333            0.0  \n",
       "9     18438.607753   32274.947265     -1.675000            1.0  \n",
       "...            ...            ...           ...            ...  \n",
       "9810           NaN            NaN     -1.608333            1.0  \n",
       "9813   9792.238396  110640.225606     -0.266667            0.0  \n",
       "9815  11455.101360  658520.293527      1.191667            0.0  \n",
       "9817           NaN            NaN      0.841667            0.0  \n",
       "9820  12024.118144   20216.980965      1.475000            0.0  \n",
       "\n",
       "[2897 rows x 1316 columns]"
      ]
     },
     "execution_count": 8,
     "metadata": {},
     "output_type": "execute_result"
    }
   ],
   "source": [
    "# Create the FeatureSelector transformer\n",
    "feature_selector = NumericCategoricalFeaturesCleaner(threshold_unique_values=10)\n",
    "\n",
    "# Fit the FeatureSelector on your data\n",
    "feature_selector.fit(numeric_df)\n",
    "\n",
    "# Transform the data to select relevant features\n",
    "continuous_df = feature_selector.transform(numeric_df)\n",
    "continuous_df"
   ]
  },
  {
   "cell_type": "markdown",
   "metadata": {},
   "source": [
    "### Data Cleaning"
   ]
  },
  {
   "cell_type": "markdown",
   "metadata": {},
   "source": [
    "Now that we have handled the categorical features, we need to handle the missing values to perform the PCA."
   ]
  },
  {
   "cell_type": "code",
   "execution_count": 9,
   "metadata": {},
   "outputs": [],
   "source": [
    "class DataCleaner(BaseEstimator, TransformerMixin):\n",
    "    def __init__(self, threshold=10, fill_method=2):\n",
    "        self.threshold = threshold\n",
    "        self.fill_method = fill_method\n",
    "    \n",
    "    def fit(self, X, y=None):\n",
    "        # Calculate missing percentage for each feature\n",
    "        self.missing_percentage_ = (X.isna().sum() / len(X)) * 100\n",
    "        \n",
    "        # Find features to drop based on the threshold\n",
    "        self.features_to_drop_ = self.missing_percentage_[self.missing_percentage_ > self.threshold].index.tolist()\n",
    "        \n",
    "        # Calculate fill value based on fill_method\n",
    "        if self.fill_method == 1:\n",
    "            self.fill_value_ = X.mean()\n",
    "        elif self.fill_method == 2:\n",
    "            self.fill_value_ = X.median()\n",
    "        \n",
    "        return self\n",
    "    \n",
    "    def transform(self, X):\n",
    "        # Drop features with missing values exceeding the threshold\n",
    "        cleaned_X = X.drop(columns=self.features_to_drop_)\n",
    "        \n",
    "        # Fill missing values with the calculated fill value\n",
    "        if self.fill_method != 0:\n",
    "            cleaned_X = cleaned_X.fillna(self.fill_value_)\n",
    "        \n",
    "        return cleaned_X"
   ]
  },
  {
   "cell_type": "code",
   "execution_count": 10,
   "metadata": {},
   "outputs": [
    {
     "name": "stdout",
     "output_type": "stream",
     "text": [
      "Shape before cleaning: (2897, 1316)\n",
      "Shape after cleaning: (2897, 241)\n",
      "Dropped features: 1075\n"
     ]
    }
   ],
   "source": [
    "# Create the DataCleaner transformer\n",
    "data_cleaner = DataCleaner(threshold=10, fill_method=2)\n",
    "\n",
    "# Fit the DataCleaner on your data\n",
    "data_cleaner.fit(continuous_df)\n",
    "\n",
    "# Transform the data to apply data cleaning\n",
    "cleaned_df = data_cleaner.transform(continuous_df)\n",
    "\n",
    "# Print the shape before and after cleaning\n",
    "print(f'Shape before cleaning: {continuous_df.shape}')\n",
    "print(f'Shape after cleaning: {cleaned_df.shape}')\n",
    "print(f'Dropped features: {len(data_cleaner.features_to_drop_)}')\n"
   ]
  },
  {
   "cell_type": "code",
   "execution_count": 11,
   "metadata": {},
   "outputs": [
    {
     "data": {
      "text/plain": [
       "DSQTCAFF         99.620297\n",
       "MCQ240N          99.585778\n",
       "MCQ240CC         99.551260\n",
       "PHAALCMN         99.516741\n",
       "OSD110C          99.482223\n",
       "                   ...    \n",
       "WTDRD1_x          0.000000\n",
       "SDMVSTRA          0.000000\n",
       "WTMEC2YR          0.000000\n",
       "WTINT2YR          0.000000\n",
       "TARGET_BINARY     0.000000\n",
       "Length: 1316, dtype: float64"
      ]
     },
     "execution_count": 11,
     "metadata": {},
     "output_type": "execute_result"
    }
   ],
   "source": [
    "data_cleaner.missing_percentage_.sort_values(ascending=False)"
   ]
  },
  {
   "cell_type": "code",
   "execution_count": 12,
   "metadata": {},
   "outputs": [
    {
     "data": {
      "text/plain": [
       "1       24471.769625\n",
       "4       65541.871229\n",
       "5       25344.992359\n",
       "7       61758.654880\n",
       "9       17480.115175\n",
       "            ...     \n",
       "9810    37866.383266\n",
       "9813    68456.771849\n",
       "9815    11179.994842\n",
       "9817    49177.291000\n",
       "9820    26902.344381\n",
       "Name: WTMEC2YR, Length: 2897, dtype: float64"
      ]
     },
     "execution_count": 12,
     "metadata": {},
     "output_type": "execute_result"
    }
   ],
   "source": [
    "cleaned_df['WTMEC2YR']"
   ]
  },
  {
   "cell_type": "code",
   "execution_count": 13,
   "metadata": {},
   "outputs": [
    {
     "data": {
      "text/plain": [
       "SEQN             0\n",
       "MGXH2T2          0\n",
       "LBXSKSI          0\n",
       "LBXSLDSI         0\n",
       "LBXSNASI         0\n",
       "                ..\n",
       "WTDR2D_x.1       0\n",
       "DR1EXMER_y       0\n",
       "DR1DBIH_y        0\n",
       "DS1DSCNT         0\n",
       "TARGET_BINARY    0\n",
       "Length: 241, dtype: int64"
      ]
     },
     "execution_count": 13,
     "metadata": {},
     "output_type": "execute_result"
    }
   ],
   "source": [
    "cleaned_df.isna().sum().sort_values(ascending=False)"
   ]
  },
  {
   "cell_type": "markdown",
   "metadata": {},
   "source": [
    "Removing the \"SEQN\" feature, which is the ID, and removing the \"TARGET_BINARY\" and \"DXXNK_TSCORE\" which are related to the target so it is a must to remove them before performing the PCA."
   ]
  },
  {
   "cell_type": "code",
   "execution_count": 14,
   "metadata": {},
   "outputs": [],
   "source": [
    "class ExtractTargetFeatures(BaseEstimator, TransformerMixin):\n",
    "    def fit(self, X, y=None):\n",
    "        return self\n",
    "    \n",
    "    def transform(self, X):\n",
    "        target = X[\"TARGET_BINARY\"]\n",
    "        target.reset_index(drop=True, inplace=True)\n",
    "        features = X.drop(columns=[\"TARGET_BINARY\", \"SEQN\", \"DXXNK_TSCORE\"])\n",
    "        return features, target"
   ]
  },
  {
   "cell_type": "code",
   "execution_count": 15,
   "metadata": {},
   "outputs": [
    {
     "name": "stdout",
     "output_type": "stream",
     "text": [
      "Features:\n",
      "(2897, 238)\n",
      "Target:\n",
      "(2897,)\n"
     ]
    },
    {
     "data": {
      "text/html": [
       "<div>\n",
       "<style scoped>\n",
       "    .dataframe tbody tr th:only-of-type {\n",
       "        vertical-align: middle;\n",
       "    }\n",
       "\n",
       "    .dataframe tbody tr th {\n",
       "        vertical-align: top;\n",
       "    }\n",
       "\n",
       "    .dataframe thead th {\n",
       "        text-align: right;\n",
       "    }\n",
       "</style>\n",
       "<table border=\"1\" class=\"dataframe\">\n",
       "  <thead>\n",
       "    <tr style=\"text-align: right;\">\n",
       "      <th></th>\n",
       "      <th>RIDAGEYR</th>\n",
       "      <th>DMDHRAGE</th>\n",
       "      <th>WTINT2YR</th>\n",
       "      <th>WTMEC2YR</th>\n",
       "      <th>SDMVSTRA</th>\n",
       "      <th>INDHHIN2</th>\n",
       "      <th>INDFMIN2</th>\n",
       "      <th>INDFMPIR</th>\n",
       "      <th>WTDRD1_x</th>\n",
       "      <th>WTDR2D_x</th>\n",
       "      <th>...</th>\n",
       "      <th>HOD050</th>\n",
       "      <th>PAD680</th>\n",
       "      <th>SLD010H</th>\n",
       "      <th>WHD010</th>\n",
       "      <th>WHD020</th>\n",
       "      <th>WHD050</th>\n",
       "      <th>WHD110</th>\n",
       "      <th>WHD120</th>\n",
       "      <th>WHD140</th>\n",
       "      <th>WHQ150</th>\n",
       "    </tr>\n",
       "  </thead>\n",
       "  <tbody>\n",
       "    <tr>\n",
       "      <th>1</th>\n",
       "      <td>54.0</td>\n",
       "      <td>54.0</td>\n",
       "      <td>23682.057386</td>\n",
       "      <td>24471.769625</td>\n",
       "      <td>108.0</td>\n",
       "      <td>7.0</td>\n",
       "      <td>7.0</td>\n",
       "      <td>1.780</td>\n",
       "      <td>17932.143865</td>\n",
       "      <td>12684.148869</td>\n",
       "      <td>...</td>\n",
       "      <td>7.0</td>\n",
       "      <td>540.0</td>\n",
       "      <td>9.0</td>\n",
       "      <td>71.0</td>\n",
       "      <td>200.0</td>\n",
       "      <td>160.0</td>\n",
       "      <td>240.0</td>\n",
       "      <td>250.0</td>\n",
       "      <td>250.0</td>\n",
       "      <td>25.0</td>\n",
       "    </tr>\n",
       "    <tr>\n",
       "      <th>4</th>\n",
       "      <td>73.0</td>\n",
       "      <td>78.0</td>\n",
       "      <td>63709.667069</td>\n",
       "      <td>65541.871229</td>\n",
       "      <td>116.0</td>\n",
       "      <td>15.0</td>\n",
       "      <td>15.0</td>\n",
       "      <td>5.000</td>\n",
       "      <td>59052.357033</td>\n",
       "      <td>39004.892993</td>\n",
       "      <td>...</td>\n",
       "      <td>8.0</td>\n",
       "      <td>480.0</td>\n",
       "      <td>9.0</td>\n",
       "      <td>67.0</td>\n",
       "      <td>120.0</td>\n",
       "      <td>150.0</td>\n",
       "      <td>150.0</td>\n",
       "      <td>135.0</td>\n",
       "      <td>170.0</td>\n",
       "      <td>60.0</td>\n",
       "    </tr>\n",
       "    <tr>\n",
       "      <th>5</th>\n",
       "      <td>56.0</td>\n",
       "      <td>56.0</td>\n",
       "      <td>24978.144602</td>\n",
       "      <td>25344.992359</td>\n",
       "      <td>111.0</td>\n",
       "      <td>9.0</td>\n",
       "      <td>9.0</td>\n",
       "      <td>4.790</td>\n",
       "      <td>49890.828664</td>\n",
       "      <td>0.000000</td>\n",
       "      <td>...</td>\n",
       "      <td>6.0</td>\n",
       "      <td>360.0</td>\n",
       "      <td>5.0</td>\n",
       "      <td>64.0</td>\n",
       "      <td>235.0</td>\n",
       "      <td>240.0</td>\n",
       "      <td>225.0</td>\n",
       "      <td>195.0</td>\n",
       "      <td>244.0</td>\n",
       "      <td>54.0</td>\n",
       "    </tr>\n",
       "    <tr>\n",
       "      <th>7</th>\n",
       "      <td>61.0</td>\n",
       "      <td>61.0</td>\n",
       "      <td>60325.095254</td>\n",
       "      <td>61758.654880</td>\n",
       "      <td>114.0</td>\n",
       "      <td>10.0</td>\n",
       "      <td>10.0</td>\n",
       "      <td>5.000</td>\n",
       "      <td>78988.755072</td>\n",
       "      <td>52173.157754</td>\n",
       "      <td>...</td>\n",
       "      <td>6.0</td>\n",
       "      <td>60.0</td>\n",
       "      <td>9.0</td>\n",
       "      <td>64.0</td>\n",
       "      <td>212.0</td>\n",
       "      <td>212.0</td>\n",
       "      <td>195.0</td>\n",
       "      <td>127.0</td>\n",
       "      <td>212.0</td>\n",
       "      <td>61.0</td>\n",
       "    </tr>\n",
       "    <tr>\n",
       "      <th>9</th>\n",
       "      <td>56.0</td>\n",
       "      <td>56.0</td>\n",
       "      <td>16351.783140</td>\n",
       "      <td>17480.115175</td>\n",
       "      <td>112.0</td>\n",
       "      <td>4.0</td>\n",
       "      <td>4.0</td>\n",
       "      <td>0.480</td>\n",
       "      <td>30697.880780</td>\n",
       "      <td>0.000000</td>\n",
       "      <td>...</td>\n",
       "      <td>5.0</td>\n",
       "      <td>30.0</td>\n",
       "      <td>6.0</td>\n",
       "      <td>61.0</td>\n",
       "      <td>137.0</td>\n",
       "      <td>137.0</td>\n",
       "      <td>130.0</td>\n",
       "      <td>120.0</td>\n",
       "      <td>152.0</td>\n",
       "      <td>45.0</td>\n",
       "    </tr>\n",
       "    <tr>\n",
       "      <th>...</th>\n",
       "      <td>...</td>\n",
       "      <td>...</td>\n",
       "      <td>...</td>\n",
       "      <td>...</td>\n",
       "      <td>...</td>\n",
       "      <td>...</td>\n",
       "      <td>...</td>\n",
       "      <td>...</td>\n",
       "      <td>...</td>\n",
       "      <td>...</td>\n",
       "      <td>...</td>\n",
       "      <td>...</td>\n",
       "      <td>...</td>\n",
       "      <td>...</td>\n",
       "      <td>...</td>\n",
       "      <td>...</td>\n",
       "      <td>...</td>\n",
       "      <td>...</td>\n",
       "      <td>...</td>\n",
       "      <td>...</td>\n",
       "      <td>...</td>\n",
       "    </tr>\n",
       "    <tr>\n",
       "      <th>9810</th>\n",
       "      <td>60.0</td>\n",
       "      <td>60.0</td>\n",
       "      <td>34902.817661</td>\n",
       "      <td>37866.383266</td>\n",
       "      <td>113.0</td>\n",
       "      <td>8.0</td>\n",
       "      <td>8.0</td>\n",
       "      <td>2.365</td>\n",
       "      <td>0.000000</td>\n",
       "      <td>25387.752643</td>\n",
       "      <td>...</td>\n",
       "      <td>6.0</td>\n",
       "      <td>720.0</td>\n",
       "      <td>4.0</td>\n",
       "      <td>66.0</td>\n",
       "      <td>165.0</td>\n",
       "      <td>208.0</td>\n",
       "      <td>270.0</td>\n",
       "      <td>120.0</td>\n",
       "      <td>280.0</td>\n",
       "      <td>50.0</td>\n",
       "    </tr>\n",
       "    <tr>\n",
       "      <th>9813</th>\n",
       "      <td>52.0</td>\n",
       "      <td>47.0</td>\n",
       "      <td>67937.153461</td>\n",
       "      <td>68456.771849</td>\n",
       "      <td>112.0</td>\n",
       "      <td>15.0</td>\n",
       "      <td>15.0</td>\n",
       "      <td>5.000</td>\n",
       "      <td>50162.971463</td>\n",
       "      <td>35482.349602</td>\n",
       "      <td>...</td>\n",
       "      <td>5.0</td>\n",
       "      <td>240.0</td>\n",
       "      <td>8.0</td>\n",
       "      <td>70.0</td>\n",
       "      <td>172.0</td>\n",
       "      <td>172.0</td>\n",
       "      <td>172.0</td>\n",
       "      <td>163.0</td>\n",
       "      <td>181.0</td>\n",
       "      <td>45.0</td>\n",
       "    </tr>\n",
       "    <tr>\n",
       "      <th>9815</th>\n",
       "      <td>61.0</td>\n",
       "      <td>61.0</td>\n",
       "      <td>11140.687817</td>\n",
       "      <td>11179.994842</td>\n",
       "      <td>109.0</td>\n",
       "      <td>10.0</td>\n",
       "      <td>10.0</td>\n",
       "      <td>3.530</td>\n",
       "      <td>14116.878928</td>\n",
       "      <td>9661.836186</td>\n",
       "      <td>...</td>\n",
       "      <td>5.0</td>\n",
       "      <td>360.0</td>\n",
       "      <td>6.0</td>\n",
       "      <td>69.0</td>\n",
       "      <td>220.0</td>\n",
       "      <td>245.0</td>\n",
       "      <td>240.0</td>\n",
       "      <td>200.0</td>\n",
       "      <td>245.0</td>\n",
       "      <td>61.0</td>\n",
       "    </tr>\n",
       "    <tr>\n",
       "      <th>9817</th>\n",
       "      <td>40.0</td>\n",
       "      <td>43.0</td>\n",
       "      <td>45268.572702</td>\n",
       "      <td>49177.291000</td>\n",
       "      <td>115.0</td>\n",
       "      <td>9.0</td>\n",
       "      <td>9.0</td>\n",
       "      <td>3.810</td>\n",
       "      <td>0.000000</td>\n",
       "      <td>25387.752643</td>\n",
       "      <td>...</td>\n",
       "      <td>4.0</td>\n",
       "      <td>360.0</td>\n",
       "      <td>8.0</td>\n",
       "      <td>66.0</td>\n",
       "      <td>180.0</td>\n",
       "      <td>170.0</td>\n",
       "      <td>160.0</td>\n",
       "      <td>160.0</td>\n",
       "      <td>180.0</td>\n",
       "      <td>40.0</td>\n",
       "    </tr>\n",
       "    <tr>\n",
       "      <th>9820</th>\n",
       "      <td>42.0</td>\n",
       "      <td>42.0</td>\n",
       "      <td>24122.248900</td>\n",
       "      <td>26902.344381</td>\n",
       "      <td>104.0</td>\n",
       "      <td>7.0</td>\n",
       "      <td>7.0</td>\n",
       "      <td>3.660</td>\n",
       "      <td>15272.505199</td>\n",
       "      <td>10401.781170</td>\n",
       "      <td>...</td>\n",
       "      <td>3.0</td>\n",
       "      <td>720.0</td>\n",
       "      <td>7.0</td>\n",
       "      <td>64.0</td>\n",
       "      <td>195.0</td>\n",
       "      <td>185.0</td>\n",
       "      <td>155.0</td>\n",
       "      <td>135.0</td>\n",
       "      <td>195.0</td>\n",
       "      <td>42.0</td>\n",
       "    </tr>\n",
       "  </tbody>\n",
       "</table>\n",
       "<p>2897 rows × 238 columns</p>\n",
       "</div>"
      ],
      "text/plain": [
       "      RIDAGEYR  DMDHRAGE      WTINT2YR      WTMEC2YR  SDMVSTRA  INDHHIN2  \\\n",
       "1         54.0      54.0  23682.057386  24471.769625     108.0       7.0   \n",
       "4         73.0      78.0  63709.667069  65541.871229     116.0      15.0   \n",
       "5         56.0      56.0  24978.144602  25344.992359     111.0       9.0   \n",
       "7         61.0      61.0  60325.095254  61758.654880     114.0      10.0   \n",
       "9         56.0      56.0  16351.783140  17480.115175     112.0       4.0   \n",
       "...        ...       ...           ...           ...       ...       ...   \n",
       "9810      60.0      60.0  34902.817661  37866.383266     113.0       8.0   \n",
       "9813      52.0      47.0  67937.153461  68456.771849     112.0      15.0   \n",
       "9815      61.0      61.0  11140.687817  11179.994842     109.0      10.0   \n",
       "9817      40.0      43.0  45268.572702  49177.291000     115.0       9.0   \n",
       "9820      42.0      42.0  24122.248900  26902.344381     104.0       7.0   \n",
       "\n",
       "      INDFMIN2  INDFMPIR      WTDRD1_x      WTDR2D_x  ...  HOD050  PAD680  \\\n",
       "1          7.0     1.780  17932.143865  12684.148869  ...     7.0   540.0   \n",
       "4         15.0     5.000  59052.357033  39004.892993  ...     8.0   480.0   \n",
       "5          9.0     4.790  49890.828664      0.000000  ...     6.0   360.0   \n",
       "7         10.0     5.000  78988.755072  52173.157754  ...     6.0    60.0   \n",
       "9          4.0     0.480  30697.880780      0.000000  ...     5.0    30.0   \n",
       "...        ...       ...           ...           ...  ...     ...     ...   \n",
       "9810       8.0     2.365      0.000000  25387.752643  ...     6.0   720.0   \n",
       "9813      15.0     5.000  50162.971463  35482.349602  ...     5.0   240.0   \n",
       "9815      10.0     3.530  14116.878928   9661.836186  ...     5.0   360.0   \n",
       "9817       9.0     3.810      0.000000  25387.752643  ...     4.0   360.0   \n",
       "9820       7.0     3.660  15272.505199  10401.781170  ...     3.0   720.0   \n",
       "\n",
       "      SLD010H  WHD010  WHD020  WHD050  WHD110  WHD120  WHD140  WHQ150  \n",
       "1         9.0    71.0   200.0   160.0   240.0   250.0   250.0    25.0  \n",
       "4         9.0    67.0   120.0   150.0   150.0   135.0   170.0    60.0  \n",
       "5         5.0    64.0   235.0   240.0   225.0   195.0   244.0    54.0  \n",
       "7         9.0    64.0   212.0   212.0   195.0   127.0   212.0    61.0  \n",
       "9         6.0    61.0   137.0   137.0   130.0   120.0   152.0    45.0  \n",
       "...       ...     ...     ...     ...     ...     ...     ...     ...  \n",
       "9810      4.0    66.0   165.0   208.0   270.0   120.0   280.0    50.0  \n",
       "9813      8.0    70.0   172.0   172.0   172.0   163.0   181.0    45.0  \n",
       "9815      6.0    69.0   220.0   245.0   240.0   200.0   245.0    61.0  \n",
       "9817      8.0    66.0   180.0   170.0   160.0   160.0   180.0    40.0  \n",
       "9820      7.0    64.0   195.0   185.0   155.0   135.0   195.0    42.0  \n",
       "\n",
       "[2897 rows x 238 columns]"
      ]
     },
     "execution_count": 15,
     "metadata": {},
     "output_type": "execute_result"
    }
   ],
   "source": [
    "# Create the ExtractTargetFeatures transformer\n",
    "extractor = ExtractTargetFeatures()\n",
    "\n",
    "# Fit the extractor on your data\n",
    "extractor.fit(cleaned_df)\n",
    "\n",
    "# Transform the data to extract the target and features\n",
    "df, target = extractor.transform(cleaned_df)\n",
    "\n",
    "# Print the extracted features target\n",
    "print(\"Features:\")\n",
    "print(df.shape)\n",
    "print(\"Target:\")\n",
    "print(target.shape)\n",
    "\n",
    "df"
   ]
  },
  {
   "cell_type": "markdown",
   "metadata": {},
   "source": [
    "## Scaling/Normalization"
   ]
  },
  {
   "cell_type": "markdown",
   "metadata": {},
   "source": [
    "To extract better results from PCA, StandardScaler is used to standardize the data."
   ]
  },
  {
   "cell_type": "code",
   "execution_count": 16,
   "metadata": {},
   "outputs": [
    {
     "data": {
      "text/plain": [
       "(2897, 238)"
      ]
     },
     "execution_count": 16,
     "metadata": {},
     "output_type": "execute_result"
    }
   ],
   "source": [
    "scaler = StandardScaler()\n",
    "scaled_features = scaler.fit_transform(df)\n",
    "\n",
    "scaled_df = pd.DataFrame(scaled_features, columns=df.columns)\n",
    "scaled_df.shape"
   ]
  },
  {
   "cell_type": "markdown",
   "metadata": {},
   "source": [
    "# Performing PCA"
   ]
  },
  {
   "cell_type": "code",
   "execution_count": 17,
   "metadata": {},
   "outputs": [
    {
     "name": "stdout",
     "output_type": "stream",
     "text": [
      "Number of features: 238\n"
     ]
    }
   ],
   "source": [
    "#Defining the number of principal components to generate \n",
    "n_features = scaled_df.shape[1]\n",
    "print(f'Number of features: {n_features}')\n",
    "\n",
    "#Finding principal components for the data\n",
    "pca = PCA(n_components=n_features, random_state=1)\n",
    "data_pca1 = pd.DataFrame(pca.fit_transform(scaled_df))\n",
    "\n",
    "#The percentage of variance explained by each principal component\n",
    "exp_var = pca.explained_variance_ratio_"
   ]
  },
  {
   "cell_type": "markdown",
   "metadata": {},
   "source": [
    "## Explained Variance\n"
   ]
  },
  {
   "cell_type": "markdown",
   "metadata": {},
   "source": [
    "Explained Variance is a fundamental metric that helps us understand how much of the total variance in the original dataset is captured by each principal component."
   ]
  },
  {
   "cell_type": "code",
   "execution_count": 18,
   "metadata": {},
   "outputs": [
    {
     "data": {
      "image/png": "[encoded data removed]",
      "text/plain": [
       "<Figure size 720x720 with 1 Axes>"
      ]
     },
     "metadata": {
      "needs_background": "light"
     },
     "output_type": "display_data"
    }
   ],
   "source": [
    "import matplotlib.pyplot as plt\n",
    "\n",
    "plt.figure(figsize = (10,10))\n",
    "plt.plot(range(1,n_features+1), exp_var.cumsum(), marker = 'o', linestyle = '--')\n",
    "plt.title(\"Explained Variances by Components\")\n",
    "plt.xlabel(\"Number of Components\")\n",
    "plt.ylabel(\"Cumulative Explained Variance\")\n",
    "plt.show()"
   ]
  },
  {
   "cell_type": "code",
   "execution_count": 19,
   "metadata": {},
   "outputs": [
    {
     "name": "stdout",
     "output_type": "stream",
     "text": [
      "Number of PCs that explain at least 90% variance: 88\n"
     ]
    }
   ],
   "source": [
    "# Initialize variables to keep track of cumulative explained variance and the number of components above 90% variance\n",
    "sum = 0  # Cumulative explained variance\n",
    "n_components_above_90 = 0  # Number of components above 90% variance\n",
    "\n",
    "# Loop through the explained variance values (exp_var) and their indices (ix)\n",
    "for ix, i in enumerate(exp_var):\n",
    "    # Add the current explained variance value to the cumulative sum\n",
    "    sum = sum + i\n",
    "\n",
    "    # Check if the cumulative explained variance has exceeded 90%\n",
    "    if sum > 0.90:\n",
    "        # Record the number of principal components required to explain at least 90% variance\n",
    "        n_components_above_90 = ix + 1\n",
    "        print(f'Number of PCs that explain at least 90% variance: {ix + 1}')\n",
    "        break"
   ]
  },
  {
   "cell_type": "code",
   "execution_count": 20,
   "metadata": {},
   "outputs": [],
   "source": [
    "# Calculate the gap size as 10% of the total number of features\n",
    "gap_size = round(n_features * 0.1)\n",
    "\n",
    "# Create a list of candidate values for the number of principal components\n",
    "n_components_list = list(range(gap_size, n_features, gap_size))\n",
    "\n",
    "# Append the number of components needed to explain at least 90% variance\n",
    "n_components_list.append(n_components_above_90)\n",
    "\n",
    "# Sort the list of candidate values in ascending order\n",
    "n_components_list.sort()\n",
    "\n",
    "# The resulting n_components_list contains candidate values for the number of principal components\n",
    "# These values are spaced apart by 10% of the total number of features and include the number of components needed for 90% variance\n"
   ]
  },
  {
   "cell_type": "markdown",
   "metadata": {},
   "source": [
    "## PCA Feature Loadings"
   ]
  },
  {
   "cell_type": "markdown",
   "metadata": {},
   "source": [
    "Feature Loading is a concept that helps us understand the relationship between the original features and the principal components (PCs). It provides insights into how each feature contributes to the formation of principal components."
   ]
  },
  {
   "cell_type": "code",
   "execution_count": 21,
   "metadata": {},
   "outputs": [],
   "source": [
    "def PlotFeatureLoadings(n):\n",
    "    pca = PCA(n_components=n)\n",
    "    pca.fit_transform(scaled_df)\n",
    "    \n",
    "    # Access the loadings (coefficients) for the original features in each principal component\n",
    "    loadings = pca.components_\n",
    "\n",
    "    # Create a DataFrame to show the loadings for each feature in each principal component\n",
    "    loadings_df = pd.DataFrame(loadings, columns=df.columns)\n",
    "\n",
    "    first_component_loadings = loadings_df.iloc[0]\n",
    "\n",
    "    # Sort loadings for visualization\n",
    "    n_features_to_display = round(loadings_df.shape[0]/5)\n",
    "    sorted_loadings = first_component_loadings.abs().sort_values(ascending=False)[:n_features_to_display]\n",
    "\n",
    "    # Plot bar chart of loadings\n",
    "    plt.figure(figsize=(30, 10))\n",
    "    plt.bar(sorted_loadings.index, sorted_loadings)\n",
    "    plt.xticks(rotation=90)\n",
    "    plt.ylabel('Loading Value')\n",
    "    plt.xlabel(f'The {n_features_to_display} most influencial features')\n",
    "    plt.title('Loadings of First Principal Component')\n",
    "    plt.show()\n",
    "\n",
    "    print(f'Most influencial feature: {sorted_loadings.index[0]}')"
   ]
  },
  {
   "cell_type": "code",
   "execution_count": 22,
   "metadata": {},
   "outputs": [
    {
     "data": {
      "image/png": "[encoded data removed]",
      "text/plain": [
       "<Figure size 2160x720 with 1 Axes>"
      ]
     },
     "metadata": {
      "needs_background": "light"
     },
     "output_type": "display_data"
    },
    {
     "name": "stdout",
     "output_type": "stream",
     "text": [
      "Most influencial feature: DR1TKCAL\n"
     ]
    }
   ],
   "source": [
    "PlotFeatureLoadings(n_features)"
   ]
  },
  {
   "cell_type": "code",
   "execution_count": 23,
   "metadata": {},
   "outputs": [
    {
     "name": "stdout",
     "output_type": "stream",
     "text": [
      "Number of principal components: 24\n",
      "Number of principal components: 48\n",
      "Number of principal components: 72\n",
      "Number of principal components: 88\n",
      "Number of principal components: 96\n",
      "Number of principal components: 120\n",
      "Number of principal components: 144\n",
      "Number of principal components: 168\n",
      "Number of principal components: 192\n",
      "Number of principal components: 216\n"
     ]
    }
   ],
   "source": [
    "# Create an empty list to store DataFrames containing PCA results\n",
    "pca_result_df_list = []\n",
    "\n",
    "# Loop over different numbers of principal components specified in n_components_list\n",
    "for i in n_components_list:\n",
    "    # Create a PCA (Principal Component Analysis) object with the desired number of components\n",
    "    pca = PCA(n_components=i)\n",
    "\n",
    "    # Fit the PCA model and transform the scaled data into a reduced-dimensional space\n",
    "    pca_result = pca.fit_transform(scaled_df)\n",
    "\n",
    "    # Convert the PCA results into a DataFrame and append it to the list\n",
    "    pca_result_df_list.append(pd.DataFrame(pca_result))\n",
    "\n",
    "    # Print the number of principal components obtained after dimensionality reduction\n",
    "    print(f'Number of principal components: {pd.DataFrame(pca_result).shape[1]}')\n"
   ]
  },
  {
   "cell_type": "code",
   "execution_count": 24,
   "metadata": {},
   "outputs": [],
   "source": [
    "def metrics_score(actual, predicted):\n",
    "    report = classification_report(actual, predicted, output_dict=True)\n",
    "    print(classification_report(actual, predicted))\n",
    "\n",
    "    cm = confusion_matrix(actual, predicted)\n",
    "    plt.figure(figsize=(8,5))\n",
    "    \n",
    "    sns.heatmap(cm, annot=True,  fmt='.2f', xticklabels=['Normal', 'Osteo'], yticklabels=['Normal', 'Osteo'], cmap=\"Greens\")\n",
    "    plt.ylabel('Actual')\n",
    "    plt.xlabel('Predicted')\n",
    "    plt.show()\n",
    "\n",
    "    return report"
   ]
  },
  {
   "cell_type": "markdown",
   "metadata": {},
   "source": [
    "## Data Splitting and Model Training"
   ]
  },
  {
   "cell_type": "code",
   "execution_count": 25,
   "metadata": {},
   "outputs": [
    {
     "name": "stdout",
     "output_type": "stream",
     "text": [
      "Number of principal components: 24\n",
      "\n",
      "TRAIN SET\n",
      "              precision    recall  f1-score   support\n",
      "\n",
      "         0.0       0.76      0.82      0.79      1247\n",
      "         1.0       0.67      0.59      0.63       780\n",
      "\n",
      "    accuracy                           0.73      2027\n",
      "   macro avg       0.72      0.70      0.71      2027\n",
      "weighted avg       0.73      0.73      0.73      2027\n",
      "\n"
     ]
    },
    {
     "data": {
      "image/png": "[encoded data removed]",
      "text/plain": [
       "<Figure size 576x360 with 2 Axes>"
      ]
     },
     "metadata": {
      "needs_background": "light"
     },
     "output_type": "display_data"
    },
    {
     "name": "stdout",
     "output_type": "stream",
     "text": [
      "TEST SET\n",
      "              precision    recall  f1-score   support\n",
      "\n",
      "         0.0       0.74      0.83      0.78       530\n",
      "         1.0       0.67      0.54      0.60       340\n",
      "\n",
      "    accuracy                           0.72       870\n",
      "   macro avg       0.71      0.69      0.69       870\n",
      "weighted avg       0.71      0.72      0.71       870\n",
      "\n"
     ]
    },
    {
     "data": {
      "image/png": "[encoded data removed]",
      "text/plain": [
       "<Figure size 576x360 with 2 Axes>"
      ]
     },
     "metadata": {
      "needs_background": "light"
     },
     "output_type": "display_data"
    },
    {
     "name": "stdout",
     "output_type": "stream",
     "text": [
      "--------------------------------------------------------------\n",
      "Number of principal components: 48\n",
      "\n",
      "TRAIN SET\n",
      "              precision    recall  f1-score   support\n",
      "\n",
      "         0.0       0.77      0.84      0.80      1247\n",
      "         1.0       0.70      0.60      0.65       780\n",
      "\n",
      "    accuracy                           0.75      2027\n",
      "   macro avg       0.73      0.72      0.72      2027\n",
      "weighted avg       0.74      0.75      0.74      2027\n",
      "\n"
     ]
    },
    {
     "data": {
      "image/png": "[encoded data removed]",
      "text/plain": [
       "<Figure size 576x360 with 2 Axes>"
      ]
     },
     "metadata": {
      "needs_background": "light"
     },
     "output_type": "display_data"
    },
    {
     "name": "stdout",
     "output_type": "stream",
     "text": [
      "TEST SET\n",
      "              precision    recall  f1-score   support\n",
      "\n",
      "         0.0       0.73      0.82      0.77       530\n",
      "         1.0       0.66      0.53      0.58       340\n",
      "\n",
      "    accuracy                           0.71       870\n",
      "   macro avg       0.69      0.67      0.68       870\n",
      "weighted avg       0.70      0.71      0.70       870\n",
      "\n"
     ]
    },
    {
     "data": {
      "image/png": "[encoded data removed]",
      "text/plain": [
       "<Figure size 576x360 with 2 Axes>"
      ]
     },
     "metadata": {
      "needs_background": "light"
     },
     "output_type": "display_data"
    },
    {
     "name": "stdout",
     "output_type": "stream",
     "text": [
      "--------------------------------------------------------------\n",
      "Number of principal components: 72\n",
      "\n",
      "TRAIN SET\n",
      "              precision    recall  f1-score   support\n",
      "\n",
      "         0.0       0.79      0.84      0.81      1247\n",
      "         1.0       0.71      0.64      0.67       780\n",
      "\n",
      "    accuracy                           0.76      2027\n",
      "   macro avg       0.75      0.74      0.74      2027\n",
      "weighted avg       0.76      0.76      0.76      2027\n",
      "\n"
     ]
    },
    {
     "data": {
      "image/png": "[encoded data removed]",
      "text/plain": [
       "<Figure size 576x360 with 2 Axes>"
      ]
     },
     "metadata": {
      "needs_background": "light"
     },
     "output_type": "display_data"
    },
    {
     "name": "stdout",
     "output_type": "stream",
     "text": [
      "TEST SET\n",
      "              precision    recall  f1-score   support\n",
      "\n",
      "         0.0       0.75      0.82      0.78       530\n",
      "         1.0       0.67      0.57      0.61       340\n",
      "\n",
      "    accuracy                           0.72       870\n",
      "   macro avg       0.71      0.69      0.70       870\n",
      "weighted avg       0.72      0.72      0.72       870\n",
      "\n"
     ]
    },
    {
     "data": {
      "image/png": "[encoded data removed]",
      "text/plain": [
       "<Figure size 576x360 with 2 Axes>"
      ]
     },
     "metadata": {
      "needs_background": "light"
     },
     "output_type": "display_data"
    },
    {
     "name": "stdout",
     "output_type": "stream",
     "text": [
      "--------------------------------------------------------------\n",
      "Number of principal components: 88\n",
      "\n",
      "TRAIN SET\n",
      "              precision    recall  f1-score   support\n",
      "\n",
      "         0.0       0.78      0.84      0.81      1247\n",
      "         1.0       0.71      0.62      0.67       780\n",
      "\n",
      "    accuracy                           0.76      2027\n",
      "   macro avg       0.75      0.73      0.74      2027\n",
      "weighted avg       0.76      0.76      0.76      2027\n",
      "\n"
     ]
    },
    {
     "data": {
      "image/png": "[encoded data removed]",
      "text/plain": [
       "<Figure size 576x360 with 2 Axes>"
      ]
     },
     "metadata": {
      "needs_background": "light"
     },
     "output_type": "display_data"
    },
    {
     "name": "stdout",
     "output_type": "stream",
     "text": [
      "TEST SET\n",
      "              precision    recall  f1-score   support\n",
      "\n",
      "         0.0       0.75      0.82      0.78       530\n",
      "         1.0       0.66      0.56      0.61       340\n",
      "\n",
      "    accuracy                           0.72       870\n",
      "   macro avg       0.70      0.69      0.69       870\n",
      "weighted avg       0.71      0.72      0.71       870\n",
      "\n"
     ]
    },
    {
     "data": {
      "image/png": "[encoded data removed]",
      "text/plain": [
       "<Figure size 576x360 with 2 Axes>"
      ]
     },
     "metadata": {
      "needs_background": "light"
     },
     "output_type": "display_data"
    },
    {
     "name": "stdout",
     "output_type": "stream",
     "text": [
      "--------------------------------------------------------------\n",
      "Number of principal components: 96\n",
      "\n",
      "TRAIN SET\n",
      "              precision    recall  f1-score   support\n",
      "\n",
      "         0.0       0.78      0.84      0.81      1247\n",
      "         1.0       0.71      0.63      0.67       780\n",
      "\n",
      "    accuracy                           0.76      2027\n",
      "   macro avg       0.74      0.73      0.74      2027\n",
      "weighted avg       0.75      0.76      0.75      2027\n",
      "\n"
     ]
    },
    {
     "data": {
      "image/png": "[encoded data removed]",
      "text/plain": [
       "<Figure size 576x360 with 2 Axes>"
      ]
     },
     "metadata": {
      "needs_background": "light"
     },
     "output_type": "display_data"
    },
    {
     "name": "stdout",
     "output_type": "stream",
     "text": [
      "TEST SET\n",
      "              precision    recall  f1-score   support\n",
      "\n",
      "         0.0       0.75      0.80      0.77       530\n",
      "         1.0       0.65      0.58      0.61       340\n",
      "\n",
      "    accuracy                           0.71       870\n",
      "   macro avg       0.70      0.69      0.69       870\n",
      "weighted avg       0.71      0.71      0.71       870\n",
      "\n"
     ]
    },
    {
     "data": {
      "image/png": "[encoded data removed]",
      "text/plain": [
       "<Figure size 576x360 with 2 Axes>"
      ]
     },
     "metadata": {
      "needs_background": "light"
     },
     "output_type": "display_data"
    },
    {
     "name": "stdout",
     "output_type": "stream",
     "text": [
      "--------------------------------------------------------------\n",
      "Number of principal components: 120\n",
      "\n",
      "TRAIN SET\n",
      "              precision    recall  f1-score   support\n",
      "\n",
      "         0.0       0.79      0.85      0.82      1247\n",
      "         1.0       0.73      0.64      0.68       780\n",
      "\n",
      "    accuracy                           0.77      2027\n",
      "   macro avg       0.76      0.74      0.75      2027\n",
      "weighted avg       0.77      0.77      0.76      2027\n",
      "\n"
     ]
    },
    {
     "data": {
      "image/png": "[encoded data removed]",
      "text/plain": [
       "<Figure size 576x360 with 2 Axes>"
      ]
     },
     "metadata": {
      "needs_background": "light"
     },
     "output_type": "display_data"
    },
    {
     "name": "stdout",
     "output_type": "stream",
     "text": [
      "TEST SET\n",
      "              precision    recall  f1-score   support\n",
      "\n",
      "         0.0       0.74      0.81      0.77       530\n",
      "         1.0       0.65      0.55      0.59       340\n",
      "\n",
      "    accuracy                           0.71       870\n",
      "   macro avg       0.69      0.68      0.68       870\n",
      "weighted avg       0.70      0.71      0.70       870\n",
      "\n"
     ]
    },
    {
     "data": {
      "image/png": "[encoded data removed]",
      "text/plain": [
       "<Figure size 576x360 with 2 Axes>"
      ]
     },
     "metadata": {
      "needs_background": "light"
     },
     "output_type": "display_data"
    },
    {
     "name": "stdout",
     "output_type": "stream",
     "text": [
      "--------------------------------------------------------------\n",
      "Number of principal components: 144\n",
      "\n",
      "TRAIN SET\n",
      "              precision    recall  f1-score   support\n",
      "\n",
      "         0.0       0.79      0.85      0.82      1247\n",
      "         1.0       0.73      0.65      0.69       780\n",
      "\n",
      "    accuracy                           0.77      2027\n",
      "   macro avg       0.76      0.75      0.75      2027\n",
      "weighted avg       0.77      0.77      0.77      2027\n",
      "\n"
     ]
    },
    {
     "data": {
      "image/png": "[encoded data removed]",
      "text/plain": [
       "<Figure size 576x360 with 2 Axes>"
      ]
     },
     "metadata": {
      "needs_background": "light"
     },
     "output_type": "display_data"
    },
    {
     "name": "stdout",
     "output_type": "stream",
     "text": [
      "TEST SET\n",
      "              precision    recall  f1-score   support\n",
      "\n",
      "         0.0       0.75      0.81      0.78       530\n",
      "         1.0       0.66      0.57      0.61       340\n",
      "\n",
      "    accuracy                           0.72       870\n",
      "   macro avg       0.70      0.69      0.69       870\n",
      "weighted avg       0.71      0.72      0.71       870\n",
      "\n"
     ]
    },
    {
     "data": {
      "image/png": "[encoded data removed]",
      "text/plain": [
       "<Figure size 576x360 with 2 Axes>"
      ]
     },
     "metadata": {
      "needs_background": "light"
     },
     "output_type": "display_data"
    },
    {
     "name": "stdout",
     "output_type": "stream",
     "text": [
      "--------------------------------------------------------------\n",
      "Number of principal components: 168\n",
      "\n",
      "TRAIN SET\n",
      "              precision    recall  f1-score   support\n",
      "\n",
      "         0.0       0.79      0.85      0.82      1247\n",
      "         1.0       0.73      0.65      0.69       780\n",
      "\n",
      "    accuracy                           0.77      2027\n",
      "   macro avg       0.76      0.75      0.75      2027\n",
      "weighted avg       0.77      0.77      0.77      2027\n",
      "\n"
     ]
    },
    {
     "data": {
      "image/png": "[encoded data removed]",
      "text/plain": [
       "<Figure size 576x360 with 2 Axes>"
      ]
     },
     "metadata": {
      "needs_background": "light"
     },
     "output_type": "display_data"
    },
    {
     "name": "stdout",
     "output_type": "stream",
     "text": [
      "TEST SET\n",
      "              precision    recall  f1-score   support\n",
      "\n",
      "         0.0       0.74      0.80      0.77       530\n",
      "         1.0       0.64      0.57      0.60       340\n",
      "\n",
      "    accuracy                           0.71       870\n",
      "   macro avg       0.69      0.68      0.69       870\n",
      "weighted avg       0.70      0.71      0.70       870\n",
      "\n"
     ]
    },
    {
     "data": {
      "image/png": "[encoded data removed]",
      "text/plain": [
       "<Figure size 576x360 with 2 Axes>"
      ]
     },
     "metadata": {
      "needs_background": "light"
     },
     "output_type": "display_data"
    },
    {
     "name": "stdout",
     "output_type": "stream",
     "text": [
      "--------------------------------------------------------------\n",
      "Number of principal components: 192\n",
      "\n",
      "TRAIN SET\n",
      "              precision    recall  f1-score   support\n",
      "\n",
      "         0.0       0.80      0.86      0.83      1247\n",
      "         1.0       0.75      0.66      0.70       780\n",
      "\n",
      "    accuracy                           0.78      2027\n",
      "   macro avg       0.77      0.76      0.76      2027\n",
      "weighted avg       0.78      0.78      0.78      2027\n",
      "\n"
     ]
    },
    {
     "data": {
      "image/png": "[encoded data removed]",
      "text/plain": [
       "<Figure size 576x360 with 2 Axes>"
      ]
     },
     "metadata": {
      "needs_background": "light"
     },
     "output_type": "display_data"
    },
    {
     "name": "stdout",
     "output_type": "stream",
     "text": [
      "TEST SET\n",
      "              precision    recall  f1-score   support\n",
      "\n",
      "         0.0       0.74      0.80      0.77       530\n",
      "         1.0       0.64      0.56      0.60       340\n",
      "\n",
      "    accuracy                           0.70       870\n",
      "   macro avg       0.69      0.68      0.68       870\n",
      "weighted avg       0.70      0.70      0.70       870\n",
      "\n"
     ]
    },
    {
     "data": {
      "image/png": "[encoded data removed]",
      "text/plain": [
       "<Figure size 576x360 with 2 Axes>"
      ]
     },
     "metadata": {
      "needs_background": "light"
     },
     "output_type": "display_data"
    },
    {
     "name": "stdout",
     "output_type": "stream",
     "text": [
      "--------------------------------------------------------------\n",
      "Number of principal components: 216\n",
      "\n",
      "TRAIN SET\n",
      "              precision    recall  f1-score   support\n",
      "\n",
      "         0.0       0.80      0.87      0.83      1247\n",
      "         1.0       0.75      0.65      0.70       780\n",
      "\n",
      "    accuracy                           0.78      2027\n",
      "   macro avg       0.78      0.76      0.77      2027\n",
      "weighted avg       0.78      0.78      0.78      2027\n",
      "\n"
     ]
    },
    {
     "data": {
      "image/png": "[encoded data removed]",
      "text/plain": [
       "<Figure size 576x360 with 2 Axes>"
      ]
     },
     "metadata": {
      "needs_background": "light"
     },
     "output_type": "display_data"
    },
    {
     "name": "stdout",
     "output_type": "stream",
     "text": [
      "TEST SET\n",
      "              precision    recall  f1-score   support\n",
      "\n",
      "         0.0       0.74      0.79      0.76       530\n",
      "         1.0       0.63      0.56      0.59       340\n",
      "\n",
      "    accuracy                           0.70       870\n",
      "   macro avg       0.68      0.67      0.68       870\n",
      "weighted avg       0.69      0.70      0.69       870\n",
      "\n"
     ]
    },
    {
     "data": {
      "image/png": "[encoded data removed]",
      "text/plain": [
       "<Figure size 576x360 with 2 Axes>"
      ]
     },
     "metadata": {
      "needs_background": "light"
     },
     "output_type": "display_data"
    },
    {
     "name": "stdout",
     "output_type": "stream",
     "text": [
      "--------------------------------------------------------------\n"
     ]
    }
   ],
   "source": [
    "logistic=LogisticRegression(max_iter=300, random_state=42)\n",
    "\n",
    "metrics_score_list = []\n",
    "roc_auc_score_list = []\n",
    "metrics_score_list2 = []\n",
    "roc_auc_score_list2 = []\n",
    "for i in pca_result_df_list:\n",
    "    print(f'Number of principal components: {len(i.columns)}\\n')\n",
    "    X_train, X_test, y_train, y_test = train_test_split(i, target, test_size=0.3, random_state=42)\n",
    "    logistic.fit(X=X_train,y=y_train)\n",
    "    logistic.predict(X_test)\n",
    "    #print(f'Accuracy: {logistic.score(X_test,y_test)}')\n",
    "    print(\"TRAIN SET\")\n",
    "    metrics_score_list.append(metrics_score(y_train, logistic.predict(X_train)))\n",
    "    roc_auc_score_list.append(roc_auc_score(y_train, logistic.predict(X_train)))\n",
    "    print(\"TEST SET\")\n",
    "    metrics_score_list2.append(metrics_score(y_test, logistic.predict(X_test)))\n",
    "    roc_auc_score_list2.append(roc_auc_score(y_test, logistic.predict(X_test)))\n",
    "    #print(roc_auc_score(y_test, logistic.predict(X_test)))\n",
    "    print(f'--------------------------------------------------------------')\n",
    "    "
   ]
  },
  {
   "cell_type": "markdown",
   "metadata": {},
   "source": [
    "## Metrics Visualization"
   ]
  },
  {
   "cell_type": "code",
   "execution_count": 26,
   "metadata": {},
   "outputs": [
    {
     "data": {
      "image/png": "[encoded data removed]",
      "text/plain": [
       "<Figure size 864x432 with 1 Axes>"
      ]
     },
     "metadata": {
      "needs_background": "light"
     },
     "output_type": "display_data"
    }
   ],
   "source": [
    "precision_score_list = []\n",
    "precision_score_list2 = []\n",
    "\n",
    "for i in metrics_score_list:\n",
    "    precision_score_list.append(i['weighted avg']['precision'])\n",
    "\n",
    "for i in metrics_score_list2:\n",
    "    precision_score_list2.append(i['weighted avg']['precision'])\n",
    "\n",
    "# Create a DataFrame\n",
    "data = {\n",
    "    'Number of Principal Components': n_components_list,\n",
    "    'Precision': precision_score_list,\n",
    "    'ROC AUC': roc_auc_score_list,\n",
    "    'Precision_test': precision_score_list2,\n",
    "    'ROC AUC_test': roc_auc_score_list2\n",
    "}\n",
    "\n",
    "df = pd.DataFrame(data)\n",
    "\n",
    "# Melt the DataFrame to reshape it into a \"tidy\" format\n",
    "df_melted = pd.melt(df, id_vars=['Number of Principal Components'], value_vars=['Precision', 'ROC AUC', 'Precision_test', 'ROC AUC_test'], var_name='Metrics', value_name='Score')\n",
    "\n",
    "# Set up the figure\n",
    "plt.figure(figsize=(12, 6))\n",
    "\n",
    "# Create a grouped bar plot using seaborn\n",
    "sns.barplot(x='Number of Principal Components', y='Score', hue='Metrics', data=df_melted, palette='Set1')\n",
    "\n",
    "plt.title('Metrics vs Number of Principal Components')\n",
    "plt.ylim(0, 1.0)  # Set the y-axis limits for better visualization\n",
    "plt.ylim(max(max(max(precision_score_list), max(roc_auc_score_list)) - 0.15, 0), min(max(max(precision_score_list), max(roc_auc_score_list)) + 0.05, 1))  # Set the y-axis limits for better visualization\n",
    "plt.legend(title='Metrics', title_fontsize='12')\n",
    "plt.show()\n"
   ]
  },
  {
   "cell_type": "markdown",
   "metadata": {},
   "source": [
    "# Hyperparameter Tuning"
   ]
  },
  {
   "cell_type": "markdown",
   "metadata": {},
   "source": [
    "In this Hyperparameter tuning section, the dataset with 88 principal components is choosen as it is the one with the least features that explains 90% of the original data."
   ]
  },
  {
   "cell_type": "code",
   "execution_count": 27,
   "metadata": {},
   "outputs": [
    {
     "name": "stdout",
     "output_type": "stream",
     "text": [
      "{'C': 0.001, 'max_iter': 100, 'solver': 'lbfgs'}\n"
     ]
    }
   ],
   "source": [
    "# Split the data into training and testing sets\n",
    "X_train, X_test, y_train, y_test = train_test_split(pca_result_df_list[3], target, test_size=0.3, random_state=42)\n",
    "\n",
    "# Create a logistic regression model\n",
    "logistic = LogisticRegression()\n",
    "\n",
    "# Define a grid of hyperparameters to search\n",
    "param_grid = {\n",
    "    'C': [0.001, 0.01, 0.1, 1, 10],  # Regularization parameter\n",
    "    'solver': ['lbfgs', 'liblinear'],  # Solver algorithm\n",
    "    'max_iter': [100, 200, 300]  # Maximum number of iterations\n",
    "}\n",
    "\n",
    "# Create the grid search with cross-validation\n",
    "grid_search = GridSearchCV(estimator=logistic, param_grid=param_grid, cv=5, scoring='roc_auc')\n",
    "\n",
    "# Fit the grid search to the training data\n",
    "grid_search.fit(X_train, y_train)\n",
    "\n",
    "# Get the best hyperparameters\n",
    "best_params = grid_search.best_params_\n",
    "print(best_params)\n",
    "\n",
    "# Create a logistic regression model with the best hyperparameters\n",
    "best_logistic = LogisticRegression(**best_params)\n",
    "\n",
    "# Fit the best model to the training data\n",
    "best_logistic.fit(X_train, y_train)\n",
    "\n",
    "# Make predictions on the test data\n",
    "y_pred = best_logistic.predict(X_test)"
   ]
  },
  {
   "cell_type": "code",
   "execution_count": 28,
   "metadata": {},
   "outputs": [
    {
     "name": "stdout",
     "output_type": "stream",
     "text": [
      "              precision    recall  f1-score   support\n",
      "\n",
      "         0.0       0.73      0.86      0.79       530\n",
      "         1.0       0.71      0.51      0.60       340\n",
      "\n",
      "    accuracy                           0.73       870\n",
      "   macro avg       0.72      0.69      0.69       870\n",
      "weighted avg       0.72      0.73      0.72       870\n",
      "\n"
     ]
    },
    {
     "data": {
      "image/png": "[encoded data removed]",
      "text/plain": [
       "<Figure size 576x360 with 2 Axes>"
      ]
     },
     "metadata": {
      "needs_background": "light"
     },
     "output_type": "display_data"
    },
    {
     "data": {
      "text/plain": [
       "{'0.0': {'precision': 0.7347266881028939,\n",
       "  'recall': 0.8622641509433963,\n",
       "  'f1-score': 0.7934027777777778,\n",
       "  'support': 530},\n",
       " '1.0': {'precision': 0.7056451612903226,\n",
       "  'recall': 0.5147058823529411,\n",
       "  'f1-score': 0.5952380952380952,\n",
       "  'support': 340},\n",
       " 'accuracy': 0.7264367816091954,\n",
       " 'macro avg': {'precision': 0.7201859246966082,\n",
       "  'recall': 0.6884850166481686,\n",
       "  'f1-score': 0.6943204365079365,\n",
       "  'support': 870},\n",
       " 'weighted avg': {'precision': 0.7233614937163717,\n",
       "  'recall': 0.7264367816091954,\n",
       "  'f1-score': 0.7159591087392811,\n",
       "  'support': 870}}"
      ]
     },
     "execution_count": 28,
     "metadata": {},
     "output_type": "execute_result"
    }
   ],
   "source": [
    "metrics_score(y_test, y_pred)"
   ]
  },
  {
   "cell_type": "markdown",
   "metadata": {},
   "source": [
    "Now we repeat the process with the addition of a categorical features like gender to see it improves anything."
   ]
  },
  {
   "cell_type": "code",
   "execution_count": 29,
   "metadata": {},
   "outputs": [
    {
     "data": {
      "text/html": [
       "<div>\n",
       "<style scoped>\n",
       "    .dataframe tbody tr th:only-of-type {\n",
       "        vertical-align: middle;\n",
       "    }\n",
       "\n",
       "    .dataframe tbody tr th {\n",
       "        vertical-align: top;\n",
       "    }\n",
       "\n",
       "    .dataframe thead th {\n",
       "        text-align: right;\n",
       "    }\n",
       "</style>\n",
       "<table border=\"1\" class=\"dataframe\">\n",
       "  <thead>\n",
       "    <tr style=\"text-align: right;\">\n",
       "      <th></th>\n",
       "      <th>RIAGENDR</th>\n",
       "    </tr>\n",
       "  </thead>\n",
       "  <tbody>\n",
       "    <tr>\n",
       "      <th>0</th>\n",
       "      <td>1.0</td>\n",
       "    </tr>\n",
       "    <tr>\n",
       "      <th>1</th>\n",
       "      <td>2.0</td>\n",
       "    </tr>\n",
       "    <tr>\n",
       "      <th>2</th>\n",
       "      <td>1.0</td>\n",
       "    </tr>\n",
       "    <tr>\n",
       "      <th>3</th>\n",
       "      <td>2.0</td>\n",
       "    </tr>\n",
       "    <tr>\n",
       "      <th>4</th>\n",
       "      <td>2.0</td>\n",
       "    </tr>\n",
       "    <tr>\n",
       "      <th>...</th>\n",
       "      <td>...</td>\n",
       "    </tr>\n",
       "    <tr>\n",
       "      <th>2892</th>\n",
       "      <td>2.0</td>\n",
       "    </tr>\n",
       "    <tr>\n",
       "      <th>2893</th>\n",
       "      <td>1.0</td>\n",
       "    </tr>\n",
       "    <tr>\n",
       "      <th>2894</th>\n",
       "      <td>1.0</td>\n",
       "    </tr>\n",
       "    <tr>\n",
       "      <th>2895</th>\n",
       "      <td>1.0</td>\n",
       "    </tr>\n",
       "    <tr>\n",
       "      <th>2896</th>\n",
       "      <td>2.0</td>\n",
       "    </tr>\n",
       "  </tbody>\n",
       "</table>\n",
       "<p>2897 rows × 1 columns</p>\n",
       "</div>"
      ],
      "text/plain": [
       "      RIAGENDR\n",
       "0          1.0\n",
       "1          2.0\n",
       "2          1.0\n",
       "3          2.0\n",
       "4          2.0\n",
       "...        ...\n",
       "2892       2.0\n",
       "2893       1.0\n",
       "2894       1.0\n",
       "2895       1.0\n",
       "2896       2.0\n",
       "\n",
       "[2897 rows x 1 columns]"
      ]
     },
     "execution_count": 29,
     "metadata": {},
     "output_type": "execute_result"
    }
   ],
   "source": [
    "gender = pd.DataFrame(full_df['RIAGENDR'].reset_index(drop=True))\n",
    "gender"
   ]
  },
  {
   "cell_type": "code",
   "execution_count": 30,
   "metadata": {},
   "outputs": [],
   "source": [
    "new_scaler = StandardScaler()\n",
    "\n",
    "gender_scaled = pd.DataFrame(new_scaler.fit_transform(gender))"
   ]
  },
  {
   "cell_type": "code",
   "execution_count": 31,
   "metadata": {},
   "outputs": [
    {
     "data": {
      "text/html": [
       "<div>\n",
       "<style scoped>\n",
       "    .dataframe tbody tr th:only-of-type {\n",
       "        vertical-align: middle;\n",
       "    }\n",
       "\n",
       "    .dataframe tbody tr th {\n",
       "        vertical-align: top;\n",
       "    }\n",
       "\n",
       "    .dataframe thead th {\n",
       "        text-align: right;\n",
       "    }\n",
       "</style>\n",
       "<table border=\"1\" class=\"dataframe\">\n",
       "  <thead>\n",
       "    <tr style=\"text-align: right;\">\n",
       "      <th></th>\n",
       "      <th>0</th>\n",
       "      <th>1</th>\n",
       "      <th>2</th>\n",
       "      <th>3</th>\n",
       "      <th>4</th>\n",
       "      <th>5</th>\n",
       "      <th>6</th>\n",
       "      <th>7</th>\n",
       "      <th>8</th>\n",
       "      <th>9</th>\n",
       "      <th>...</th>\n",
       "      <th>79</th>\n",
       "      <th>80</th>\n",
       "      <th>81</th>\n",
       "      <th>82</th>\n",
       "      <th>83</th>\n",
       "      <th>84</th>\n",
       "      <th>85</th>\n",
       "      <th>86</th>\n",
       "      <th>87</th>\n",
       "      <th>0</th>\n",
       "    </tr>\n",
       "  </thead>\n",
       "  <tbody>\n",
       "    <tr>\n",
       "      <th>0</th>\n",
       "      <td>18.330690</td>\n",
       "      <td>-3.604139</td>\n",
       "      <td>-7.604361</td>\n",
       "      <td>0.090369</td>\n",
       "      <td>1.048335</td>\n",
       "      <td>2.074999</td>\n",
       "      <td>2.436813</td>\n",
       "      <td>-5.664631</td>\n",
       "      <td>-4.193139</td>\n",
       "      <td>3.427150</td>\n",
       "      <td>...</td>\n",
       "      <td>-1.932649</td>\n",
       "      <td>0.754784</td>\n",
       "      <td>1.441342</td>\n",
       "      <td>-0.858779</td>\n",
       "      <td>3.650678</td>\n",
       "      <td>0.512048</td>\n",
       "      <td>-0.386451</td>\n",
       "      <td>-0.514563</td>\n",
       "      <td>0.081894</td>\n",
       "      <td>-1.008667</td>\n",
       "    </tr>\n",
       "    <tr>\n",
       "      <th>1</th>\n",
       "      <td>-3.641221</td>\n",
       "      <td>-4.594519</td>\n",
       "      <td>0.736721</td>\n",
       "      <td>3.845942</td>\n",
       "      <td>5.325299</td>\n",
       "      <td>1.771576</td>\n",
       "      <td>-1.222113</td>\n",
       "      <td>-2.193195</td>\n",
       "      <td>-1.851584</td>\n",
       "      <td>-0.973812</td>\n",
       "      <td>...</td>\n",
       "      <td>-0.170597</td>\n",
       "      <td>0.549421</td>\n",
       "      <td>-2.550722</td>\n",
       "      <td>-0.384836</td>\n",
       "      <td>-2.091030</td>\n",
       "      <td>0.812368</td>\n",
       "      <td>2.079159</td>\n",
       "      <td>1.006274</td>\n",
       "      <td>1.466778</td>\n",
       "      <td>0.991407</td>\n",
       "    </tr>\n",
       "    <tr>\n",
       "      <th>2</th>\n",
       "      <td>0.081501</td>\n",
       "      <td>4.528892</td>\n",
       "      <td>-3.713134</td>\n",
       "      <td>2.723486</td>\n",
       "      <td>0.806007</td>\n",
       "      <td>1.836353</td>\n",
       "      <td>2.666854</td>\n",
       "      <td>-1.446876</td>\n",
       "      <td>-1.449991</td>\n",
       "      <td>-0.941021</td>\n",
       "      <td>...</td>\n",
       "      <td>0.214532</td>\n",
       "      <td>-1.138663</td>\n",
       "      <td>1.881605</td>\n",
       "      <td>-0.523261</td>\n",
       "      <td>-0.355473</td>\n",
       "      <td>0.027940</td>\n",
       "      <td>0.604157</td>\n",
       "      <td>0.587872</td>\n",
       "      <td>-0.846940</td>\n",
       "      <td>-1.008667</td>\n",
       "    </tr>\n",
       "    <tr>\n",
       "      <th>3</th>\n",
       "      <td>2.172412</td>\n",
       "      <td>-2.204046</td>\n",
       "      <td>0.828402</td>\n",
       "      <td>6.788101</td>\n",
       "      <td>3.263007</td>\n",
       "      <td>-0.989793</td>\n",
       "      <td>0.457129</td>\n",
       "      <td>2.894954</td>\n",
       "      <td>2.214686</td>\n",
       "      <td>-0.129455</td>\n",
       "      <td>...</td>\n",
       "      <td>0.650737</td>\n",
       "      <td>0.918886</td>\n",
       "      <td>-0.298843</td>\n",
       "      <td>0.081503</td>\n",
       "      <td>0.391764</td>\n",
       "      <td>-1.106691</td>\n",
       "      <td>-0.063714</td>\n",
       "      <td>-0.469542</td>\n",
       "      <td>-0.485635</td>\n",
       "      <td>0.991407</td>\n",
       "    </tr>\n",
       "    <tr>\n",
       "      <th>4</th>\n",
       "      <td>-5.398395</td>\n",
       "      <td>-4.213638</td>\n",
       "      <td>-1.590897</td>\n",
       "      <td>-0.050446</td>\n",
       "      <td>-2.845771</td>\n",
       "      <td>3.596250</td>\n",
       "      <td>0.792037</td>\n",
       "      <td>0.483035</td>\n",
       "      <td>-3.264966</td>\n",
       "      <td>2.084432</td>\n",
       "      <td>...</td>\n",
       "      <td>0.559624</td>\n",
       "      <td>1.596810</td>\n",
       "      <td>0.100304</td>\n",
       "      <td>0.519960</td>\n",
       "      <td>-0.662417</td>\n",
       "      <td>-0.851275</td>\n",
       "      <td>0.205546</td>\n",
       "      <td>-1.507765</td>\n",
       "      <td>-0.156457</td>\n",
       "      <td>0.991407</td>\n",
       "    </tr>\n",
       "    <tr>\n",
       "      <th>...</th>\n",
       "      <td>...</td>\n",
       "      <td>...</td>\n",
       "      <td>...</td>\n",
       "      <td>...</td>\n",
       "      <td>...</td>\n",
       "      <td>...</td>\n",
       "      <td>...</td>\n",
       "      <td>...</td>\n",
       "      <td>...</td>\n",
       "      <td>...</td>\n",
       "      <td>...</td>\n",
       "      <td>...</td>\n",
       "      <td>...</td>\n",
       "      <td>...</td>\n",
       "      <td>...</td>\n",
       "      <td>...</td>\n",
       "      <td>...</td>\n",
       "      <td>...</td>\n",
       "      <td>...</td>\n",
       "      <td>...</td>\n",
       "      <td>...</td>\n",
       "    </tr>\n",
       "    <tr>\n",
       "      <th>2892</th>\n",
       "      <td>-3.030840</td>\n",
       "      <td>-1.250503</td>\n",
       "      <td>-2.365265</td>\n",
       "      <td>0.338169</td>\n",
       "      <td>-2.147392</td>\n",
       "      <td>0.011395</td>\n",
       "      <td>-0.618147</td>\n",
       "      <td>-0.730097</td>\n",
       "      <td>0.496354</td>\n",
       "      <td>1.929929</td>\n",
       "      <td>...</td>\n",
       "      <td>0.146175</td>\n",
       "      <td>1.628009</td>\n",
       "      <td>-0.108437</td>\n",
       "      <td>0.192145</td>\n",
       "      <td>-0.457686</td>\n",
       "      <td>0.448107</td>\n",
       "      <td>-1.065477</td>\n",
       "      <td>0.035420</td>\n",
       "      <td>0.571895</td>\n",
       "      <td>0.991407</td>\n",
       "    </tr>\n",
       "    <tr>\n",
       "      <th>2893</th>\n",
       "      <td>0.929363</td>\n",
       "      <td>-0.917702</td>\n",
       "      <td>4.166536</td>\n",
       "      <td>-0.630719</td>\n",
       "      <td>4.921542</td>\n",
       "      <td>-2.867036</td>\n",
       "      <td>-3.175363</td>\n",
       "      <td>3.598093</td>\n",
       "      <td>-5.734822</td>\n",
       "      <td>-0.646322</td>\n",
       "      <td>...</td>\n",
       "      <td>-0.100433</td>\n",
       "      <td>-0.378713</td>\n",
       "      <td>0.228391</td>\n",
       "      <td>-0.258741</td>\n",
       "      <td>-0.098038</td>\n",
       "      <td>0.205002</td>\n",
       "      <td>0.200853</td>\n",
       "      <td>-0.716018</td>\n",
       "      <td>-1.195922</td>\n",
       "      <td>-1.008667</td>\n",
       "    </tr>\n",
       "    <tr>\n",
       "      <th>2894</th>\n",
       "      <td>1.775568</td>\n",
       "      <td>4.340705</td>\n",
       "      <td>-1.907063</td>\n",
       "      <td>-1.541913</td>\n",
       "      <td>0.278805</td>\n",
       "      <td>0.640501</td>\n",
       "      <td>-0.120412</td>\n",
       "      <td>1.386355</td>\n",
       "      <td>1.557679</td>\n",
       "      <td>-0.176801</td>\n",
       "      <td>...</td>\n",
       "      <td>0.909810</td>\n",
       "      <td>0.680655</td>\n",
       "      <td>-0.905044</td>\n",
       "      <td>-0.254140</td>\n",
       "      <td>-0.156568</td>\n",
       "      <td>-0.028419</td>\n",
       "      <td>0.118171</td>\n",
       "      <td>-0.652137</td>\n",
       "      <td>0.271282</td>\n",
       "      <td>-1.008667</td>\n",
       "    </tr>\n",
       "    <tr>\n",
       "      <th>2895</th>\n",
       "      <td>-1.079427</td>\n",
       "      <td>1.061339</td>\n",
       "      <td>0.155231</td>\n",
       "      <td>-2.138689</td>\n",
       "      <td>-0.325118</td>\n",
       "      <td>-0.953752</td>\n",
       "      <td>-0.206752</td>\n",
       "      <td>0.770928</td>\n",
       "      <td>-0.011496</td>\n",
       "      <td>-0.769257</td>\n",
       "      <td>...</td>\n",
       "      <td>-0.104845</td>\n",
       "      <td>-0.352094</td>\n",
       "      <td>0.231369</td>\n",
       "      <td>-0.076481</td>\n",
       "      <td>0.158386</td>\n",
       "      <td>0.194836</td>\n",
       "      <td>-0.245459</td>\n",
       "      <td>-0.536988</td>\n",
       "      <td>-1.425613</td>\n",
       "      <td>-1.008667</td>\n",
       "    </tr>\n",
       "    <tr>\n",
       "      <th>2896</th>\n",
       "      <td>2.180793</td>\n",
       "      <td>-2.103188</td>\n",
       "      <td>-3.902775</td>\n",
       "      <td>1.335754</td>\n",
       "      <td>-0.708262</td>\n",
       "      <td>-3.148914</td>\n",
       "      <td>2.809101</td>\n",
       "      <td>0.331504</td>\n",
       "      <td>0.296708</td>\n",
       "      <td>0.684699</td>\n",
       "      <td>...</td>\n",
       "      <td>-0.055842</td>\n",
       "      <td>-0.536395</td>\n",
       "      <td>-0.238430</td>\n",
       "      <td>0.071255</td>\n",
       "      <td>0.343175</td>\n",
       "      <td>0.106385</td>\n",
       "      <td>-0.575826</td>\n",
       "      <td>-0.113412</td>\n",
       "      <td>-0.198420</td>\n",
       "      <td>0.991407</td>\n",
       "    </tr>\n",
       "  </tbody>\n",
       "</table>\n",
       "<p>2897 rows × 89 columns</p>\n",
       "</div>"
      ],
      "text/plain": [
       "             0         1         2         3         4         5         6   \\\n",
       "0     18.330690 -3.604139 -7.604361  0.090369  1.048335  2.074999  2.436813   \n",
       "1     -3.641221 -4.594519  0.736721  3.845942  5.325299  1.771576 -1.222113   \n",
       "2      0.081501  4.528892 -3.713134  2.723486  0.806007  1.836353  2.666854   \n",
       "3      2.172412 -2.204046  0.828402  6.788101  3.263007 -0.989793  0.457129   \n",
       "4     -5.398395 -4.213638 -1.590897 -0.050446 -2.845771  3.596250  0.792037   \n",
       "...         ...       ...       ...       ...       ...       ...       ...   \n",
       "2892  -3.030840 -1.250503 -2.365265  0.338169 -2.147392  0.011395 -0.618147   \n",
       "2893   0.929363 -0.917702  4.166536 -0.630719  4.921542 -2.867036 -3.175363   \n",
       "2894   1.775568  4.340705 -1.907063 -1.541913  0.278805  0.640501 -0.120412   \n",
       "2895  -1.079427  1.061339  0.155231 -2.138689 -0.325118 -0.953752 -0.206752   \n",
       "2896   2.180793 -2.103188 -3.902775  1.335754 -0.708262 -3.148914  2.809101   \n",
       "\n",
       "            7         8         9   ...        79        80        81  \\\n",
       "0    -5.664631 -4.193139  3.427150  ... -1.932649  0.754784  1.441342   \n",
       "1    -2.193195 -1.851584 -0.973812  ... -0.170597  0.549421 -2.550722   \n",
       "2    -1.446876 -1.449991 -0.941021  ...  0.214532 -1.138663  1.881605   \n",
       "3     2.894954  2.214686 -0.129455  ...  0.650737  0.918886 -0.298843   \n",
       "4     0.483035 -3.264966  2.084432  ...  0.559624  1.596810  0.100304   \n",
       "...        ...       ...       ...  ...       ...       ...       ...   \n",
       "2892 -0.730097  0.496354  1.929929  ...  0.146175  1.628009 -0.108437   \n",
       "2893  3.598093 -5.734822 -0.646322  ... -0.100433 -0.378713  0.228391   \n",
       "2894  1.386355  1.557679 -0.176801  ...  0.909810  0.680655 -0.905044   \n",
       "2895  0.770928 -0.011496 -0.769257  ... -0.104845 -0.352094  0.231369   \n",
       "2896  0.331504  0.296708  0.684699  ... -0.055842 -0.536395 -0.238430   \n",
       "\n",
       "            82        83        84        85        86        87        0   \n",
       "0    -0.858779  3.650678  0.512048 -0.386451 -0.514563  0.081894 -1.008667  \n",
       "1    -0.384836 -2.091030  0.812368  2.079159  1.006274  1.466778  0.991407  \n",
       "2    -0.523261 -0.355473  0.027940  0.604157  0.587872 -0.846940 -1.008667  \n",
       "3     0.081503  0.391764 -1.106691 -0.063714 -0.469542 -0.485635  0.991407  \n",
       "4     0.519960 -0.662417 -0.851275  0.205546 -1.507765 -0.156457  0.991407  \n",
       "...        ...       ...       ...       ...       ...       ...       ...  \n",
       "2892  0.192145 -0.457686  0.448107 -1.065477  0.035420  0.571895  0.991407  \n",
       "2893 -0.258741 -0.098038  0.205002  0.200853 -0.716018 -1.195922 -1.008667  \n",
       "2894 -0.254140 -0.156568 -0.028419  0.118171 -0.652137  0.271282 -1.008667  \n",
       "2895 -0.076481  0.158386  0.194836 -0.245459 -0.536988 -1.425613 -1.008667  \n",
       "2896  0.071255  0.343175  0.106385 -0.575826 -0.113412 -0.198420  0.991407  \n",
       "\n",
       "[2897 rows x 89 columns]"
      ]
     },
     "execution_count": 31,
     "metadata": {},
     "output_type": "execute_result"
    }
   ],
   "source": [
    "X = pd.concat([pca_result_df_list[3], gender_scaled], axis=1)\n",
    "X"
   ]
  },
  {
   "cell_type": "code",
   "execution_count": 32,
   "metadata": {},
   "outputs": [
    {
     "name": "stdout",
     "output_type": "stream",
     "text": [
      "{'C': 0.001, 'max_iter': 100, 'solver': 'lbfgs'}\n"
     ]
    }
   ],
   "source": [
    "# Split the data into training and testing sets\n",
    "X_train2, X_test2, y_train2, y_test2 = train_test_split(X, target, test_size=0.3, random_state=42)\n",
    "\n",
    "# Create a logistic regression model\n",
    "logistic2 = LogisticRegression(random_state=42)\n",
    "\n",
    "# Create the grid search with cross-validation\n",
    "grid_search2 = GridSearchCV(estimator=logistic2, param_grid=param_grid, cv=5, scoring='roc_auc')\n",
    "\n",
    "# Fit the grid search to the training data\n",
    "grid_search2.fit(X_train2, y_train2)\n",
    "\n",
    "# Get the best hyperparameters\n",
    "best_params2 = grid_search2.best_params_\n",
    "print(best_params2)\n",
    "\n",
    "# Create a logistic regression model with the best hyperparameters\n",
    "best_logistic2 = LogisticRegression(**best_params2)\n",
    "\n",
    "# Fit the best model to the training data\n",
    "best_logistic2.fit(X_train2, y_train2)\n",
    "\n",
    "# Make predictions on the test data\n",
    "y_pred2 = best_logistic2.predict(X_test2)"
   ]
  },
  {
   "cell_type": "code",
   "execution_count": 33,
   "metadata": {},
   "outputs": [
    {
     "name": "stdout",
     "output_type": "stream",
     "text": [
      "              precision    recall  f1-score   support\n",
      "\n",
      "         0.0       0.74      0.86      0.79       530\n",
      "         1.0       0.71      0.52      0.60       340\n",
      "\n",
      "    accuracy                           0.73       870\n",
      "   macro avg       0.72      0.69      0.70       870\n",
      "weighted avg       0.72      0.73      0.72       870\n",
      "\n"
     ]
    },
    {
     "data": {
      "image/png": "[encoded data removed]",
      "text/plain": [
       "<Figure size 576x360 with 2 Axes>"
      ]
     },
     "metadata": {
      "needs_background": "light"
     },
     "output_type": "display_data"
    },
    {
     "data": {
      "text/plain": [
       "{'0.0': {'precision': 0.7359098228663447,\n",
       "  'recall': 0.8622641509433963,\n",
       "  'f1-score': 0.794092093831451,\n",
       "  'support': 530},\n",
       " '1.0': {'precision': 0.7068273092369478,\n",
       "  'recall': 0.5176470588235295,\n",
       "  'f1-score': 0.5976230899830222,\n",
       "  'support': 340},\n",
       " 'accuracy': 0.7275862068965517,\n",
       " 'macro avg': {'precision': 0.7213685660516462,\n",
       "  'recall': 0.6899556048834629,\n",
       "  'f1-score': 0.6958575919072365,\n",
       "  'support': 870},\n",
       " 'weighted avg': {'precision': 0.72454424282727,\n",
       "  'recall': 0.7275862068965517,\n",
       "  'f1-score': 0.7173111038217201,\n",
       "  'support': 870}}"
      ]
     },
     "execution_count": 33,
     "metadata": {},
     "output_type": "execute_result"
    }
   ],
   "source": [
    "metrics_score(y_test2, y_pred2)"
   ]
  },
  {
   "cell_type": "markdown",
   "metadata": {},
   "source": [
    "## Pipelines (Not finished)"
   ]
  },
  {
   "cell_type": "code",
   "execution_count": 34,
   "metadata": {},
   "outputs": [],
   "source": [
    "# Define the pipeline with all custom transformers and standard steps\n",
    "#full_pipeline = Pipeline([\n",
    "#    ('feature_selector', FeatureSelector(threshold_unique_values=10)),  # Select relevant features\n",
    "#    ('data_cleaner', DataCleaner(threshold=10, fill_method=2)),          # Apply data cleaning\n",
    "#    ('extractor', ExtractTargetFeatures()),                              # Extract target and features\n",
    "#    ('scaler', StandardScaler()),                                        # Standardize the data\n",
    "#    ('pca', PCA(n_components=10)),                                       # Perform PCA with 10 components\n",
    "#    ('classifier', RandomForestClassifier(random_state=42))             # RandomForest classifier\n",
    "#])\n",
    "#\n",
    "## Train the full pipeline on your data\n",
    "#full_pipeline.fit(X_train, y_train)\"\"\""
   ]
  },
  {
   "cell_type": "code",
   "execution_count": 35,
   "metadata": {},
   "outputs": [],
   "source": [
    "#data_prep_for_pca_pipeline = Pipeline([\n",
    "#    ('feature_selector', NumericCategoricalFeaturesCleaner(threshold_unique_values=10)),    # Select relevant features\n",
    "#    ('data_cleaner', DataCleaner(threshold=10, fill_method=2)),                             # Apply data cleaning\n",
    "#    ('extractor', ExtractTargetFeatures()),                                                 # Extract target and features\n",
    "#    ('scaler', StandardScaler()),                                                           # Standardize the data\n",
    "#])\n",
    "#\n",
    "## Train the full pipeline on your data\n",
    "#data_prep_for_pca_pipeline.fit(numeric_df)\"\"\""
   ]
  }
 ],
 "metadata": {
  "kernelspec": {
   "display_name": "Python 3",
   "language": "python",
   "name": "python3"
  },
  "language_info": {
   "codemirror_mode": {
    "name": "ipython",
    "version": 3
   },
   "file_extension": ".py",
   "mimetype": "text/x-python",
   "name": "python",
   "nbconvert_exporter": "python",
   "pygments_lexer": "ipython3",
   "version": "3.9.2"
  },
  "orig_nbformat": 4
 },
 "nbformat": 4,
 "nbformat_minor": 2
}
