{
 "cells": [
  {
   "cell_type": "markdown",
   "metadata": {},
   "source": [
    "The NHANES dataset is stored in numerous .xpt files. These files are located in 5 different folders:\n",
    "'Demographics', 'Dietary', 'Examination', 'Laboratory', 'Questionnaire'\n",
    "\n",
    "This folder structure matches the one found at NHANES website: \n",
    "https://wwwn.cdc.gov/nchs/nhanes/continuousnhanes/default.aspx?BeginYear=2013\n",
    "\n",
    "A detailed explanation of each variable can be found there."
   ]
  },
  {
   "cell_type": "markdown",
   "metadata": {},
   "source": [
    "# Imports"
   ]
  },
  {
   "cell_type": "code",
   "execution_count": 1,
   "metadata": {},
   "outputs": [],
   "source": [
    "import pandas as pd\n",
    "import os"
   ]
  },
  {
   "cell_type": "code",
   "execution_count": 2,
   "metadata": {},
   "outputs": [],
   "source": [
    "data_location = os.path.join(os.getcwd(), \"data\")\n",
    "xpt_location = os.path.join(data_location, \"xpt\") "
   ]
  },
  {
   "cell_type": "code",
   "execution_count": 3,
   "metadata": {},
   "outputs": [
    {
     "data": {
      "text/plain": [
       "['.DS_Store',\n",
       " 'Laboratory',\n",
       " 'Dietary',\n",
       " 'Demographics',\n",
       " 'Questionnaire',\n",
       " 'Examination']"
      ]
     },
     "execution_count": 3,
     "metadata": {},
     "output_type": "execute_result"
    }
   ],
   "source": [
    "os.listdir(xpt_location)"
   ]
  },
  {
   "cell_type": "code",
   "execution_count": 4,
   "metadata": {},
   "outputs": [
    {
     "name": "stdout",
     "output_type": "stream",
     "text": [
      "Laboratory\n",
      "['utass_h.xpt', 'cbc_h.xpt', 'tgema_h.xpt', 'ucflow_h.xpt', 'cafe_h.xpt', 'folfms_h.xpt', 'alb_cr_h.xpt', 'ethox_h.xpt', 'vna_h.xpt', 'hpvswr_h.xpt', 'vitb12_h.xpt', 'ald_h.xpt', 'orhpv_h.xpt', 'uphopm_h.xpt', 'uhg_h.xpt', 'hcaas_h.xpt', 'aa_h.xpt', 'pernt_h.xpt', 'uvoc_h.xpt', 'mma_h.xpt', 'ucpreg_h.xpt', 'ogtt_h.xpt', 'aas_h.xpt', 'tsna_h.xpt', 'vocwbs_h.xpt', 'hpvp_h.xpt', 'hiv_h.xpt', 'ssphte_h.xpt', 'bfrpol_h.xpt', 'glu_h.xpt', 'chlmda_h.xpt', 'cusezn_h.xpt', 'ssct_h.xpt', 'uvocs_h.xpt', 'formas_h.xpt', 'tst_h.xpt', 'formal_h.xpt', 'cot_h.xpt', 'trich_h.xpt', 'hsv_h.xpt', 'sspfac_h.xpt', 'uio_h.xpt', 'ums_h.xpt', 'uas_h.xpt', 'sskl_h.xpt', 'ethoxs_h.xpt', 'ssglyp_h.xpt', 'amdgds_h.xpt', 'fastqx_h.xpt', 'pstpol_h.xpt', 'ssflrt_h.xpt', 'amdgyd_h.xpt', 'fldew_h.xpt', 'sstoca_h.xpt', 'sssnfl_h.xpt', 'pah_h.xpt', 'sspfsu_h.xpt', 'tchol_h.xpt', 'hdl_h.xpt', 'hcaa_h.xpt', 'sshepc_h.xpt', 'pfas_h.xpt', 'pbcd_h.xpt', 'folate_h.xpt', 'uass_h.xpt', 'vid_h.xpt', 'pooltf_h.xpt', 'phthte_h.xpt', 'ucot_h.xpt', 'um_h.xpt', 'ghb_h.xpt', 'sstoxo_h.xpt', 'pernts_h.xpt', 'hepa_h.xpt', 'deet_h.xpt', 'ins_h.xpt', 'ephpp_h.xpt', 'hepbd_h.xpt', 'ihgem_h.xpt', 'ucots_h.xpt', 'hepc_h.xpt', 'fas_h.xpt', 'ssterp_h.xpt', 'alds_h.xpt', 'utas_h.xpt', 'sspfas_h.xpt', 'vnas_h.xpt', 'apob_h.xpt', 'hepe_h.xpt', 'pcbpol_h.xpt', 'trigly_h.xpt', 'vocwb_h.xpt', 'fldep_h.xpt', 'biopro_h.xpt', 'hepb_s_h.xpt'] \n",
      "\n",
      "Dietary\n",
      "['ds1ids_h.xpt', 'ds2tot_h.xpt', 'dsqids_h.xpt', 'dr2iff_h.xpt', 'dsbi.xpt', 'drxfcd_h.xpt', 'dsii.xpt', 'dspi.xpt', 'dr2tot_h.xpt', 'ds1tot_h.xpt', 'dr1iff_h.xpt', 'ds2ids_h.xpt', 'dsqtot_h.xpt', 'dr1tot_h.xpt'] \n",
      "\n",
      "Demographics\n",
      "['demo_h.xpt'] \n",
      "\n",
      "Questionnaire\n",
      "['rhq_h.xpt', 'dbq_h.xpt', 'kiq_u_h.xpt', 'hsq_h.xpt', 'smqshs_h.xpt', 'hiq_h.xpt', 'rxqasa_h.xpt', 'ohq_h.xpt', 'heq_h.xpt', 'rxq_rx_h.xpt', 'whqmec_h.xpt', 'dlq_h.xpt', 'huq_h.xpt', 'pfq_h.xpt', 'sxq_h.xpt', 'smqrtu_h.xpt', 'dpq_h.xpt', 'slq_h.xpt', 'ckq_h.xpt', 'acq_h.xpt', 'csq_h.xpt', 'hoq_h.xpt', 'imq_h.xpt', 'mcq_h.xpt', 'osq_h.xpt', 'paq_h.xpt', 'fsq_h.xpt', 'cbq_h.xpt', 'ecq_h.xpt', 'duq_h.xpt', 'vtq_h.xpt', 'puqmec_h.xpt', 'smqfam_h.xpt', 'smq_h.xpt', 'alq_h.xpt', 'deq_h.xpt', 'diq_h.xpt', 'cdq_h.xpt', 'inq_h.xpt', 'ocq_h.xpt', 'bpq_h.xpt', 'cfq_h.xpt', 'whq_h.xpt'] \n",
      "\n",
      "Examination\n",
      "['dxxt9_h.xpt', 'dxxspn_h.xpt', 'dxxt12_h.xpt', 'dxxt10_h.xpt', 'dxxt8_h.xpt', 'dxxvfa_h.xpt', 'dxxt11_h.xpt', 'bpx_h.xpt', 'ohxref_h.xpt', 'paxday_h.xpt', 'mgx_h.xpt', 'paxhd_h.xpt', 'dxxl2_h.xpt', 'bmx_h.xpt', 'dxx_h.xpt', 'dxxt6_h.xpt', 'dxxfrx_h.xpt', 'flxcln_h.xpt', 'dxxl4_h.xpt', 'dxxt4_h.xpt', 'ohxper_h.xpt', 'dxxl3_h.xpt', 'dxxag_h.xpt', 'paxhr_h.xpt', 'dxxl1_h.xpt', 'dxxaac_h.xpt', 'dxxt5_h.xpt', 'dxxfem_h.xpt', 'dxxt7_h.xpt', 'paxmin_h.xpt', 'csx_h.xpt', 'ohxden_h.xpt'] \n",
      "\n"
     ]
    }
   ],
   "source": [
    "for folder in os.listdir(xpt_location):\n",
    "    if folder == '.DS_Store':\n",
    "        continue\n",
    "    print(folder)\n",
    "    print(os.listdir(os.path.join(xpt_location, folder)), '\\n')"
   ]
  },
  {
   "cell_type": "code",
   "execution_count": 5,
   "metadata": {},
   "outputs": [
    {
     "data": {
      "text/plain": [
       "(10175, 47)"
      ]
     },
     "execution_count": 5,
     "metadata": {},
     "output_type": "execute_result"
    }
   ],
   "source": [
    "df = pd.read_sas(os.path.join(xpt_location,'Demographics', 'demo_h.xpt'))\n",
    "df.shape"
   ]
  },
  {
   "cell_type": "markdown",
   "metadata": {},
   "source": [
    "# Demographics"
   ]
  },
  {
   "cell_type": "code",
   "execution_count": 6,
   "metadata": {},
   "outputs": [
    {
     "data": {
      "text/html": [
       "<div>\n",
       "<style scoped>\n",
       "    .dataframe tbody tr th:only-of-type {\n",
       "        vertical-align: middle;\n",
       "    }\n",
       "\n",
       "    .dataframe tbody tr th {\n",
       "        vertical-align: top;\n",
       "    }\n",
       "\n",
       "    .dataframe thead th {\n",
       "        text-align: right;\n",
       "    }\n",
       "</style>\n",
       "<table border=\"1\" class=\"dataframe\">\n",
       "  <thead>\n",
       "    <tr style=\"text-align: right;\">\n",
       "      <th></th>\n",
       "      <th>SEQN</th>\n",
       "      <th>SDDSRVYR</th>\n",
       "      <th>RIDSTATR</th>\n",
       "      <th>RIAGENDR</th>\n",
       "      <th>RIDAGEYR</th>\n",
       "      <th>RIDAGEMN</th>\n",
       "      <th>RIDRETH1</th>\n",
       "      <th>RIDRETH3</th>\n",
       "      <th>RIDEXMON</th>\n",
       "      <th>RIDEXAGM</th>\n",
       "      <th>...</th>\n",
       "      <th>DMDHREDU</th>\n",
       "      <th>DMDHRMAR</th>\n",
       "      <th>DMDHSEDU</th>\n",
       "      <th>WTINT2YR</th>\n",
       "      <th>WTMEC2YR</th>\n",
       "      <th>SDMVPSU</th>\n",
       "      <th>SDMVSTRA</th>\n",
       "      <th>INDHHIN2</th>\n",
       "      <th>INDFMIN2</th>\n",
       "      <th>INDFMPIR</th>\n",
       "    </tr>\n",
       "  </thead>\n",
       "  <tbody>\n",
       "    <tr>\n",
       "      <th>0</th>\n",
       "      <td>73557.0</td>\n",
       "      <td>8.0</td>\n",
       "      <td>2.0</td>\n",
       "      <td>1.0</td>\n",
       "      <td>69.0</td>\n",
       "      <td>NaN</td>\n",
       "      <td>4.0</td>\n",
       "      <td>4.0</td>\n",
       "      <td>1.0</td>\n",
       "      <td>NaN</td>\n",
       "      <td>...</td>\n",
       "      <td>3.0</td>\n",
       "      <td>4.0</td>\n",
       "      <td>NaN</td>\n",
       "      <td>13281.237386</td>\n",
       "      <td>13481.042095</td>\n",
       "      <td>1.0</td>\n",
       "      <td>112.0</td>\n",
       "      <td>4.0</td>\n",
       "      <td>4.0</td>\n",
       "      <td>0.84</td>\n",
       "    </tr>\n",
       "    <tr>\n",
       "      <th>1</th>\n",
       "      <td>73558.0</td>\n",
       "      <td>8.0</td>\n",
       "      <td>2.0</td>\n",
       "      <td>1.0</td>\n",
       "      <td>54.0</td>\n",
       "      <td>NaN</td>\n",
       "      <td>3.0</td>\n",
       "      <td>3.0</td>\n",
       "      <td>1.0</td>\n",
       "      <td>NaN</td>\n",
       "      <td>...</td>\n",
       "      <td>3.0</td>\n",
       "      <td>1.0</td>\n",
       "      <td>1.0</td>\n",
       "      <td>23682.057386</td>\n",
       "      <td>24471.769625</td>\n",
       "      <td>1.0</td>\n",
       "      <td>108.0</td>\n",
       "      <td>7.0</td>\n",
       "      <td>7.0</td>\n",
       "      <td>1.78</td>\n",
       "    </tr>\n",
       "    <tr>\n",
       "      <th>2</th>\n",
       "      <td>73559.0</td>\n",
       "      <td>8.0</td>\n",
       "      <td>2.0</td>\n",
       "      <td>1.0</td>\n",
       "      <td>72.0</td>\n",
       "      <td>NaN</td>\n",
       "      <td>3.0</td>\n",
       "      <td>3.0</td>\n",
       "      <td>2.0</td>\n",
       "      <td>NaN</td>\n",
       "      <td>...</td>\n",
       "      <td>4.0</td>\n",
       "      <td>1.0</td>\n",
       "      <td>3.0</td>\n",
       "      <td>57214.803319</td>\n",
       "      <td>57193.285376</td>\n",
       "      <td>1.0</td>\n",
       "      <td>109.0</td>\n",
       "      <td>10.0</td>\n",
       "      <td>10.0</td>\n",
       "      <td>4.51</td>\n",
       "    </tr>\n",
       "  </tbody>\n",
       "</table>\n",
       "<p>3 rows × 47 columns</p>\n",
       "</div>"
      ],
      "text/plain": [
       "      SEQN  SDDSRVYR  RIDSTATR  RIAGENDR  RIDAGEYR  RIDAGEMN  RIDRETH1  \\\n",
       "0  73557.0       8.0       2.0       1.0      69.0       NaN       4.0   \n",
       "1  73558.0       8.0       2.0       1.0      54.0       NaN       3.0   \n",
       "2  73559.0       8.0       2.0       1.0      72.0       NaN       3.0   \n",
       "\n",
       "   RIDRETH3  RIDEXMON  RIDEXAGM  ...  DMDHREDU  DMDHRMAR  DMDHSEDU  \\\n",
       "0       4.0       1.0       NaN  ...       3.0       4.0       NaN   \n",
       "1       3.0       1.0       NaN  ...       3.0       1.0       1.0   \n",
       "2       3.0       2.0       NaN  ...       4.0       1.0       3.0   \n",
       "\n",
       "       WTINT2YR      WTMEC2YR  SDMVPSU  SDMVSTRA  INDHHIN2  INDFMIN2  INDFMPIR  \n",
       "0  13281.237386  13481.042095      1.0     112.0       4.0       4.0      0.84  \n",
       "1  23682.057386  24471.769625      1.0     108.0       7.0       7.0      1.78  \n",
       "2  57214.803319  57193.285376      1.0     109.0      10.0      10.0      4.51  \n",
       "\n",
       "[3 rows x 47 columns]"
      ]
     },
     "execution_count": 6,
     "metadata": {},
     "output_type": "execute_result"
    }
   ],
   "source": [
    "df.head(3)"
   ]
  },
  {
   "cell_type": "markdown",
   "metadata": {},
   "source": [
    "Todo: some analysis here"
   ]
  },
  {
   "cell_type": "markdown",
   "metadata": {},
   "source": []
  }
 ],
 "metadata": {
  "kernelspec": {
   "display_name": ".environment",
   "language": "python",
   "name": "python3"
  },
  "language_info": {
   "codemirror_mode": {
    "name": "ipython",
    "version": 3
   },
   "file_extension": ".py",
   "mimetype": "text/x-python",
   "name": "python",
   "nbconvert_exporter": "python",
   "pygments_lexer": "ipython3",
   "version": "3.10.8"
  },
  "orig_nbformat": 4
 },
 "nbformat": 4,
 "nbformat_minor": 2
}
